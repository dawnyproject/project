{
 "cells": [
  {
   "cell_type": "markdown",
   "id": "d9a346b9",
   "metadata": {},
   "source": [
    "# 쇼핑몰 지점별 매출액 예측 경진대회\n",
    "# 결측치 0"
   ]
  },
  {
   "cell_type": "markdown",
   "id": "485e88ff",
   "metadata": {},
   "source": [
    "## 라이브러리"
   ]
  },
  {
   "cell_type": "code",
   "execution_count": 44,
   "id": "15a0dfe4",
   "metadata": {},
   "outputs": [],
   "source": [
    "import pandas as pd\n",
    "import numpy as np\n",
    "import seaborn as sns\n",
    "import matplotlib.pyplot as plt\n",
    "import warnings\n",
    "warnings.filterwarnings(\"ignore\", category=DeprecationWarning)"
   ]
  },
  {
   "cell_type": "markdown",
   "id": "10f9d107",
   "metadata": {},
   "source": [
    "## 경로 설정"
   ]
  },
  {
   "cell_type": "code",
   "execution_count": 45,
   "id": "a403641d",
   "metadata": {},
   "outputs": [
    {
     "data": {
      "text/plain": [
       "'C:\\\\Users\\\\82107\\\\OneDrive\\\\바탕 화면\\\\동아리\\\\쇼핑몰 매출액 예측 경진대회\\\\dataset'"
      ]
     },
     "execution_count": 45,
     "metadata": {},
     "output_type": "execute_result"
    }
   ],
   "source": [
    "import os\n",
    "os.chdir('C:\\\\Users\\\\82107\\\\OneDrive\\\\바탕 화면\\\\동아리\\\\쇼핑몰 매출액 예측 경진대회\\\\dataset')\n",
    "os.getcwd()"
   ]
  },
  {
   "cell_type": "markdown",
   "id": "2c2fd9bd",
   "metadata": {},
   "source": [
    "## 데이터 불러오기"
   ]
  },
  {
   "cell_type": "markdown",
   "id": "1d303c11",
   "metadata": {},
   "source": [
    "- 데이터 특징 살펴보기"
   ]
  },
  {
   "cell_type": "code",
   "execution_count": 46,
   "id": "22eb010d",
   "metadata": {},
   "outputs": [
    {
     "data": {
      "text/html": [
       "<div>\n",
       "<style scoped>\n",
       "    .dataframe tbody tr th:only-of-type {\n",
       "        vertical-align: middle;\n",
       "    }\n",
       "\n",
       "    .dataframe tbody tr th {\n",
       "        vertical-align: top;\n",
       "    }\n",
       "\n",
       "    .dataframe thead th {\n",
       "        text-align: right;\n",
       "    }\n",
       "</style>\n",
       "<table border=\"1\" class=\"dataframe\">\n",
       "  <thead>\n",
       "    <tr style=\"text-align: right;\">\n",
       "      <th></th>\n",
       "      <th>id</th>\n",
       "      <th>Store</th>\n",
       "      <th>Date</th>\n",
       "      <th>Temperature</th>\n",
       "      <th>Fuel_Price</th>\n",
       "      <th>Promotion1</th>\n",
       "      <th>Promotion2</th>\n",
       "      <th>Promotion3</th>\n",
       "      <th>Promotion4</th>\n",
       "      <th>Promotion5</th>\n",
       "      <th>Unemployment</th>\n",
       "      <th>IsHoliday</th>\n",
       "      <th>Weekly_Sales</th>\n",
       "    </tr>\n",
       "  </thead>\n",
       "  <tbody>\n",
       "    <tr>\n",
       "      <th>0</th>\n",
       "      <td>1</td>\n",
       "      <td>1</td>\n",
       "      <td>05/02/2010</td>\n",
       "      <td>42.31</td>\n",
       "      <td>2.572</td>\n",
       "      <td>NaN</td>\n",
       "      <td>NaN</td>\n",
       "      <td>NaN</td>\n",
       "      <td>NaN</td>\n",
       "      <td>NaN</td>\n",
       "      <td>8.106</td>\n",
       "      <td>False</td>\n",
       "      <td>1643690.90</td>\n",
       "    </tr>\n",
       "    <tr>\n",
       "      <th>1</th>\n",
       "      <td>2</td>\n",
       "      <td>1</td>\n",
       "      <td>12/02/2010</td>\n",
       "      <td>38.51</td>\n",
       "      <td>2.548</td>\n",
       "      <td>NaN</td>\n",
       "      <td>NaN</td>\n",
       "      <td>NaN</td>\n",
       "      <td>NaN</td>\n",
       "      <td>NaN</td>\n",
       "      <td>8.106</td>\n",
       "      <td>True</td>\n",
       "      <td>1641957.44</td>\n",
       "    </tr>\n",
       "    <tr>\n",
       "      <th>2</th>\n",
       "      <td>3</td>\n",
       "      <td>1</td>\n",
       "      <td>19/02/2010</td>\n",
       "      <td>39.93</td>\n",
       "      <td>2.514</td>\n",
       "      <td>NaN</td>\n",
       "      <td>NaN</td>\n",
       "      <td>NaN</td>\n",
       "      <td>NaN</td>\n",
       "      <td>NaN</td>\n",
       "      <td>8.106</td>\n",
       "      <td>False</td>\n",
       "      <td>1611968.17</td>\n",
       "    </tr>\n",
       "    <tr>\n",
       "      <th>3</th>\n",
       "      <td>4</td>\n",
       "      <td>1</td>\n",
       "      <td>26/02/2010</td>\n",
       "      <td>46.63</td>\n",
       "      <td>2.561</td>\n",
       "      <td>NaN</td>\n",
       "      <td>NaN</td>\n",
       "      <td>NaN</td>\n",
       "      <td>NaN</td>\n",
       "      <td>NaN</td>\n",
       "      <td>8.106</td>\n",
       "      <td>False</td>\n",
       "      <td>1409727.59</td>\n",
       "    </tr>\n",
       "    <tr>\n",
       "      <th>4</th>\n",
       "      <td>5</td>\n",
       "      <td>1</td>\n",
       "      <td>05/03/2010</td>\n",
       "      <td>46.50</td>\n",
       "      <td>2.625</td>\n",
       "      <td>NaN</td>\n",
       "      <td>NaN</td>\n",
       "      <td>NaN</td>\n",
       "      <td>NaN</td>\n",
       "      <td>NaN</td>\n",
       "      <td>8.106</td>\n",
       "      <td>False</td>\n",
       "      <td>1554806.68</td>\n",
       "    </tr>\n",
       "  </tbody>\n",
       "</table>\n",
       "</div>"
      ],
      "text/plain": [
       "   id  Store        Date  Temperature  Fuel_Price  Promotion1  Promotion2  \\\n",
       "0   1      1  05/02/2010        42.31       2.572         NaN         NaN   \n",
       "1   2      1  12/02/2010        38.51       2.548         NaN         NaN   \n",
       "2   3      1  19/02/2010        39.93       2.514         NaN         NaN   \n",
       "3   4      1  26/02/2010        46.63       2.561         NaN         NaN   \n",
       "4   5      1  05/03/2010        46.50       2.625         NaN         NaN   \n",
       "\n",
       "   Promotion3  Promotion4  Promotion5  Unemployment  IsHoliday  Weekly_Sales  \n",
       "0         NaN         NaN         NaN         8.106      False    1643690.90  \n",
       "1         NaN         NaN         NaN         8.106       True    1641957.44  \n",
       "2         NaN         NaN         NaN         8.106      False    1611968.17  \n",
       "3         NaN         NaN         NaN         8.106      False    1409727.59  \n",
       "4         NaN         NaN         NaN         8.106      False    1554806.68  "
      ]
     },
     "execution_count": 46,
     "metadata": {},
     "output_type": "execute_result"
    }
   ],
   "source": [
    "df=pd.read_csv('train.csv')\n",
    "df.head()"
   ]
  },
  {
   "cell_type": "code",
   "execution_count": 47,
   "id": "ca6c2d33",
   "metadata": {},
   "outputs": [
    {
     "data": {
      "text/html": [
       "<div>\n",
       "<style scoped>\n",
       "    .dataframe tbody tr th:only-of-type {\n",
       "        vertical-align: middle;\n",
       "    }\n",
       "\n",
       "    .dataframe tbody tr th {\n",
       "        vertical-align: top;\n",
       "    }\n",
       "\n",
       "    .dataframe thead th {\n",
       "        text-align: right;\n",
       "    }\n",
       "</style>\n",
       "<table border=\"1\" class=\"dataframe\">\n",
       "  <thead>\n",
       "    <tr style=\"text-align: right;\">\n",
       "      <th></th>\n",
       "      <th>id</th>\n",
       "      <th>Store</th>\n",
       "      <th>Date</th>\n",
       "      <th>Temperature</th>\n",
       "      <th>Fuel_Price</th>\n",
       "      <th>Promotion1</th>\n",
       "      <th>Promotion2</th>\n",
       "      <th>Promotion3</th>\n",
       "      <th>Promotion4</th>\n",
       "      <th>Promotion5</th>\n",
       "      <th>Unemployment</th>\n",
       "      <th>IsHoliday</th>\n",
       "      <th>Weekly_Sales</th>\n",
       "    </tr>\n",
       "  </thead>\n",
       "  <tbody>\n",
       "    <tr>\n",
       "      <th>6250</th>\n",
       "      <td>6251</td>\n",
       "      <td>45</td>\n",
       "      <td>31/08/2012</td>\n",
       "      <td>75.09</td>\n",
       "      <td>3.867</td>\n",
       "      <td>23641.30</td>\n",
       "      <td>6.00</td>\n",
       "      <td>92.93</td>\n",
       "      <td>6988.31</td>\n",
       "      <td>3992.13</td>\n",
       "      <td>8.684</td>\n",
       "      <td>False</td>\n",
       "      <td>734297.87</td>\n",
       "    </tr>\n",
       "    <tr>\n",
       "      <th>6251</th>\n",
       "      <td>6252</td>\n",
       "      <td>45</td>\n",
       "      <td>07/09/2012</td>\n",
       "      <td>75.70</td>\n",
       "      <td>3.911</td>\n",
       "      <td>11024.45</td>\n",
       "      <td>12.80</td>\n",
       "      <td>52.63</td>\n",
       "      <td>1854.77</td>\n",
       "      <td>2055.70</td>\n",
       "      <td>8.684</td>\n",
       "      <td>True</td>\n",
       "      <td>766512.66</td>\n",
       "    </tr>\n",
       "    <tr>\n",
       "      <th>6252</th>\n",
       "      <td>6253</td>\n",
       "      <td>45</td>\n",
       "      <td>14/09/2012</td>\n",
       "      <td>67.87</td>\n",
       "      <td>3.948</td>\n",
       "      <td>11407.95</td>\n",
       "      <td>NaN</td>\n",
       "      <td>4.30</td>\n",
       "      <td>3421.72</td>\n",
       "      <td>5268.92</td>\n",
       "      <td>8.684</td>\n",
       "      <td>False</td>\n",
       "      <td>702238.27</td>\n",
       "    </tr>\n",
       "    <tr>\n",
       "      <th>6253</th>\n",
       "      <td>6254</td>\n",
       "      <td>45</td>\n",
       "      <td>21/09/2012</td>\n",
       "      <td>65.32</td>\n",
       "      <td>4.038</td>\n",
       "      <td>8452.20</td>\n",
       "      <td>92.28</td>\n",
       "      <td>63.24</td>\n",
       "      <td>2376.38</td>\n",
       "      <td>8670.40</td>\n",
       "      <td>8.684</td>\n",
       "      <td>False</td>\n",
       "      <td>723086.20</td>\n",
       "    </tr>\n",
       "    <tr>\n",
       "      <th>6254</th>\n",
       "      <td>6255</td>\n",
       "      <td>45</td>\n",
       "      <td>28/09/2012</td>\n",
       "      <td>64.88</td>\n",
       "      <td>3.997</td>\n",
       "      <td>4556.61</td>\n",
       "      <td>20.64</td>\n",
       "      <td>1.50</td>\n",
       "      <td>1601.01</td>\n",
       "      <td>3288.25</td>\n",
       "      <td>8.684</td>\n",
       "      <td>False</td>\n",
       "      <td>713173.95</td>\n",
       "    </tr>\n",
       "  </tbody>\n",
       "</table>\n",
       "</div>"
      ],
      "text/plain": [
       "        id  Store        Date  Temperature  Fuel_Price  Promotion1  \\\n",
       "6250  6251     45  31/08/2012        75.09       3.867    23641.30   \n",
       "6251  6252     45  07/09/2012        75.70       3.911    11024.45   \n",
       "6252  6253     45  14/09/2012        67.87       3.948    11407.95   \n",
       "6253  6254     45  21/09/2012        65.32       4.038     8452.20   \n",
       "6254  6255     45  28/09/2012        64.88       3.997     4556.61   \n",
       "\n",
       "      Promotion2  Promotion3  Promotion4  Promotion5  Unemployment  IsHoliday  \\\n",
       "6250        6.00       92.93     6988.31     3992.13         8.684      False   \n",
       "6251       12.80       52.63     1854.77     2055.70         8.684       True   \n",
       "6252         NaN        4.30     3421.72     5268.92         8.684      False   \n",
       "6253       92.28       63.24     2376.38     8670.40         8.684      False   \n",
       "6254       20.64        1.50     1601.01     3288.25         8.684      False   \n",
       "\n",
       "      Weekly_Sales  \n",
       "6250     734297.87  \n",
       "6251     766512.66  \n",
       "6252     702238.27  \n",
       "6253     723086.20  \n",
       "6254     713173.95  "
      ]
     },
     "execution_count": 47,
     "metadata": {},
     "output_type": "execute_result"
    }
   ],
   "source": [
    "df.tail()"
   ]
  },
  {
   "cell_type": "code",
   "execution_count": 48,
   "id": "d812fd1f",
   "metadata": {},
   "outputs": [
    {
     "data": {
      "text/plain": [
       "(6255, 13)"
      ]
     },
     "execution_count": 48,
     "metadata": {},
     "output_type": "execute_result"
    }
   ],
   "source": [
    "df.shape"
   ]
  },
  {
   "cell_type": "code",
   "execution_count": 49,
   "id": "3db683fb",
   "metadata": {},
   "outputs": [
    {
     "name": "stdout",
     "output_type": "stream",
     "text": [
      "<class 'pandas.core.frame.DataFrame'>\n",
      "RangeIndex: 6255 entries, 0 to 6254\n",
      "Data columns (total 13 columns):\n",
      " #   Column        Non-Null Count  Dtype  \n",
      "---  ------        --------------  -----  \n",
      " 0   id            6255 non-null   int64  \n",
      " 1   Store         6255 non-null   int64  \n",
      " 2   Date          6255 non-null   object \n",
      " 3   Temperature   6255 non-null   float64\n",
      " 4   Fuel_Price    6255 non-null   float64\n",
      " 5   Promotion1    2102 non-null   float64\n",
      " 6   Promotion2    1592 non-null   float64\n",
      " 7   Promotion3    1885 non-null   float64\n",
      " 8   Promotion4    1819 non-null   float64\n",
      " 9   Promotion5    2115 non-null   float64\n",
      " 10  Unemployment  6255 non-null   float64\n",
      " 11  IsHoliday     6255 non-null   bool   \n",
      " 12  Weekly_Sales  6255 non-null   float64\n",
      "dtypes: bool(1), float64(9), int64(2), object(1)\n",
      "memory usage: 592.6+ KB\n"
     ]
    }
   ],
   "source": [
    "df.info()"
   ]
  },
  {
   "cell_type": "code",
   "execution_count": 50,
   "id": "20efd9ce",
   "metadata": {},
   "outputs": [
    {
     "data": {
      "text/plain": [
       "3818686.45"
      ]
     },
     "execution_count": 50,
     "metadata": {},
     "output_type": "execute_result"
    }
   ],
   "source": [
    "max(df['Weekly_Sales'])"
   ]
  },
  {
   "cell_type": "code",
   "execution_count": 51,
   "id": "519b4734",
   "metadata": {},
   "outputs": [
    {
     "data": {
      "text/plain": [
       "209986.25"
      ]
     },
     "execution_count": 51,
     "metadata": {},
     "output_type": "execute_result"
    }
   ],
   "source": [
    "min(df['Weekly_Sales'])"
   ]
  },
  {
   "cell_type": "code",
   "execution_count": 52,
   "id": "fb08f5b1",
   "metadata": {},
   "outputs": [
    {
     "data": {
      "text/plain": [
       "id                 0\n",
       "Store              0\n",
       "Date               0\n",
       "Temperature        0\n",
       "Fuel_Price         0\n",
       "Promotion1      4153\n",
       "Promotion2      4663\n",
       "Promotion3      4370\n",
       "Promotion4      4436\n",
       "Promotion5      4140\n",
       "Unemployment       0\n",
       "IsHoliday          0\n",
       "Weekly_Sales       0\n",
       "dtype: int64"
      ]
     },
     "execution_count": 52,
     "metadata": {},
     "output_type": "execute_result"
    }
   ],
   "source": [
    "df.isnull().sum()"
   ]
  },
  {
   "cell_type": "code",
   "execution_count": 53,
   "id": "17dca0b7",
   "metadata": {},
   "outputs": [
    {
     "data": {
      "text/plain": [
       "1     139\n",
       "24    139\n",
       "26    139\n",
       "27    139\n",
       "28    139\n",
       "29    139\n",
       "30    139\n",
       "31    139\n",
       "32    139\n",
       "33    139\n",
       "34    139\n",
       "35    139\n",
       "36    139\n",
       "37    139\n",
       "38    139\n",
       "39    139\n",
       "40    139\n",
       "41    139\n",
       "42    139\n",
       "43    139\n",
       "44    139\n",
       "25    139\n",
       "23    139\n",
       "2     139\n",
       "22    139\n",
       "3     139\n",
       "4     139\n",
       "5     139\n",
       "6     139\n",
       "7     139\n",
       "8     139\n",
       "9     139\n",
       "10    139\n",
       "11    139\n",
       "12    139\n",
       "13    139\n",
       "14    139\n",
       "15    139\n",
       "16    139\n",
       "17    139\n",
       "18    139\n",
       "19    139\n",
       "20    139\n",
       "21    139\n",
       "45    139\n",
       "Name: Store, dtype: int64"
      ]
     },
     "execution_count": 53,
     "metadata": {},
     "output_type": "execute_result"
    }
   ],
   "source": [
    "df['Store'].value_counts() ## store 45개 있음 (한 스토어 당 139개의 데이터 존재)"
   ]
  },
  {
   "cell_type": "code",
   "execution_count": 54,
   "id": "3b6b1ab0",
   "metadata": {},
   "outputs": [],
   "source": [
    "df1=df.copy()"
   ]
  },
  {
   "cell_type": "code",
   "execution_count": 55,
   "id": "55e59633",
   "metadata": {},
   "outputs": [
    {
     "data": {
      "text/html": [
       "<div>\n",
       "<style scoped>\n",
       "    .dataframe tbody tr th:only-of-type {\n",
       "        vertical-align: middle;\n",
       "    }\n",
       "\n",
       "    .dataframe tbody tr th {\n",
       "        vertical-align: top;\n",
       "    }\n",
       "\n",
       "    .dataframe thead th {\n",
       "        text-align: right;\n",
       "    }\n",
       "</style>\n",
       "<table border=\"1\" class=\"dataframe\">\n",
       "  <thead>\n",
       "    <tr style=\"text-align: right;\">\n",
       "      <th></th>\n",
       "      <th>id</th>\n",
       "      <th>Store</th>\n",
       "      <th>Date</th>\n",
       "      <th>Temperature</th>\n",
       "      <th>Fuel_Price</th>\n",
       "      <th>Promotion1</th>\n",
       "      <th>Promotion2</th>\n",
       "      <th>Promotion3</th>\n",
       "      <th>Promotion4</th>\n",
       "      <th>Promotion5</th>\n",
       "      <th>Unemployment</th>\n",
       "      <th>IsHoliday</th>\n",
       "      <th>Weekly_Sales</th>\n",
       "    </tr>\n",
       "  </thead>\n",
       "  <tbody>\n",
       "    <tr>\n",
       "      <th>0</th>\n",
       "      <td>1</td>\n",
       "      <td>1</td>\n",
       "      <td>05/02/2010</td>\n",
       "      <td>42.31</td>\n",
       "      <td>2.572</td>\n",
       "      <td>NaN</td>\n",
       "      <td>NaN</td>\n",
       "      <td>NaN</td>\n",
       "      <td>NaN</td>\n",
       "      <td>NaN</td>\n",
       "      <td>8.106</td>\n",
       "      <td>False</td>\n",
       "      <td>1643690.90</td>\n",
       "    </tr>\n",
       "    <tr>\n",
       "      <th>1</th>\n",
       "      <td>2</td>\n",
       "      <td>1</td>\n",
       "      <td>12/02/2010</td>\n",
       "      <td>38.51</td>\n",
       "      <td>2.548</td>\n",
       "      <td>NaN</td>\n",
       "      <td>NaN</td>\n",
       "      <td>NaN</td>\n",
       "      <td>NaN</td>\n",
       "      <td>NaN</td>\n",
       "      <td>8.106</td>\n",
       "      <td>True</td>\n",
       "      <td>1641957.44</td>\n",
       "    </tr>\n",
       "    <tr>\n",
       "      <th>2</th>\n",
       "      <td>3</td>\n",
       "      <td>1</td>\n",
       "      <td>19/02/2010</td>\n",
       "      <td>39.93</td>\n",
       "      <td>2.514</td>\n",
       "      <td>NaN</td>\n",
       "      <td>NaN</td>\n",
       "      <td>NaN</td>\n",
       "      <td>NaN</td>\n",
       "      <td>NaN</td>\n",
       "      <td>8.106</td>\n",
       "      <td>False</td>\n",
       "      <td>1611968.17</td>\n",
       "    </tr>\n",
       "    <tr>\n",
       "      <th>3</th>\n",
       "      <td>4</td>\n",
       "      <td>1</td>\n",
       "      <td>26/02/2010</td>\n",
       "      <td>46.63</td>\n",
       "      <td>2.561</td>\n",
       "      <td>NaN</td>\n",
       "      <td>NaN</td>\n",
       "      <td>NaN</td>\n",
       "      <td>NaN</td>\n",
       "      <td>NaN</td>\n",
       "      <td>8.106</td>\n",
       "      <td>False</td>\n",
       "      <td>1409727.59</td>\n",
       "    </tr>\n",
       "    <tr>\n",
       "      <th>4</th>\n",
       "      <td>5</td>\n",
       "      <td>1</td>\n",
       "      <td>05/03/2010</td>\n",
       "      <td>46.50</td>\n",
       "      <td>2.625</td>\n",
       "      <td>NaN</td>\n",
       "      <td>NaN</td>\n",
       "      <td>NaN</td>\n",
       "      <td>NaN</td>\n",
       "      <td>NaN</td>\n",
       "      <td>8.106</td>\n",
       "      <td>False</td>\n",
       "      <td>1554806.68</td>\n",
       "    </tr>\n",
       "    <tr>\n",
       "      <th>...</th>\n",
       "      <td>...</td>\n",
       "      <td>...</td>\n",
       "      <td>...</td>\n",
       "      <td>...</td>\n",
       "      <td>...</td>\n",
       "      <td>...</td>\n",
       "      <td>...</td>\n",
       "      <td>...</td>\n",
       "      <td>...</td>\n",
       "      <td>...</td>\n",
       "      <td>...</td>\n",
       "      <td>...</td>\n",
       "      <td>...</td>\n",
       "    </tr>\n",
       "    <tr>\n",
       "      <th>6250</th>\n",
       "      <td>6251</td>\n",
       "      <td>45</td>\n",
       "      <td>31/08/2012</td>\n",
       "      <td>75.09</td>\n",
       "      <td>3.867</td>\n",
       "      <td>23641.30</td>\n",
       "      <td>6.00</td>\n",
       "      <td>92.93</td>\n",
       "      <td>6988.31</td>\n",
       "      <td>3992.13</td>\n",
       "      <td>8.684</td>\n",
       "      <td>False</td>\n",
       "      <td>734297.87</td>\n",
       "    </tr>\n",
       "    <tr>\n",
       "      <th>6251</th>\n",
       "      <td>6252</td>\n",
       "      <td>45</td>\n",
       "      <td>07/09/2012</td>\n",
       "      <td>75.70</td>\n",
       "      <td>3.911</td>\n",
       "      <td>11024.45</td>\n",
       "      <td>12.80</td>\n",
       "      <td>52.63</td>\n",
       "      <td>1854.77</td>\n",
       "      <td>2055.70</td>\n",
       "      <td>8.684</td>\n",
       "      <td>True</td>\n",
       "      <td>766512.66</td>\n",
       "    </tr>\n",
       "    <tr>\n",
       "      <th>6252</th>\n",
       "      <td>6253</td>\n",
       "      <td>45</td>\n",
       "      <td>14/09/2012</td>\n",
       "      <td>67.87</td>\n",
       "      <td>3.948</td>\n",
       "      <td>11407.95</td>\n",
       "      <td>NaN</td>\n",
       "      <td>4.30</td>\n",
       "      <td>3421.72</td>\n",
       "      <td>5268.92</td>\n",
       "      <td>8.684</td>\n",
       "      <td>False</td>\n",
       "      <td>702238.27</td>\n",
       "    </tr>\n",
       "    <tr>\n",
       "      <th>6253</th>\n",
       "      <td>6254</td>\n",
       "      <td>45</td>\n",
       "      <td>21/09/2012</td>\n",
       "      <td>65.32</td>\n",
       "      <td>4.038</td>\n",
       "      <td>8452.20</td>\n",
       "      <td>92.28</td>\n",
       "      <td>63.24</td>\n",
       "      <td>2376.38</td>\n",
       "      <td>8670.40</td>\n",
       "      <td>8.684</td>\n",
       "      <td>False</td>\n",
       "      <td>723086.20</td>\n",
       "    </tr>\n",
       "    <tr>\n",
       "      <th>6254</th>\n",
       "      <td>6255</td>\n",
       "      <td>45</td>\n",
       "      <td>28/09/2012</td>\n",
       "      <td>64.88</td>\n",
       "      <td>3.997</td>\n",
       "      <td>4556.61</td>\n",
       "      <td>20.64</td>\n",
       "      <td>1.50</td>\n",
       "      <td>1601.01</td>\n",
       "      <td>3288.25</td>\n",
       "      <td>8.684</td>\n",
       "      <td>False</td>\n",
       "      <td>713173.95</td>\n",
       "    </tr>\n",
       "  </tbody>\n",
       "</table>\n",
       "<p>6255 rows × 13 columns</p>\n",
       "</div>"
      ],
      "text/plain": [
       "        id  Store        Date  Temperature  Fuel_Price  Promotion1  \\\n",
       "0        1      1  05/02/2010        42.31       2.572         NaN   \n",
       "1        2      1  12/02/2010        38.51       2.548         NaN   \n",
       "2        3      1  19/02/2010        39.93       2.514         NaN   \n",
       "3        4      1  26/02/2010        46.63       2.561         NaN   \n",
       "4        5      1  05/03/2010        46.50       2.625         NaN   \n",
       "...    ...    ...         ...          ...         ...         ...   \n",
       "6250  6251     45  31/08/2012        75.09       3.867    23641.30   \n",
       "6251  6252     45  07/09/2012        75.70       3.911    11024.45   \n",
       "6252  6253     45  14/09/2012        67.87       3.948    11407.95   \n",
       "6253  6254     45  21/09/2012        65.32       4.038     8452.20   \n",
       "6254  6255     45  28/09/2012        64.88       3.997     4556.61   \n",
       "\n",
       "      Promotion2  Promotion3  Promotion4  Promotion5  Unemployment  IsHoliday  \\\n",
       "0            NaN         NaN         NaN         NaN         8.106      False   \n",
       "1            NaN         NaN         NaN         NaN         8.106       True   \n",
       "2            NaN         NaN         NaN         NaN         8.106      False   \n",
       "3            NaN         NaN         NaN         NaN         8.106      False   \n",
       "4            NaN         NaN         NaN         NaN         8.106      False   \n",
       "...          ...         ...         ...         ...           ...        ...   \n",
       "6250        6.00       92.93     6988.31     3992.13         8.684      False   \n",
       "6251       12.80       52.63     1854.77     2055.70         8.684       True   \n",
       "6252         NaN        4.30     3421.72     5268.92         8.684      False   \n",
       "6253       92.28       63.24     2376.38     8670.40         8.684      False   \n",
       "6254       20.64        1.50     1601.01     3288.25         8.684      False   \n",
       "\n",
       "      Weekly_Sales  \n",
       "0       1643690.90  \n",
       "1       1641957.44  \n",
       "2       1611968.17  \n",
       "3       1409727.59  \n",
       "4       1554806.68  \n",
       "...            ...  \n",
       "6250     734297.87  \n",
       "6251     766512.66  \n",
       "6252     702238.27  \n",
       "6253     723086.20  \n",
       "6254     713173.95  \n",
       "\n",
       "[6255 rows x 13 columns]"
      ]
     },
     "execution_count": 55,
     "metadata": {},
     "output_type": "execute_result"
    }
   ],
   "source": [
    "df1"
   ]
  },
  {
   "cell_type": "markdown",
   "id": "80152cff",
   "metadata": {},
   "source": [
    "## IsHoliday 타입 변환"
   ]
  },
  {
   "cell_type": "markdown",
   "id": "41d23237",
   "metadata": {},
   "source": [
    "- bool타입 이어서 int로 변환"
   ]
  },
  {
   "cell_type": "code",
   "execution_count": 13,
   "id": "d2611af5",
   "metadata": {},
   "outputs": [],
   "source": [
    "df1['IsHoliday']=df1['IsHoliday'].astype(int) ## False->0, True->1로 바꾸기 "
   ]
  },
  {
   "cell_type": "code",
   "execution_count": 14,
   "id": "2f1e9432",
   "metadata": {},
   "outputs": [
    {
     "data": {
      "text/html": [
       "<div>\n",
       "<style scoped>\n",
       "    .dataframe tbody tr th:only-of-type {\n",
       "        vertical-align: middle;\n",
       "    }\n",
       "\n",
       "    .dataframe tbody tr th {\n",
       "        vertical-align: top;\n",
       "    }\n",
       "\n",
       "    .dataframe thead th {\n",
       "        text-align: right;\n",
       "    }\n",
       "</style>\n",
       "<table border=\"1\" class=\"dataframe\">\n",
       "  <thead>\n",
       "    <tr style=\"text-align: right;\">\n",
       "      <th></th>\n",
       "      <th>IsHoliday</th>\n",
       "    </tr>\n",
       "  </thead>\n",
       "  <tbody>\n",
       "    <tr>\n",
       "      <th>0</th>\n",
       "      <td>0</td>\n",
       "    </tr>\n",
       "    <tr>\n",
       "      <th>1</th>\n",
       "      <td>1</td>\n",
       "    </tr>\n",
       "    <tr>\n",
       "      <th>2</th>\n",
       "      <td>0</td>\n",
       "    </tr>\n",
       "    <tr>\n",
       "      <th>3</th>\n",
       "      <td>0</td>\n",
       "    </tr>\n",
       "    <tr>\n",
       "      <th>4</th>\n",
       "      <td>0</td>\n",
       "    </tr>\n",
       "    <tr>\n",
       "      <th>...</th>\n",
       "      <td>...</td>\n",
       "    </tr>\n",
       "    <tr>\n",
       "      <th>6250</th>\n",
       "      <td>0</td>\n",
       "    </tr>\n",
       "    <tr>\n",
       "      <th>6251</th>\n",
       "      <td>1</td>\n",
       "    </tr>\n",
       "    <tr>\n",
       "      <th>6252</th>\n",
       "      <td>0</td>\n",
       "    </tr>\n",
       "    <tr>\n",
       "      <th>6253</th>\n",
       "      <td>0</td>\n",
       "    </tr>\n",
       "    <tr>\n",
       "      <th>6254</th>\n",
       "      <td>0</td>\n",
       "    </tr>\n",
       "  </tbody>\n",
       "</table>\n",
       "<p>6255 rows × 1 columns</p>\n",
       "</div>"
      ],
      "text/plain": [
       "      IsHoliday\n",
       "0             0\n",
       "1             1\n",
       "2             0\n",
       "3             0\n",
       "4             0\n",
       "...         ...\n",
       "6250          0\n",
       "6251          1\n",
       "6252          0\n",
       "6253          0\n",
       "6254          0\n",
       "\n",
       "[6255 rows x 1 columns]"
      ]
     },
     "execution_count": 14,
     "metadata": {},
     "output_type": "execute_result"
    }
   ],
   "source": [
    "df1[['IsHoliday']]"
   ]
  },
  {
   "cell_type": "code",
   "execution_count": 15,
   "id": "bce858ed",
   "metadata": {
    "scrolled": true
   },
   "outputs": [
    {
     "name": "stdout",
     "output_type": "stream",
     "text": [
      "<class 'pandas.core.frame.DataFrame'>\n",
      "RangeIndex: 6255 entries, 0 to 6254\n",
      "Data columns (total 13 columns):\n",
      " #   Column        Non-Null Count  Dtype  \n",
      "---  ------        --------------  -----  \n",
      " 0   id            6255 non-null   int64  \n",
      " 1   Store         6255 non-null   int64  \n",
      " 2   Date          6255 non-null   object \n",
      " 3   Temperature   6255 non-null   float64\n",
      " 4   Fuel_Price    6255 non-null   float64\n",
      " 5   Promotion1    2102 non-null   float64\n",
      " 6   Promotion2    1592 non-null   float64\n",
      " 7   Promotion3    1885 non-null   float64\n",
      " 8   Promotion4    1819 non-null   float64\n",
      " 9   Promotion5    2115 non-null   float64\n",
      " 10  Unemployment  6255 non-null   float64\n",
      " 11  IsHoliday     6255 non-null   int32  \n",
      " 12  Weekly_Sales  6255 non-null   float64\n",
      "dtypes: float64(9), int32(1), int64(2), object(1)\n",
      "memory usage: 611.0+ KB\n"
     ]
    }
   ],
   "source": [
    "df1.info()"
   ]
  },
  {
   "cell_type": "code",
   "execution_count": 16,
   "id": "52843693",
   "metadata": {},
   "outputs": [
    {
     "data": {
      "text/html": [
       "<div>\n",
       "<style scoped>\n",
       "    .dataframe tbody tr th:only-of-type {\n",
       "        vertical-align: middle;\n",
       "    }\n",
       "\n",
       "    .dataframe tbody tr th {\n",
       "        vertical-align: top;\n",
       "    }\n",
       "\n",
       "    .dataframe thead th {\n",
       "        text-align: right;\n",
       "    }\n",
       "</style>\n",
       "<table border=\"1\" class=\"dataframe\">\n",
       "  <thead>\n",
       "    <tr style=\"text-align: right;\">\n",
       "      <th></th>\n",
       "      <th>id</th>\n",
       "      <th>Store</th>\n",
       "      <th>Date</th>\n",
       "      <th>Temperature</th>\n",
       "      <th>Fuel_Price</th>\n",
       "      <th>Promotion1</th>\n",
       "      <th>Promotion2</th>\n",
       "      <th>Promotion3</th>\n",
       "      <th>Promotion4</th>\n",
       "      <th>Promotion5</th>\n",
       "      <th>Unemployment</th>\n",
       "      <th>IsHoliday</th>\n",
       "      <th>Weekly_Sales</th>\n",
       "    </tr>\n",
       "  </thead>\n",
       "  <tbody>\n",
       "    <tr>\n",
       "      <th>0</th>\n",
       "      <td>1</td>\n",
       "      <td>1</td>\n",
       "      <td>05/02/2010</td>\n",
       "      <td>42.31</td>\n",
       "      <td>2.572</td>\n",
       "      <td>NaN</td>\n",
       "      <td>NaN</td>\n",
       "      <td>NaN</td>\n",
       "      <td>NaN</td>\n",
       "      <td>NaN</td>\n",
       "      <td>8.106</td>\n",
       "      <td>0</td>\n",
       "      <td>1643690.90</td>\n",
       "    </tr>\n",
       "    <tr>\n",
       "      <th>1</th>\n",
       "      <td>2</td>\n",
       "      <td>1</td>\n",
       "      <td>12/02/2010</td>\n",
       "      <td>38.51</td>\n",
       "      <td>2.548</td>\n",
       "      <td>NaN</td>\n",
       "      <td>NaN</td>\n",
       "      <td>NaN</td>\n",
       "      <td>NaN</td>\n",
       "      <td>NaN</td>\n",
       "      <td>8.106</td>\n",
       "      <td>1</td>\n",
       "      <td>1641957.44</td>\n",
       "    </tr>\n",
       "    <tr>\n",
       "      <th>2</th>\n",
       "      <td>3</td>\n",
       "      <td>1</td>\n",
       "      <td>19/02/2010</td>\n",
       "      <td>39.93</td>\n",
       "      <td>2.514</td>\n",
       "      <td>NaN</td>\n",
       "      <td>NaN</td>\n",
       "      <td>NaN</td>\n",
       "      <td>NaN</td>\n",
       "      <td>NaN</td>\n",
       "      <td>8.106</td>\n",
       "      <td>0</td>\n",
       "      <td>1611968.17</td>\n",
       "    </tr>\n",
       "    <tr>\n",
       "      <th>3</th>\n",
       "      <td>4</td>\n",
       "      <td>1</td>\n",
       "      <td>26/02/2010</td>\n",
       "      <td>46.63</td>\n",
       "      <td>2.561</td>\n",
       "      <td>NaN</td>\n",
       "      <td>NaN</td>\n",
       "      <td>NaN</td>\n",
       "      <td>NaN</td>\n",
       "      <td>NaN</td>\n",
       "      <td>8.106</td>\n",
       "      <td>0</td>\n",
       "      <td>1409727.59</td>\n",
       "    </tr>\n",
       "    <tr>\n",
       "      <th>4</th>\n",
       "      <td>5</td>\n",
       "      <td>1</td>\n",
       "      <td>05/03/2010</td>\n",
       "      <td>46.50</td>\n",
       "      <td>2.625</td>\n",
       "      <td>NaN</td>\n",
       "      <td>NaN</td>\n",
       "      <td>NaN</td>\n",
       "      <td>NaN</td>\n",
       "      <td>NaN</td>\n",
       "      <td>8.106</td>\n",
       "      <td>0</td>\n",
       "      <td>1554806.68</td>\n",
       "    </tr>\n",
       "    <tr>\n",
       "      <th>...</th>\n",
       "      <td>...</td>\n",
       "      <td>...</td>\n",
       "      <td>...</td>\n",
       "      <td>...</td>\n",
       "      <td>...</td>\n",
       "      <td>...</td>\n",
       "      <td>...</td>\n",
       "      <td>...</td>\n",
       "      <td>...</td>\n",
       "      <td>...</td>\n",
       "      <td>...</td>\n",
       "      <td>...</td>\n",
       "      <td>...</td>\n",
       "    </tr>\n",
       "    <tr>\n",
       "      <th>134</th>\n",
       "      <td>135</td>\n",
       "      <td>1</td>\n",
       "      <td>31/08/2012</td>\n",
       "      <td>80.49</td>\n",
       "      <td>3.638</td>\n",
       "      <td>21442.73</td>\n",
       "      <td>102.32</td>\n",
       "      <td>21.70</td>\n",
       "      <td>13209.64</td>\n",
       "      <td>3032.96</td>\n",
       "      <td>6.908</td>\n",
       "      <td>0</td>\n",
       "      <td>1582083.40</td>\n",
       "    </tr>\n",
       "    <tr>\n",
       "      <th>135</th>\n",
       "      <td>136</td>\n",
       "      <td>1</td>\n",
       "      <td>07/09/2012</td>\n",
       "      <td>83.96</td>\n",
       "      <td>3.730</td>\n",
       "      <td>5204.68</td>\n",
       "      <td>35.74</td>\n",
       "      <td>50.94</td>\n",
       "      <td>4120.32</td>\n",
       "      <td>2737.17</td>\n",
       "      <td>6.908</td>\n",
       "      <td>1</td>\n",
       "      <td>1661767.33</td>\n",
       "    </tr>\n",
       "    <tr>\n",
       "      <th>136</th>\n",
       "      <td>137</td>\n",
       "      <td>1</td>\n",
       "      <td>14/09/2012</td>\n",
       "      <td>74.97</td>\n",
       "      <td>3.717</td>\n",
       "      <td>17212.52</td>\n",
       "      <td>7.00</td>\n",
       "      <td>18.79</td>\n",
       "      <td>1523.11</td>\n",
       "      <td>7992.72</td>\n",
       "      <td>6.908</td>\n",
       "      <td>0</td>\n",
       "      <td>1517428.87</td>\n",
       "    </tr>\n",
       "    <tr>\n",
       "      <th>137</th>\n",
       "      <td>138</td>\n",
       "      <td>1</td>\n",
       "      <td>21/09/2012</td>\n",
       "      <td>69.87</td>\n",
       "      <td>3.721</td>\n",
       "      <td>6352.30</td>\n",
       "      <td>7.64</td>\n",
       "      <td>4.69</td>\n",
       "      <td>1010.06</td>\n",
       "      <td>6456.71</td>\n",
       "      <td>6.908</td>\n",
       "      <td>0</td>\n",
       "      <td>1506126.06</td>\n",
       "    </tr>\n",
       "    <tr>\n",
       "      <th>138</th>\n",
       "      <td>139</td>\n",
       "      <td>1</td>\n",
       "      <td>28/09/2012</td>\n",
       "      <td>76.08</td>\n",
       "      <td>3.666</td>\n",
       "      <td>3666.27</td>\n",
       "      <td>7.64</td>\n",
       "      <td>1.65</td>\n",
       "      <td>1417.96</td>\n",
       "      <td>4744.28</td>\n",
       "      <td>6.908</td>\n",
       "      <td>0</td>\n",
       "      <td>1437059.26</td>\n",
       "    </tr>\n",
       "  </tbody>\n",
       "</table>\n",
       "<p>139 rows × 13 columns</p>\n",
       "</div>"
      ],
      "text/plain": [
       "      id  Store        Date  Temperature  Fuel_Price  Promotion1  Promotion2  \\\n",
       "0      1      1  05/02/2010        42.31       2.572         NaN         NaN   \n",
       "1      2      1  12/02/2010        38.51       2.548         NaN         NaN   \n",
       "2      3      1  19/02/2010        39.93       2.514         NaN         NaN   \n",
       "3      4      1  26/02/2010        46.63       2.561         NaN         NaN   \n",
       "4      5      1  05/03/2010        46.50       2.625         NaN         NaN   \n",
       "..   ...    ...         ...          ...         ...         ...         ...   \n",
       "134  135      1  31/08/2012        80.49       3.638    21442.73      102.32   \n",
       "135  136      1  07/09/2012        83.96       3.730     5204.68       35.74   \n",
       "136  137      1  14/09/2012        74.97       3.717    17212.52        7.00   \n",
       "137  138      1  21/09/2012        69.87       3.721     6352.30        7.64   \n",
       "138  139      1  28/09/2012        76.08       3.666     3666.27        7.64   \n",
       "\n",
       "     Promotion3  Promotion4  Promotion5  Unemployment  IsHoliday  Weekly_Sales  \n",
       "0           NaN         NaN         NaN         8.106          0    1643690.90  \n",
       "1           NaN         NaN         NaN         8.106          1    1641957.44  \n",
       "2           NaN         NaN         NaN         8.106          0    1611968.17  \n",
       "3           NaN         NaN         NaN         8.106          0    1409727.59  \n",
       "4           NaN         NaN         NaN         8.106          0    1554806.68  \n",
       "..          ...         ...         ...           ...        ...           ...  \n",
       "134       21.70    13209.64     3032.96         6.908          0    1582083.40  \n",
       "135       50.94     4120.32     2737.17         6.908          1    1661767.33  \n",
       "136       18.79     1523.11     7992.72         6.908          0    1517428.87  \n",
       "137        4.69     1010.06     6456.71         6.908          0    1506126.06  \n",
       "138        1.65     1417.96     4744.28         6.908          0    1437059.26  \n",
       "\n",
       "[139 rows x 13 columns]"
      ]
     },
     "execution_count": 16,
     "metadata": {},
     "output_type": "execute_result"
    }
   ],
   "source": [
    "df1[(df1['Store']==1)] ## 날짜는 2010/02/05 ~ 2012/09/28 까지 모든 스토어가 동일함"
   ]
  },
  {
   "cell_type": "code",
   "execution_count": 18,
   "id": "e0115fb7",
   "metadata": {},
   "outputs": [
    {
     "data": {
      "text/html": [
       "<div>\n",
       "<style scoped>\n",
       "    .dataframe tbody tr th:only-of-type {\n",
       "        vertical-align: middle;\n",
       "    }\n",
       "\n",
       "    .dataframe tbody tr th {\n",
       "        vertical-align: top;\n",
       "    }\n",
       "\n",
       "    .dataframe thead th {\n",
       "        text-align: right;\n",
       "    }\n",
       "</style>\n",
       "<table border=\"1\" class=\"dataframe\">\n",
       "  <thead>\n",
       "    <tr style=\"text-align: right;\">\n",
       "      <th></th>\n",
       "      <th>id</th>\n",
       "      <th>Store</th>\n",
       "      <th>Date</th>\n",
       "      <th>Temperature</th>\n",
       "      <th>Fuel_Price</th>\n",
       "      <th>Promotion1</th>\n",
       "      <th>Promotion2</th>\n",
       "      <th>Promotion3</th>\n",
       "      <th>Promotion4</th>\n",
       "      <th>Promotion5</th>\n",
       "      <th>Unemployment</th>\n",
       "      <th>IsHoliday</th>\n",
       "      <th>Weekly_Sales</th>\n",
       "    </tr>\n",
       "  </thead>\n",
       "  <tbody>\n",
       "    <tr>\n",
       "      <th>2919</th>\n",
       "      <td>2920</td>\n",
       "      <td>22</td>\n",
       "      <td>05/02/2010</td>\n",
       "      <td>24.36</td>\n",
       "      <td>2.788</td>\n",
       "      <td>NaN</td>\n",
       "      <td>NaN</td>\n",
       "      <td>NaN</td>\n",
       "      <td>NaN</td>\n",
       "      <td>NaN</td>\n",
       "      <td>8.283</td>\n",
       "      <td>0</td>\n",
       "      <td>1033017.37</td>\n",
       "    </tr>\n",
       "    <tr>\n",
       "      <th>2920</th>\n",
       "      <td>2921</td>\n",
       "      <td>22</td>\n",
       "      <td>12/02/2010</td>\n",
       "      <td>28.14</td>\n",
       "      <td>2.771</td>\n",
       "      <td>NaN</td>\n",
       "      <td>NaN</td>\n",
       "      <td>NaN</td>\n",
       "      <td>NaN</td>\n",
       "      <td>NaN</td>\n",
       "      <td>8.283</td>\n",
       "      <td>1</td>\n",
       "      <td>1022571.25</td>\n",
       "    </tr>\n",
       "    <tr>\n",
       "      <th>2921</th>\n",
       "      <td>2922</td>\n",
       "      <td>22</td>\n",
       "      <td>19/02/2010</td>\n",
       "      <td>31.96</td>\n",
       "      <td>2.747</td>\n",
       "      <td>NaN</td>\n",
       "      <td>NaN</td>\n",
       "      <td>NaN</td>\n",
       "      <td>NaN</td>\n",
       "      <td>NaN</td>\n",
       "      <td>8.283</td>\n",
       "      <td>0</td>\n",
       "      <td>988467.61</td>\n",
       "    </tr>\n",
       "    <tr>\n",
       "      <th>2922</th>\n",
       "      <td>2923</td>\n",
       "      <td>22</td>\n",
       "      <td>26/02/2010</td>\n",
       "      <td>35.98</td>\n",
       "      <td>2.753</td>\n",
       "      <td>NaN</td>\n",
       "      <td>NaN</td>\n",
       "      <td>NaN</td>\n",
       "      <td>NaN</td>\n",
       "      <td>NaN</td>\n",
       "      <td>8.283</td>\n",
       "      <td>0</td>\n",
       "      <td>899761.48</td>\n",
       "    </tr>\n",
       "    <tr>\n",
       "      <th>2923</th>\n",
       "      <td>2924</td>\n",
       "      <td>22</td>\n",
       "      <td>05/03/2010</td>\n",
       "      <td>36.82</td>\n",
       "      <td>2.766</td>\n",
       "      <td>NaN</td>\n",
       "      <td>NaN</td>\n",
       "      <td>NaN</td>\n",
       "      <td>NaN</td>\n",
       "      <td>NaN</td>\n",
       "      <td>8.283</td>\n",
       "      <td>0</td>\n",
       "      <td>1009201.24</td>\n",
       "    </tr>\n",
       "    <tr>\n",
       "      <th>...</th>\n",
       "      <td>...</td>\n",
       "      <td>...</td>\n",
       "      <td>...</td>\n",
       "      <td>...</td>\n",
       "      <td>...</td>\n",
       "      <td>...</td>\n",
       "      <td>...</td>\n",
       "      <td>...</td>\n",
       "      <td>...</td>\n",
       "      <td>...</td>\n",
       "      <td>...</td>\n",
       "      <td>...</td>\n",
       "      <td>...</td>\n",
       "    </tr>\n",
       "    <tr>\n",
       "      <th>3053</th>\n",
       "      <td>3054</td>\n",
       "      <td>22</td>\n",
       "      <td>31/08/2012</td>\n",
       "      <td>71.93</td>\n",
       "      <td>3.884</td>\n",
       "      <td>37707.43</td>\n",
       "      <td>40.66</td>\n",
       "      <td>119.53</td>\n",
       "      <td>6761.03</td>\n",
       "      <td>2307.61</td>\n",
       "      <td>7.753</td>\n",
       "      <td>0</td>\n",
       "      <td>1022270.86</td>\n",
       "    </tr>\n",
       "    <tr>\n",
       "      <th>3054</th>\n",
       "      <td>3055</td>\n",
       "      <td>22</td>\n",
       "      <td>07/09/2012</td>\n",
       "      <td>73.30</td>\n",
       "      <td>3.921</td>\n",
       "      <td>12941.56</td>\n",
       "      <td>4.00</td>\n",
       "      <td>37.34</td>\n",
       "      <td>2510.10</td>\n",
       "      <td>3346.55</td>\n",
       "      <td>7.753</td>\n",
       "      <td>1</td>\n",
       "      <td>996628.80</td>\n",
       "    </tr>\n",
       "    <tr>\n",
       "      <th>3055</th>\n",
       "      <td>3056</td>\n",
       "      <td>22</td>\n",
       "      <td>14/09/2012</td>\n",
       "      <td>66.42</td>\n",
       "      <td>3.988</td>\n",
       "      <td>7069.56</td>\n",
       "      <td>3.44</td>\n",
       "      <td>8.43</td>\n",
       "      <td>499.91</td>\n",
       "      <td>6011.90</td>\n",
       "      <td>7.753</td>\n",
       "      <td>0</td>\n",
       "      <td>918049.28</td>\n",
       "    </tr>\n",
       "    <tr>\n",
       "      <th>3056</th>\n",
       "      <td>3057</td>\n",
       "      <td>22</td>\n",
       "      <td>21/09/2012</td>\n",
       "      <td>63.38</td>\n",
       "      <td>4.056</td>\n",
       "      <td>7150.28</td>\n",
       "      <td>106.01</td>\n",
       "      <td>19.00</td>\n",
       "      <td>1217.30</td>\n",
       "      <td>7556.34</td>\n",
       "      <td>7.753</td>\n",
       "      <td>0</td>\n",
       "      <td>921612.53</td>\n",
       "    </tr>\n",
       "    <tr>\n",
       "      <th>3057</th>\n",
       "      <td>3058</td>\n",
       "      <td>22</td>\n",
       "      <td>28/09/2012</td>\n",
       "      <td>62.17</td>\n",
       "      <td>4.018</td>\n",
       "      <td>4269.80</td>\n",
       "      <td>23.73</td>\n",
       "      <td>1.72</td>\n",
       "      <td>2763.63</td>\n",
       "      <td>2130.39</td>\n",
       "      <td>7.753</td>\n",
       "      <td>0</td>\n",
       "      <td>976479.51</td>\n",
       "    </tr>\n",
       "  </tbody>\n",
       "</table>\n",
       "<p>139 rows × 13 columns</p>\n",
       "</div>"
      ],
      "text/plain": [
       "        id  Store        Date  Temperature  Fuel_Price  Promotion1  \\\n",
       "2919  2920     22  05/02/2010        24.36       2.788         NaN   \n",
       "2920  2921     22  12/02/2010        28.14       2.771         NaN   \n",
       "2921  2922     22  19/02/2010        31.96       2.747         NaN   \n",
       "2922  2923     22  26/02/2010        35.98       2.753         NaN   \n",
       "2923  2924     22  05/03/2010        36.82       2.766         NaN   \n",
       "...    ...    ...         ...          ...         ...         ...   \n",
       "3053  3054     22  31/08/2012        71.93       3.884    37707.43   \n",
       "3054  3055     22  07/09/2012        73.30       3.921    12941.56   \n",
       "3055  3056     22  14/09/2012        66.42       3.988     7069.56   \n",
       "3056  3057     22  21/09/2012        63.38       4.056     7150.28   \n",
       "3057  3058     22  28/09/2012        62.17       4.018     4269.80   \n",
       "\n",
       "      Promotion2  Promotion3  Promotion4  Promotion5  Unemployment  IsHoliday  \\\n",
       "2919         NaN         NaN         NaN         NaN         8.283          0   \n",
       "2920         NaN         NaN         NaN         NaN         8.283          1   \n",
       "2921         NaN         NaN         NaN         NaN         8.283          0   \n",
       "2922         NaN         NaN         NaN         NaN         8.283          0   \n",
       "2923         NaN         NaN         NaN         NaN         8.283          0   \n",
       "...          ...         ...         ...         ...           ...        ...   \n",
       "3053       40.66      119.53     6761.03     2307.61         7.753          0   \n",
       "3054        4.00       37.34     2510.10     3346.55         7.753          1   \n",
       "3055        3.44        8.43      499.91     6011.90         7.753          0   \n",
       "3056      106.01       19.00     1217.30     7556.34         7.753          0   \n",
       "3057       23.73        1.72     2763.63     2130.39         7.753          0   \n",
       "\n",
       "      Weekly_Sales  \n",
       "2919    1033017.37  \n",
       "2920    1022571.25  \n",
       "2921     988467.61  \n",
       "2922     899761.48  \n",
       "2923    1009201.24  \n",
       "...            ...  \n",
       "3053    1022270.86  \n",
       "3054     996628.80  \n",
       "3055     918049.28  \n",
       "3056     921612.53  \n",
       "3057     976479.51  \n",
       "\n",
       "[139 rows x 13 columns]"
      ]
     },
     "execution_count": 18,
     "metadata": {},
     "output_type": "execute_result"
    }
   ],
   "source": [
    "df1[(df1['Store']==22)]"
   ]
  },
  {
   "cell_type": "code",
   "execution_count": 19,
   "id": "af753b88",
   "metadata": {},
   "outputs": [
    {
     "data": {
      "text/plain": [
       "Date    10\n",
       "dtype: int64"
      ]
     },
     "execution_count": 19,
     "metadata": {},
     "output_type": "execute_result"
    }
   ],
   "source": [
    "df1[(df1['Store']==1)&(df1['IsHoliday']==1)][['Date']].count() ## 모두 다 공휴일 포함-> 공휴일은 총 10번 "
   ]
  },
  {
   "cell_type": "code",
   "execution_count": 19,
   "id": "7fd31d7b",
   "metadata": {},
   "outputs": [
    {
     "data": {
      "text/html": [
       "<div>\n",
       "<style scoped>\n",
       "    .dataframe tbody tr th:only-of-type {\n",
       "        vertical-align: middle;\n",
       "    }\n",
       "\n",
       "    .dataframe tbody tr th {\n",
       "        vertical-align: top;\n",
       "    }\n",
       "\n",
       "    .dataframe thead th {\n",
       "        text-align: right;\n",
       "    }\n",
       "</style>\n",
       "<table border=\"1\" class=\"dataframe\">\n",
       "  <thead>\n",
       "    <tr style=\"text-align: right;\">\n",
       "      <th></th>\n",
       "      <th>id</th>\n",
       "      <th>Store</th>\n",
       "      <th>Date</th>\n",
       "      <th>Temperature</th>\n",
       "      <th>Fuel_Price</th>\n",
       "      <th>Promotion1</th>\n",
       "      <th>Promotion2</th>\n",
       "      <th>Promotion3</th>\n",
       "      <th>Promotion4</th>\n",
       "      <th>Promotion5</th>\n",
       "      <th>Unemployment</th>\n",
       "      <th>IsHoliday</th>\n",
       "      <th>Weekly_Sales</th>\n",
       "    </tr>\n",
       "  </thead>\n",
       "  <tbody>\n",
       "    <tr>\n",
       "      <th>0</th>\n",
       "      <td>1</td>\n",
       "      <td>1</td>\n",
       "      <td>05/02/2010</td>\n",
       "      <td>42.31</td>\n",
       "      <td>2.572</td>\n",
       "      <td>NaN</td>\n",
       "      <td>NaN</td>\n",
       "      <td>NaN</td>\n",
       "      <td>NaN</td>\n",
       "      <td>NaN</td>\n",
       "      <td>8.106</td>\n",
       "      <td>0</td>\n",
       "      <td>1643690.90</td>\n",
       "    </tr>\n",
       "    <tr>\n",
       "      <th>1</th>\n",
       "      <td>2</td>\n",
       "      <td>1</td>\n",
       "      <td>12/02/2010</td>\n",
       "      <td>38.51</td>\n",
       "      <td>2.548</td>\n",
       "      <td>NaN</td>\n",
       "      <td>NaN</td>\n",
       "      <td>NaN</td>\n",
       "      <td>NaN</td>\n",
       "      <td>NaN</td>\n",
       "      <td>8.106</td>\n",
       "      <td>1</td>\n",
       "      <td>1641957.44</td>\n",
       "    </tr>\n",
       "    <tr>\n",
       "      <th>2</th>\n",
       "      <td>3</td>\n",
       "      <td>1</td>\n",
       "      <td>19/02/2010</td>\n",
       "      <td>39.93</td>\n",
       "      <td>2.514</td>\n",
       "      <td>NaN</td>\n",
       "      <td>NaN</td>\n",
       "      <td>NaN</td>\n",
       "      <td>NaN</td>\n",
       "      <td>NaN</td>\n",
       "      <td>8.106</td>\n",
       "      <td>0</td>\n",
       "      <td>1611968.17</td>\n",
       "    </tr>\n",
       "    <tr>\n",
       "      <th>3</th>\n",
       "      <td>4</td>\n",
       "      <td>1</td>\n",
       "      <td>26/02/2010</td>\n",
       "      <td>46.63</td>\n",
       "      <td>2.561</td>\n",
       "      <td>NaN</td>\n",
       "      <td>NaN</td>\n",
       "      <td>NaN</td>\n",
       "      <td>NaN</td>\n",
       "      <td>NaN</td>\n",
       "      <td>8.106</td>\n",
       "      <td>0</td>\n",
       "      <td>1409727.59</td>\n",
       "    </tr>\n",
       "    <tr>\n",
       "      <th>4</th>\n",
       "      <td>5</td>\n",
       "      <td>1</td>\n",
       "      <td>05/03/2010</td>\n",
       "      <td>46.50</td>\n",
       "      <td>2.625</td>\n",
       "      <td>NaN</td>\n",
       "      <td>NaN</td>\n",
       "      <td>NaN</td>\n",
       "      <td>NaN</td>\n",
       "      <td>NaN</td>\n",
       "      <td>8.106</td>\n",
       "      <td>0</td>\n",
       "      <td>1554806.68</td>\n",
       "    </tr>\n",
       "    <tr>\n",
       "      <th>...</th>\n",
       "      <td>...</td>\n",
       "      <td>...</td>\n",
       "      <td>...</td>\n",
       "      <td>...</td>\n",
       "      <td>...</td>\n",
       "      <td>...</td>\n",
       "      <td>...</td>\n",
       "      <td>...</td>\n",
       "      <td>...</td>\n",
       "      <td>...</td>\n",
       "      <td>...</td>\n",
       "      <td>...</td>\n",
       "      <td>...</td>\n",
       "    </tr>\n",
       "    <tr>\n",
       "      <th>87</th>\n",
       "      <td>88</td>\n",
       "      <td>1</td>\n",
       "      <td>07/10/2011</td>\n",
       "      <td>69.31</td>\n",
       "      <td>3.285</td>\n",
       "      <td>NaN</td>\n",
       "      <td>NaN</td>\n",
       "      <td>NaN</td>\n",
       "      <td>NaN</td>\n",
       "      <td>NaN</td>\n",
       "      <td>7.866</td>\n",
       "      <td>0</td>\n",
       "      <td>1630989.95</td>\n",
       "    </tr>\n",
       "    <tr>\n",
       "      <th>88</th>\n",
       "      <td>89</td>\n",
       "      <td>1</td>\n",
       "      <td>14/10/2011</td>\n",
       "      <td>71.74</td>\n",
       "      <td>3.274</td>\n",
       "      <td>NaN</td>\n",
       "      <td>NaN</td>\n",
       "      <td>NaN</td>\n",
       "      <td>NaN</td>\n",
       "      <td>NaN</td>\n",
       "      <td>7.866</td>\n",
       "      <td>0</td>\n",
       "      <td>1493525.93</td>\n",
       "    </tr>\n",
       "    <tr>\n",
       "      <th>89</th>\n",
       "      <td>90</td>\n",
       "      <td>1</td>\n",
       "      <td>21/10/2011</td>\n",
       "      <td>63.71</td>\n",
       "      <td>3.353</td>\n",
       "      <td>NaN</td>\n",
       "      <td>NaN</td>\n",
       "      <td>NaN</td>\n",
       "      <td>NaN</td>\n",
       "      <td>NaN</td>\n",
       "      <td>7.866</td>\n",
       "      <td>0</td>\n",
       "      <td>1502562.78</td>\n",
       "    </tr>\n",
       "    <tr>\n",
       "      <th>90</th>\n",
       "      <td>91</td>\n",
       "      <td>1</td>\n",
       "      <td>28/10/2011</td>\n",
       "      <td>66.57</td>\n",
       "      <td>3.372</td>\n",
       "      <td>NaN</td>\n",
       "      <td>NaN</td>\n",
       "      <td>NaN</td>\n",
       "      <td>NaN</td>\n",
       "      <td>NaN</td>\n",
       "      <td>7.866</td>\n",
       "      <td>0</td>\n",
       "      <td>1445249.09</td>\n",
       "    </tr>\n",
       "    <tr>\n",
       "      <th>91</th>\n",
       "      <td>92</td>\n",
       "      <td>1</td>\n",
       "      <td>04/11/2011</td>\n",
       "      <td>54.98</td>\n",
       "      <td>3.332</td>\n",
       "      <td>NaN</td>\n",
       "      <td>NaN</td>\n",
       "      <td>NaN</td>\n",
       "      <td>NaN</td>\n",
       "      <td>NaN</td>\n",
       "      <td>7.866</td>\n",
       "      <td>0</td>\n",
       "      <td>1697229.58</td>\n",
       "    </tr>\n",
       "  </tbody>\n",
       "</table>\n",
       "<p>92 rows × 13 columns</p>\n",
       "</div>"
      ],
      "text/plain": [
       "    id  Store        Date  Temperature  Fuel_Price  Promotion1  Promotion2  \\\n",
       "0    1      1  05/02/2010        42.31       2.572         NaN         NaN   \n",
       "1    2      1  12/02/2010        38.51       2.548         NaN         NaN   \n",
       "2    3      1  19/02/2010        39.93       2.514         NaN         NaN   \n",
       "3    4      1  26/02/2010        46.63       2.561         NaN         NaN   \n",
       "4    5      1  05/03/2010        46.50       2.625         NaN         NaN   \n",
       "..  ..    ...         ...          ...         ...         ...         ...   \n",
       "87  88      1  07/10/2011        69.31       3.285         NaN         NaN   \n",
       "88  89      1  14/10/2011        71.74       3.274         NaN         NaN   \n",
       "89  90      1  21/10/2011        63.71       3.353         NaN         NaN   \n",
       "90  91      1  28/10/2011        66.57       3.372         NaN         NaN   \n",
       "91  92      1  04/11/2011        54.98       3.332         NaN         NaN   \n",
       "\n",
       "    Promotion3  Promotion4  Promotion5  Unemployment  IsHoliday  Weekly_Sales  \n",
       "0          NaN         NaN         NaN         8.106          0    1643690.90  \n",
       "1          NaN         NaN         NaN         8.106          1    1641957.44  \n",
       "2          NaN         NaN         NaN         8.106          0    1611968.17  \n",
       "3          NaN         NaN         NaN         8.106          0    1409727.59  \n",
       "4          NaN         NaN         NaN         8.106          0    1554806.68  \n",
       "..         ...         ...         ...           ...        ...           ...  \n",
       "87         NaN         NaN         NaN         7.866          0    1630989.95  \n",
       "88         NaN         NaN         NaN         7.866          0    1493525.93  \n",
       "89         NaN         NaN         NaN         7.866          0    1502562.78  \n",
       "90         NaN         NaN         NaN         7.866          0    1445249.09  \n",
       "91         NaN         NaN         NaN         7.866          0    1697229.58  \n",
       "\n",
       "[92 rows x 13 columns]"
      ]
     },
     "execution_count": 19,
     "metadata": {},
     "output_type": "execute_result"
    }
   ],
   "source": [
    "## Promotion1~5 까지 모두 NaN인 값 찾기\n",
    "df1[(df1['Store']==1)&(df1['Promotion1'].isnull())&(df1['Promotion2'].isnull())&(df1['Promotion3'].isnull())&(df1['Promotion4'].isnull())&(df1['Promotion5'].isnull())]\n",
    "## 모든 store가 2011/11/04 까지 Promotion1~5 가 NaN 값\n",
    "## Promotion1~5 가 모두 NaN인 값은 각각 4140개"
   ]
  },
  {
   "cell_type": "code",
   "execution_count": 20,
   "id": "bd0d6974",
   "metadata": {},
   "outputs": [
    {
     "data": {
      "text/html": [
       "<div>\n",
       "<style scoped>\n",
       "    .dataframe tbody tr th:only-of-type {\n",
       "        vertical-align: middle;\n",
       "    }\n",
       "\n",
       "    .dataframe tbody tr th {\n",
       "        vertical-align: top;\n",
       "    }\n",
       "\n",
       "    .dataframe thead th {\n",
       "        text-align: right;\n",
       "    }\n",
       "</style>\n",
       "<table border=\"1\" class=\"dataframe\">\n",
       "  <thead>\n",
       "    <tr style=\"text-align: right;\">\n",
       "      <th></th>\n",
       "      <th>id</th>\n",
       "      <th>Store</th>\n",
       "      <th>Date</th>\n",
       "      <th>Temperature</th>\n",
       "      <th>Fuel_Price</th>\n",
       "      <th>Promotion1</th>\n",
       "      <th>Promotion2</th>\n",
       "      <th>Promotion3</th>\n",
       "      <th>Promotion4</th>\n",
       "      <th>Promotion5</th>\n",
       "      <th>Unemployment</th>\n",
       "      <th>IsHoliday</th>\n",
       "      <th>Weekly_Sales</th>\n",
       "    </tr>\n",
       "  </thead>\n",
       "  <tbody>\n",
       "    <tr>\n",
       "      <th>92</th>\n",
       "      <td>93</td>\n",
       "      <td>1</td>\n",
       "      <td>11/11/2011</td>\n",
       "      <td>59.11</td>\n",
       "      <td>3.297</td>\n",
       "      <td>10382.9</td>\n",
       "      <td>6115.67</td>\n",
       "      <td>215.07</td>\n",
       "      <td>2406.62</td>\n",
       "      <td>6551.42</td>\n",
       "      <td>7.866</td>\n",
       "      <td>0</td>\n",
       "      <td>1594938.89</td>\n",
       "    </tr>\n",
       "  </tbody>\n",
       "</table>\n",
       "</div>"
      ],
      "text/plain": [
       "    id  Store        Date  Temperature  Fuel_Price  Promotion1  Promotion2  \\\n",
       "92  93      1  11/11/2011        59.11       3.297     10382.9     6115.67   \n",
       "\n",
       "    Promotion3  Promotion4  Promotion5  Unemployment  IsHoliday  Weekly_Sales  \n",
       "92      215.07     2406.62     6551.42         7.866          0    1594938.89  "
      ]
     },
     "execution_count": 20,
     "metadata": {},
     "output_type": "execute_result"
    }
   ],
   "source": [
    "df1[df1['id']==93]"
   ]
  },
  {
   "cell_type": "code",
   "execution_count": 21,
   "id": "e56ae59c",
   "metadata": {},
   "outputs": [
    {
     "data": {
      "text/plain": [
       "id                 0\n",
       "Store              0\n",
       "Date               0\n",
       "Temperature        0\n",
       "Fuel_Price         0\n",
       "Promotion1      4153\n",
       "Promotion2      4663\n",
       "Promotion3      4370\n",
       "Promotion4      4436\n",
       "Promotion5      4140\n",
       "Unemployment       0\n",
       "IsHoliday          0\n",
       "Weekly_Sales       0\n",
       "dtype: int64"
      ]
     },
     "execution_count": 21,
     "metadata": {},
     "output_type": "execute_result"
    }
   ],
   "source": [
    "df1.isnull().sum()"
   ]
  },
  {
   "cell_type": "code",
   "execution_count": 22,
   "id": "2f2d1f29",
   "metadata": {},
   "outputs": [
    {
     "data": {
      "text/html": [
       "<div>\n",
       "<style scoped>\n",
       "    .dataframe tbody tr th:only-of-type {\n",
       "        vertical-align: middle;\n",
       "    }\n",
       "\n",
       "    .dataframe tbody tr th {\n",
       "        vertical-align: top;\n",
       "    }\n",
       "\n",
       "    .dataframe thead th {\n",
       "        text-align: right;\n",
       "    }\n",
       "</style>\n",
       "<table border=\"1\" class=\"dataframe\">\n",
       "  <thead>\n",
       "    <tr style=\"text-align: right;\">\n",
       "      <th></th>\n",
       "      <th>Promotion1</th>\n",
       "      <th>Promotion2</th>\n",
       "      <th>Promotion3</th>\n",
       "      <th>Promotion4</th>\n",
       "      <th>Promotion5</th>\n",
       "    </tr>\n",
       "  </thead>\n",
       "  <tbody>\n",
       "    <tr>\n",
       "      <th>count</th>\n",
       "      <td>2102.000000</td>\n",
       "      <td>1592.000000</td>\n",
       "      <td>1885.000000</td>\n",
       "      <td>1819.000000</td>\n",
       "      <td>2115.000000</td>\n",
       "    </tr>\n",
       "    <tr>\n",
       "      <th>mean</th>\n",
       "      <td>7155.930661</td>\n",
       "      <td>3308.125810</td>\n",
       "      <td>1462.535523</td>\n",
       "      <td>3465.952501</td>\n",
       "      <td>4518.993173</td>\n",
       "    </tr>\n",
       "    <tr>\n",
       "      <th>std</th>\n",
       "      <td>8408.206085</td>\n",
       "      <td>9382.823804</td>\n",
       "      <td>9667.580258</td>\n",
       "      <td>6413.116294</td>\n",
       "      <td>6048.661908</td>\n",
       "    </tr>\n",
       "    <tr>\n",
       "      <th>min</th>\n",
       "      <td>0.270000</td>\n",
       "      <td>-265.760000</td>\n",
       "      <td>-29.100000</td>\n",
       "      <td>0.410000</td>\n",
       "      <td>135.160000</td>\n",
       "    </tr>\n",
       "    <tr>\n",
       "      <th>25%</th>\n",
       "      <td>1844.295000</td>\n",
       "      <td>39.755000</td>\n",
       "      <td>4.700000</td>\n",
       "      <td>499.895000</td>\n",
       "      <td>1742.305000</td>\n",
       "    </tr>\n",
       "    <tr>\n",
       "      <th>50%</th>\n",
       "      <td>5221.140000</td>\n",
       "      <td>205.410000</td>\n",
       "      <td>24.600000</td>\n",
       "      <td>1532.630000</td>\n",
       "      <td>3226.410000</td>\n",
       "    </tr>\n",
       "    <tr>\n",
       "      <th>75%</th>\n",
       "      <td>9199.242500</td>\n",
       "      <td>1931.005000</td>\n",
       "      <td>104.010000</td>\n",
       "      <td>3640.905000</td>\n",
       "      <td>5444.030000</td>\n",
       "    </tr>\n",
       "    <tr>\n",
       "      <th>max</th>\n",
       "      <td>88646.760000</td>\n",
       "      <td>104519.540000</td>\n",
       "      <td>141630.610000</td>\n",
       "      <td>67474.850000</td>\n",
       "      <td>108519.280000</td>\n",
       "    </tr>\n",
       "  </tbody>\n",
       "</table>\n",
       "</div>"
      ],
      "text/plain": [
       "         Promotion1     Promotion2     Promotion3    Promotion4     Promotion5\n",
       "count   2102.000000    1592.000000    1885.000000   1819.000000    2115.000000\n",
       "mean    7155.930661    3308.125810    1462.535523   3465.952501    4518.993173\n",
       "std     8408.206085    9382.823804    9667.580258   6413.116294    6048.661908\n",
       "min        0.270000    -265.760000     -29.100000      0.410000     135.160000\n",
       "25%     1844.295000      39.755000       4.700000    499.895000    1742.305000\n",
       "50%     5221.140000     205.410000      24.600000   1532.630000    3226.410000\n",
       "75%     9199.242500    1931.005000     104.010000   3640.905000    5444.030000\n",
       "max    88646.760000  104519.540000  141630.610000  67474.850000  108519.280000"
      ]
     },
     "execution_count": 22,
     "metadata": {},
     "output_type": "execute_result"
    }
   ],
   "source": [
    "df1[['Promotion1', 'Promotion2', 'Promotion3', 'Promotion4', 'Promotion5']].describe()"
   ]
  },
  {
   "cell_type": "markdown",
   "id": "9b8a759a",
   "metadata": {},
   "source": [
    "# 시각화"
   ]
  },
  {
   "cell_type": "markdown",
   "id": "f6cd6723",
   "metadata": {},
   "source": [
    "- Promotion1"
   ]
  },
  {
   "cell_type": "code",
   "execution_count": 23,
   "id": "a39a14db",
   "metadata": {},
   "outputs": [
    {
     "data": {
      "text/plain": [
       "<AxesSubplot:xlabel='Promotion1'>"
      ]
     },
     "execution_count": 23,
     "metadata": {},
     "output_type": "execute_result"
    },
    {
     "data": {
      "image/png": "[encoded data removed]",
      "text/plain": [
       "<Figure size 432x288 with 1 Axes>"
      ]
     },
     "metadata": {
      "needs_background": "light"
     },
     "output_type": "display_data"
    }
   ],
   "source": [
    "sns.boxplot(x='Promotion1', data=df1)"
   ]
  },
  {
   "cell_type": "markdown",
   "id": "ad9d90f3",
   "metadata": {},
   "source": [
    "- Promotion2"
   ]
  },
  {
   "cell_type": "code",
   "execution_count": 24,
   "id": "a83a7a08",
   "metadata": {},
   "outputs": [
    {
     "data": {
      "text/plain": [
       "<AxesSubplot:xlabel='Promotion2'>"
      ]
     },
     "execution_count": 24,
     "metadata": {},
     "output_type": "execute_result"
    },
    {
     "data": {
      "image/png": "[encoded data removed]",
      "text/plain": [
       "<Figure size 432x288 with 1 Axes>"
      ]
     },
     "metadata": {
      "needs_background": "light"
     },
     "output_type": "display_data"
    }
   ],
   "source": [
    "sns.boxplot(x='Promotion2', data=df1)"
   ]
  },
  {
   "cell_type": "markdown",
   "id": "f94f5cf1",
   "metadata": {},
   "source": [
    "- Promotion3"
   ]
  },
  {
   "cell_type": "code",
   "execution_count": 25,
   "id": "21b21525",
   "metadata": {},
   "outputs": [
    {
     "data": {
      "text/plain": [
       "<AxesSubplot:xlabel='Promotion3'>"
      ]
     },
     "execution_count": 25,
     "metadata": {},
     "output_type": "execute_result"
    },
    {
     "data": {
      "image/png": "[encoded data removed]",
      "text/plain": [
       "<Figure size 432x288 with 1 Axes>"
      ]
     },
     "metadata": {
      "needs_background": "light"
     },
     "output_type": "display_data"
    }
   ],
   "source": [
    "sns.boxplot(x='Promotion3', data=df1)"
   ]
  },
  {
   "cell_type": "markdown",
   "id": "2b829ef5",
   "metadata": {},
   "source": [
    "- Promotion4"
   ]
  },
  {
   "cell_type": "code",
   "execution_count": 26,
   "id": "eb6d29f1",
   "metadata": {},
   "outputs": [
    {
     "data": {
      "text/plain": [
       "<AxesSubplot:xlabel='Promotion4'>"
      ]
     },
     "execution_count": 26,
     "metadata": {},
     "output_type": "execute_result"
    },
    {
     "data": {
      "image/png": "[encoded data removed]",
      "text/plain": [
       "<Figure size 432x288 with 1 Axes>"
      ]
     },
     "metadata": {
      "needs_background": "light"
     },
     "output_type": "display_data"
    }
   ],
   "source": [
    "sns.boxplot(x='Promotion4', data=df1)"
   ]
  },
  {
   "cell_type": "markdown",
   "id": "f23cca65",
   "metadata": {},
   "source": [
    "- Promotion5"
   ]
  },
  {
   "cell_type": "code",
   "execution_count": 27,
   "id": "7ac5a8ed",
   "metadata": {},
   "outputs": [
    {
     "data": {
      "text/plain": [
       "<AxesSubplot:xlabel='Promotion5'>"
      ]
     },
     "execution_count": 27,
     "metadata": {},
     "output_type": "execute_result"
    },
    {
     "data": {
      "image/png": "[encoded data removed]",
      "text/plain": [
       "<Figure size 432x288 with 1 Axes>"
      ]
     },
     "metadata": {
      "needs_background": "light"
     },
     "output_type": "display_data"
    }
   ],
   "source": [
    "sns.boxplot(x='Promotion5', data=df1)"
   ]
  },
  {
   "cell_type": "markdown",
   "id": "16fa2182",
   "metadata": {},
   "source": [
    "- IsHoliday"
   ]
  },
  {
   "cell_type": "code",
   "execution_count": 56,
   "id": "d2726c38",
   "metadata": {},
   "outputs": [
    {
     "data": {
      "text/plain": [
       "<AxesSubplot:xlabel='IsHoliday', ylabel='count'>"
      ]
     },
     "execution_count": 56,
     "metadata": {},
     "output_type": "execute_result"
    },
    {
     "data": {
      "image/png": "[encoded data removed]",
      "text/plain": [
       "<Figure size 432x288 with 1 Axes>"
      ]
     },
     "metadata": {
      "needs_background": "light"
     },
     "output_type": "display_data"
    }
   ],
   "source": [
    "sns.countplot(x='IsHoliday', data=df1)"
   ]
  },
  {
   "cell_type": "markdown",
   "id": "d1a9b618",
   "metadata": {},
   "source": [
    "- Promotion과 Weekly_Sales scatter plot\n",
    "- Weekly_Sales과 Promotion 관계 알아보기"
   ]
  },
  {
   "cell_type": "code",
   "execution_count": 29,
   "id": "aa434734",
   "metadata": {},
   "outputs": [
    {
     "data": {
      "image/png": "[encoded data removed]",
      "text/plain": [
       "<Figure size 432x288 with 1 Axes>"
      ]
     },
     "metadata": {
      "needs_background": "light"
     },
     "output_type": "display_data"
    }
   ],
   "source": [
    "plt.scatter(x='Promotion1', y='Weekly_Sales', data=df1)\n",
    "plt.show()"
   ]
  },
  {
   "cell_type": "code",
   "execution_count": 30,
   "id": "6f918b6b",
   "metadata": {},
   "outputs": [
    {
     "data": {
      "image/png": "[encoded data removed]",
      "text/plain": [
       "<Figure size 432x288 with 1 Axes>"
      ]
     },
     "metadata": {
      "needs_background": "light"
     },
     "output_type": "display_data"
    }
   ],
   "source": [
    "plt.scatter(x='Promotion2', y='Weekly_Sales', data=df1)\n",
    "plt.show()"
   ]
  },
  {
   "cell_type": "code",
   "execution_count": 31,
   "id": "0567a4cc",
   "metadata": {},
   "outputs": [
    {
     "data": {
      "image/png": "[encoded data removed]",
      "text/plain": [
       "<Figure size 432x288 with 1 Axes>"
      ]
     },
     "metadata": {
      "needs_background": "light"
     },
     "output_type": "display_data"
    }
   ],
   "source": [
    "plt.scatter(x='Promotion3', y='Weekly_Sales', data=df1)\n",
    "plt.show()"
   ]
  },
  {
   "cell_type": "code",
   "execution_count": 32,
   "id": "2cc7b87a",
   "metadata": {},
   "outputs": [
    {
     "data": {
      "image/png": "[encoded data removed]",
      "text/plain": [
       "<Figure size 432x288 with 1 Axes>"
      ]
     },
     "metadata": {
      "needs_background": "light"
     },
     "output_type": "display_data"
    }
   ],
   "source": [
    "plt.scatter(x='Promotion4', y='Weekly_Sales', data=df1)\n",
    "plt.show()"
   ]
  },
  {
   "cell_type": "code",
   "execution_count": 33,
   "id": "4e279250",
   "metadata": {},
   "outputs": [
    {
     "data": {
      "image/png": "[encoded data removed]",
      "text/plain": [
       "<Figure size 432x288 with 1 Axes>"
      ]
     },
     "metadata": {
      "needs_background": "light"
     },
     "output_type": "display_data"
    }
   ],
   "source": [
    "plt.scatter(x='Promotion5', y='Weekly_Sales', data=df1)\n",
    "plt.show()"
   ]
  },
  {
   "cell_type": "code",
   "execution_count": 34,
   "id": "6e1bb0bd",
   "metadata": {},
   "outputs": [
    {
     "data": {
      "text/html": [
       "<div>\n",
       "<style scoped>\n",
       "    .dataframe tbody tr th:only-of-type {\n",
       "        vertical-align: middle;\n",
       "    }\n",
       "\n",
       "    .dataframe tbody tr th {\n",
       "        vertical-align: top;\n",
       "    }\n",
       "\n",
       "    .dataframe thead th {\n",
       "        text-align: right;\n",
       "    }\n",
       "</style>\n",
       "<table border=\"1\" class=\"dataframe\">\n",
       "  <thead>\n",
       "    <tr style=\"text-align: right;\">\n",
       "      <th></th>\n",
       "      <th>id</th>\n",
       "      <th>Store</th>\n",
       "      <th>Date</th>\n",
       "      <th>Temperature</th>\n",
       "      <th>Fuel_Price</th>\n",
       "      <th>Promotion1</th>\n",
       "      <th>Promotion2</th>\n",
       "      <th>Promotion3</th>\n",
       "      <th>Promotion4</th>\n",
       "      <th>Promotion5</th>\n",
       "      <th>Unemployment</th>\n",
       "      <th>IsHoliday</th>\n",
       "      <th>Weekly_Sales</th>\n",
       "    </tr>\n",
       "  </thead>\n",
       "  <tbody>\n",
       "    <tr>\n",
       "      <th>0</th>\n",
       "      <td>1</td>\n",
       "      <td>1</td>\n",
       "      <td>05/02/2010</td>\n",
       "      <td>42.31</td>\n",
       "      <td>2.572</td>\n",
       "      <td>NaN</td>\n",
       "      <td>NaN</td>\n",
       "      <td>NaN</td>\n",
       "      <td>NaN</td>\n",
       "      <td>NaN</td>\n",
       "      <td>8.106</td>\n",
       "      <td>0</td>\n",
       "      <td>1643690.90</td>\n",
       "    </tr>\n",
       "    <tr>\n",
       "      <th>1</th>\n",
       "      <td>2</td>\n",
       "      <td>1</td>\n",
       "      <td>12/02/2010</td>\n",
       "      <td>38.51</td>\n",
       "      <td>2.548</td>\n",
       "      <td>NaN</td>\n",
       "      <td>NaN</td>\n",
       "      <td>NaN</td>\n",
       "      <td>NaN</td>\n",
       "      <td>NaN</td>\n",
       "      <td>8.106</td>\n",
       "      <td>1</td>\n",
       "      <td>1641957.44</td>\n",
       "    </tr>\n",
       "    <tr>\n",
       "      <th>2</th>\n",
       "      <td>3</td>\n",
       "      <td>1</td>\n",
       "      <td>19/02/2010</td>\n",
       "      <td>39.93</td>\n",
       "      <td>2.514</td>\n",
       "      <td>NaN</td>\n",
       "      <td>NaN</td>\n",
       "      <td>NaN</td>\n",
       "      <td>NaN</td>\n",
       "      <td>NaN</td>\n",
       "      <td>8.106</td>\n",
       "      <td>0</td>\n",
       "      <td>1611968.17</td>\n",
       "    </tr>\n",
       "    <tr>\n",
       "      <th>3</th>\n",
       "      <td>4</td>\n",
       "      <td>1</td>\n",
       "      <td>26/02/2010</td>\n",
       "      <td>46.63</td>\n",
       "      <td>2.561</td>\n",
       "      <td>NaN</td>\n",
       "      <td>NaN</td>\n",
       "      <td>NaN</td>\n",
       "      <td>NaN</td>\n",
       "      <td>NaN</td>\n",
       "      <td>8.106</td>\n",
       "      <td>0</td>\n",
       "      <td>1409727.59</td>\n",
       "    </tr>\n",
       "    <tr>\n",
       "      <th>4</th>\n",
       "      <td>5</td>\n",
       "      <td>1</td>\n",
       "      <td>05/03/2010</td>\n",
       "      <td>46.50</td>\n",
       "      <td>2.625</td>\n",
       "      <td>NaN</td>\n",
       "      <td>NaN</td>\n",
       "      <td>NaN</td>\n",
       "      <td>NaN</td>\n",
       "      <td>NaN</td>\n",
       "      <td>8.106</td>\n",
       "      <td>0</td>\n",
       "      <td>1554806.68</td>\n",
       "    </tr>\n",
       "    <tr>\n",
       "      <th>...</th>\n",
       "      <td>...</td>\n",
       "      <td>...</td>\n",
       "      <td>...</td>\n",
       "      <td>...</td>\n",
       "      <td>...</td>\n",
       "      <td>...</td>\n",
       "      <td>...</td>\n",
       "      <td>...</td>\n",
       "      <td>...</td>\n",
       "      <td>...</td>\n",
       "      <td>...</td>\n",
       "      <td>...</td>\n",
       "      <td>...</td>\n",
       "    </tr>\n",
       "    <tr>\n",
       "      <th>134</th>\n",
       "      <td>135</td>\n",
       "      <td>1</td>\n",
       "      <td>31/08/2012</td>\n",
       "      <td>80.49</td>\n",
       "      <td>3.638</td>\n",
       "      <td>21442.73</td>\n",
       "      <td>102.32</td>\n",
       "      <td>21.70</td>\n",
       "      <td>13209.64</td>\n",
       "      <td>3032.96</td>\n",
       "      <td>6.908</td>\n",
       "      <td>0</td>\n",
       "      <td>1582083.40</td>\n",
       "    </tr>\n",
       "    <tr>\n",
       "      <th>135</th>\n",
       "      <td>136</td>\n",
       "      <td>1</td>\n",
       "      <td>07/09/2012</td>\n",
       "      <td>83.96</td>\n",
       "      <td>3.730</td>\n",
       "      <td>5204.68</td>\n",
       "      <td>35.74</td>\n",
       "      <td>50.94</td>\n",
       "      <td>4120.32</td>\n",
       "      <td>2737.17</td>\n",
       "      <td>6.908</td>\n",
       "      <td>1</td>\n",
       "      <td>1661767.33</td>\n",
       "    </tr>\n",
       "    <tr>\n",
       "      <th>136</th>\n",
       "      <td>137</td>\n",
       "      <td>1</td>\n",
       "      <td>14/09/2012</td>\n",
       "      <td>74.97</td>\n",
       "      <td>3.717</td>\n",
       "      <td>17212.52</td>\n",
       "      <td>7.00</td>\n",
       "      <td>18.79</td>\n",
       "      <td>1523.11</td>\n",
       "      <td>7992.72</td>\n",
       "      <td>6.908</td>\n",
       "      <td>0</td>\n",
       "      <td>1517428.87</td>\n",
       "    </tr>\n",
       "    <tr>\n",
       "      <th>137</th>\n",
       "      <td>138</td>\n",
       "      <td>1</td>\n",
       "      <td>21/09/2012</td>\n",
       "      <td>69.87</td>\n",
       "      <td>3.721</td>\n",
       "      <td>6352.30</td>\n",
       "      <td>7.64</td>\n",
       "      <td>4.69</td>\n",
       "      <td>1010.06</td>\n",
       "      <td>6456.71</td>\n",
       "      <td>6.908</td>\n",
       "      <td>0</td>\n",
       "      <td>1506126.06</td>\n",
       "    </tr>\n",
       "    <tr>\n",
       "      <th>138</th>\n",
       "      <td>139</td>\n",
       "      <td>1</td>\n",
       "      <td>28/09/2012</td>\n",
       "      <td>76.08</td>\n",
       "      <td>3.666</td>\n",
       "      <td>3666.27</td>\n",
       "      <td>7.64</td>\n",
       "      <td>1.65</td>\n",
       "      <td>1417.96</td>\n",
       "      <td>4744.28</td>\n",
       "      <td>6.908</td>\n",
       "      <td>0</td>\n",
       "      <td>1437059.26</td>\n",
       "    </tr>\n",
       "  </tbody>\n",
       "</table>\n",
       "<p>139 rows × 13 columns</p>\n",
       "</div>"
      ],
      "text/plain": [
       "      id  Store        Date  Temperature  Fuel_Price  Promotion1  Promotion2  \\\n",
       "0      1      1  05/02/2010        42.31       2.572         NaN         NaN   \n",
       "1      2      1  12/02/2010        38.51       2.548         NaN         NaN   \n",
       "2      3      1  19/02/2010        39.93       2.514         NaN         NaN   \n",
       "3      4      1  26/02/2010        46.63       2.561         NaN         NaN   \n",
       "4      5      1  05/03/2010        46.50       2.625         NaN         NaN   \n",
       "..   ...    ...         ...          ...         ...         ...         ...   \n",
       "134  135      1  31/08/2012        80.49       3.638    21442.73      102.32   \n",
       "135  136      1  07/09/2012        83.96       3.730     5204.68       35.74   \n",
       "136  137      1  14/09/2012        74.97       3.717    17212.52        7.00   \n",
       "137  138      1  21/09/2012        69.87       3.721     6352.30        7.64   \n",
       "138  139      1  28/09/2012        76.08       3.666     3666.27        7.64   \n",
       "\n",
       "     Promotion3  Promotion4  Promotion5  Unemployment  IsHoliday  Weekly_Sales  \n",
       "0           NaN         NaN         NaN         8.106          0    1643690.90  \n",
       "1           NaN         NaN         NaN         8.106          1    1641957.44  \n",
       "2           NaN         NaN         NaN         8.106          0    1611968.17  \n",
       "3           NaN         NaN         NaN         8.106          0    1409727.59  \n",
       "4           NaN         NaN         NaN         8.106          0    1554806.68  \n",
       "..          ...         ...         ...           ...        ...           ...  \n",
       "134       21.70    13209.64     3032.96         6.908          0    1582083.40  \n",
       "135       50.94     4120.32     2737.17         6.908          1    1661767.33  \n",
       "136       18.79     1523.11     7992.72         6.908          0    1517428.87  \n",
       "137        4.69     1010.06     6456.71         6.908          0    1506126.06  \n",
       "138        1.65     1417.96     4744.28         6.908          0    1437059.26  \n",
       "\n",
       "[139 rows x 13 columns]"
      ]
     },
     "execution_count": 34,
     "metadata": {},
     "output_type": "execute_result"
    }
   ],
   "source": [
    "df1_1=df1[df1['Store']==1]\n",
    "df1_1"
   ]
  },
  {
   "cell_type": "markdown",
   "id": "946579e9",
   "metadata": {},
   "source": [
    "## store 별 weekly_sales 시각화하기"
   ]
  },
  {
   "cell_type": "markdown",
   "id": "5753fbad",
   "metadata": {},
   "source": [
    "- 결측치 뺀값 count"
   ]
  },
  {
   "cell_type": "code",
   "execution_count": 36,
   "id": "d41a5193",
   "metadata": {},
   "outputs": [
    {
     "data": {
      "text/plain": [
       "2102"
      ]
     },
     "execution_count": 36,
     "metadata": {},
     "output_type": "execute_result"
    }
   ],
   "source": [
    "df[df['Promotion1'].isna()==False]['Promotion1'].count()"
   ]
  },
  {
   "cell_type": "code",
   "execution_count": 37,
   "id": "27d6cb29",
   "metadata": {},
   "outputs": [
    {
     "data": {
      "text/plain": [
       "1592"
      ]
     },
     "execution_count": 37,
     "metadata": {},
     "output_type": "execute_result"
    }
   ],
   "source": [
    "df[df['Promotion2'].isna()==False]['Promotion2'].count()"
   ]
  },
  {
   "cell_type": "code",
   "execution_count": 38,
   "id": "7436e020",
   "metadata": {},
   "outputs": [
    {
     "data": {
      "text/plain": [
       "1885"
      ]
     },
     "execution_count": 38,
     "metadata": {},
     "output_type": "execute_result"
    }
   ],
   "source": [
    "df[df['Promotion3'].isna()==False]['Promotion3'].count()"
   ]
  },
  {
   "cell_type": "code",
   "execution_count": 39,
   "id": "4c43c13e",
   "metadata": {},
   "outputs": [
    {
     "data": {
      "text/plain": [
       "1819"
      ]
     },
     "execution_count": 39,
     "metadata": {},
     "output_type": "execute_result"
    }
   ],
   "source": [
    "df[df['Promotion4'].isna()==False]['Promotion4'].count()"
   ]
  },
  {
   "cell_type": "code",
   "execution_count": 40,
   "id": "c1db6407",
   "metadata": {},
   "outputs": [
    {
     "data": {
      "text/plain": [
       "2115"
      ]
     },
     "execution_count": 40,
     "metadata": {},
     "output_type": "execute_result"
    }
   ],
   "source": [
    "df[df['Promotion5'].isna()==False]['Promotion5'].count()"
   ]
  },
  {
   "cell_type": "code",
   "execution_count": 41,
   "id": "c8559d42",
   "metadata": {},
   "outputs": [
    {
     "data": {
      "text/plain": [
       "1075150.3495337781"
      ]
     },
     "execution_count": 41,
     "metadata": {},
     "output_type": "execute_result"
    }
   ],
   "source": [
    "df[df['Promotion1'].isna()==False]['Weekly_Sales'].mean()"
   ]
  },
  {
   "cell_type": "code",
   "execution_count": 42,
   "id": "b8c5ed2e",
   "metadata": {},
   "outputs": [
    {
     "data": {
      "text/plain": [
       "1162937.6042839196"
      ]
     },
     "execution_count": 42,
     "metadata": {},
     "output_type": "execute_result"
    }
   ],
   "source": [
    "df[df['Promotion2'].isna()==False]['Weekly_Sales'].mean()"
   ]
  },
  {
   "cell_type": "code",
   "execution_count": 43,
   "id": "47b0b99f",
   "metadata": {},
   "outputs": [
    {
     "data": {
      "text/plain": [
       "1125100.6159045093"
      ]
     },
     "execution_count": 43,
     "metadata": {},
     "output_type": "execute_result"
    }
   ],
   "source": [
    "df[df['Promotion3'].isna()==False]['Weekly_Sales'].mean()"
   ]
  },
  {
   "cell_type": "code",
   "execution_count": 44,
   "id": "588f64c5",
   "metadata": {},
   "outputs": [
    {
     "data": {
      "text/plain": [
       "1171045.1504727872"
      ]
     },
     "execution_count": 44,
     "metadata": {},
     "output_type": "execute_result"
    }
   ],
   "source": [
    "df[df['Promotion4'].isna()==False]['Weekly_Sales'].mean()"
   ]
  },
  {
   "cell_type": "code",
   "execution_count": 45,
   "id": "51617001",
   "metadata": {},
   "outputs": [
    {
     "data": {
      "text/plain": [
       "1071090.3508179677"
      ]
     },
     "execution_count": 45,
     "metadata": {},
     "output_type": "execute_result"
    }
   ],
   "source": [
    "df[df['Promotion5'].isna()==False]['Weekly_Sales'].mean()"
   ]
  },
  {
   "cell_type": "code",
   "execution_count": 46,
   "id": "ff43ae18",
   "metadata": {},
   "outputs": [
    {
     "data": {
      "text/html": [
       "<div>\n",
       "<style scoped>\n",
       "    .dataframe tbody tr th:only-of-type {\n",
       "        vertical-align: middle;\n",
       "    }\n",
       "\n",
       "    .dataframe tbody tr th {\n",
       "        vertical-align: top;\n",
       "    }\n",
       "\n",
       "    .dataframe thead th {\n",
       "        text-align: right;\n",
       "    }\n",
       "</style>\n",
       "<table border=\"1\" class=\"dataframe\">\n",
       "  <thead>\n",
       "    <tr style=\"text-align: right;\">\n",
       "      <th></th>\n",
       "      <th>Promotion1</th>\n",
       "      <th>Promotion2</th>\n",
       "      <th>Promotion3</th>\n",
       "      <th>Promotion4</th>\n",
       "      <th>Promotion5</th>\n",
       "      <th>Weekly_Sales</th>\n",
       "    </tr>\n",
       "  </thead>\n",
       "  <tbody>\n",
       "    <tr>\n",
       "      <th>0</th>\n",
       "      <td>NaN</td>\n",
       "      <td>NaN</td>\n",
       "      <td>NaN</td>\n",
       "      <td>NaN</td>\n",
       "      <td>NaN</td>\n",
       "      <td>1643690.90</td>\n",
       "    </tr>\n",
       "    <tr>\n",
       "      <th>1</th>\n",
       "      <td>NaN</td>\n",
       "      <td>NaN</td>\n",
       "      <td>NaN</td>\n",
       "      <td>NaN</td>\n",
       "      <td>NaN</td>\n",
       "      <td>1641957.44</td>\n",
       "    </tr>\n",
       "    <tr>\n",
       "      <th>2</th>\n",
       "      <td>NaN</td>\n",
       "      <td>NaN</td>\n",
       "      <td>NaN</td>\n",
       "      <td>NaN</td>\n",
       "      <td>NaN</td>\n",
       "      <td>1611968.17</td>\n",
       "    </tr>\n",
       "    <tr>\n",
       "      <th>3</th>\n",
       "      <td>NaN</td>\n",
       "      <td>NaN</td>\n",
       "      <td>NaN</td>\n",
       "      <td>NaN</td>\n",
       "      <td>NaN</td>\n",
       "      <td>1409727.59</td>\n",
       "    </tr>\n",
       "    <tr>\n",
       "      <th>4</th>\n",
       "      <td>NaN</td>\n",
       "      <td>NaN</td>\n",
       "      <td>NaN</td>\n",
       "      <td>NaN</td>\n",
       "      <td>NaN</td>\n",
       "      <td>1554806.68</td>\n",
       "    </tr>\n",
       "    <tr>\n",
       "      <th>...</th>\n",
       "      <td>...</td>\n",
       "      <td>...</td>\n",
       "      <td>...</td>\n",
       "      <td>...</td>\n",
       "      <td>...</td>\n",
       "      <td>...</td>\n",
       "    </tr>\n",
       "    <tr>\n",
       "      <th>6250</th>\n",
       "      <td>23641.30</td>\n",
       "      <td>6.00</td>\n",
       "      <td>92.93</td>\n",
       "      <td>6988.31</td>\n",
       "      <td>3992.13</td>\n",
       "      <td>734297.87</td>\n",
       "    </tr>\n",
       "    <tr>\n",
       "      <th>6251</th>\n",
       "      <td>11024.45</td>\n",
       "      <td>12.80</td>\n",
       "      <td>52.63</td>\n",
       "      <td>1854.77</td>\n",
       "      <td>2055.70</td>\n",
       "      <td>766512.66</td>\n",
       "    </tr>\n",
       "    <tr>\n",
       "      <th>6252</th>\n",
       "      <td>11407.95</td>\n",
       "      <td>NaN</td>\n",
       "      <td>4.30</td>\n",
       "      <td>3421.72</td>\n",
       "      <td>5268.92</td>\n",
       "      <td>702238.27</td>\n",
       "    </tr>\n",
       "    <tr>\n",
       "      <th>6253</th>\n",
       "      <td>8452.20</td>\n",
       "      <td>92.28</td>\n",
       "      <td>63.24</td>\n",
       "      <td>2376.38</td>\n",
       "      <td>8670.40</td>\n",
       "      <td>723086.20</td>\n",
       "    </tr>\n",
       "    <tr>\n",
       "      <th>6254</th>\n",
       "      <td>4556.61</td>\n",
       "      <td>20.64</td>\n",
       "      <td>1.50</td>\n",
       "      <td>1601.01</td>\n",
       "      <td>3288.25</td>\n",
       "      <td>713173.95</td>\n",
       "    </tr>\n",
       "  </tbody>\n",
       "</table>\n",
       "<p>6255 rows × 6 columns</p>\n",
       "</div>"
      ],
      "text/plain": [
       "      Promotion1  Promotion2  Promotion3  Promotion4  Promotion5  Weekly_Sales\n",
       "0            NaN         NaN         NaN         NaN         NaN    1643690.90\n",
       "1            NaN         NaN         NaN         NaN         NaN    1641957.44\n",
       "2            NaN         NaN         NaN         NaN         NaN    1611968.17\n",
       "3            NaN         NaN         NaN         NaN         NaN    1409727.59\n",
       "4            NaN         NaN         NaN         NaN         NaN    1554806.68\n",
       "...          ...         ...         ...         ...         ...           ...\n",
       "6250    23641.30        6.00       92.93     6988.31     3992.13     734297.87\n",
       "6251    11024.45       12.80       52.63     1854.77     2055.70     766512.66\n",
       "6252    11407.95         NaN        4.30     3421.72     5268.92     702238.27\n",
       "6253     8452.20       92.28       63.24     2376.38     8670.40     723086.20\n",
       "6254     4556.61       20.64        1.50     1601.01     3288.25     713173.95\n",
       "\n",
       "[6255 rows x 6 columns]"
      ]
     },
     "execution_count": 46,
     "metadata": {},
     "output_type": "execute_result"
    }
   ],
   "source": [
    "Promotion=df1[['Promotion1', 'Promotion2', 'Promotion3', 'Promotion4', 'Promotion5','Weekly_Sales']]\n",
    "Promotion"
   ]
  },
  {
   "cell_type": "code",
   "execution_count": 47,
   "id": "cec551f0",
   "metadata": {},
   "outputs": [
    {
     "data": {
      "text/html": [
       "<div>\n",
       "<style scoped>\n",
       "    .dataframe tbody tr th:only-of-type {\n",
       "        vertical-align: middle;\n",
       "    }\n",
       "\n",
       "    .dataframe tbody tr th {\n",
       "        vertical-align: top;\n",
       "    }\n",
       "\n",
       "    .dataframe thead th {\n",
       "        text-align: right;\n",
       "    }\n",
       "</style>\n",
       "<table border=\"1\" class=\"dataframe\">\n",
       "  <thead>\n",
       "    <tr style=\"text-align: right;\">\n",
       "      <th></th>\n",
       "      <th>Promotion1</th>\n",
       "      <th>Promotion2</th>\n",
       "      <th>Promotion3</th>\n",
       "      <th>Promotion4</th>\n",
       "      <th>Promotion5</th>\n",
       "      <th>Weekly_Sales</th>\n",
       "    </tr>\n",
       "  </thead>\n",
       "  <tbody>\n",
       "    <tr>\n",
       "      <th>92</th>\n",
       "      <td>10382.90</td>\n",
       "      <td>6115.67</td>\n",
       "      <td>215.07</td>\n",
       "      <td>2406.62</td>\n",
       "      <td>6551.42</td>\n",
       "      <td>1594938.89</td>\n",
       "    </tr>\n",
       "    <tr>\n",
       "      <th>93</th>\n",
       "      <td>6074.12</td>\n",
       "      <td>254.39</td>\n",
       "      <td>51.98</td>\n",
       "      <td>427.39</td>\n",
       "      <td>5988.57</td>\n",
       "      <td>1539483.70</td>\n",
       "    </tr>\n",
       "    <tr>\n",
       "      <th>94</th>\n",
       "      <td>410.31</td>\n",
       "      <td>98.00</td>\n",
       "      <td>55805.51</td>\n",
       "      <td>8.00</td>\n",
       "      <td>554.92</td>\n",
       "      <td>2033320.66</td>\n",
       "    </tr>\n",
       "    <tr>\n",
       "      <th>95</th>\n",
       "      <td>5629.51</td>\n",
       "      <td>68.00</td>\n",
       "      <td>1398.11</td>\n",
       "      <td>2084.64</td>\n",
       "      <td>20475.32</td>\n",
       "      <td>1584083.95</td>\n",
       "    </tr>\n",
       "    <tr>\n",
       "      <th>96</th>\n",
       "      <td>4640.65</td>\n",
       "      <td>19.00</td>\n",
       "      <td>105.02</td>\n",
       "      <td>3639.42</td>\n",
       "      <td>14461.82</td>\n",
       "      <td>1799682.38</td>\n",
       "    </tr>\n",
       "    <tr>\n",
       "      <th>...</th>\n",
       "      <td>...</td>\n",
       "      <td>...</td>\n",
       "      <td>...</td>\n",
       "      <td>...</td>\n",
       "      <td>...</td>\n",
       "      <td>...</td>\n",
       "    </tr>\n",
       "    <tr>\n",
       "      <th>6249</th>\n",
       "      <td>7936.20</td>\n",
       "      <td>58.38</td>\n",
       "      <td>22.00</td>\n",
       "      <td>5518.07</td>\n",
       "      <td>2291.97</td>\n",
       "      <td>718232.26</td>\n",
       "    </tr>\n",
       "    <tr>\n",
       "      <th>6250</th>\n",
       "      <td>23641.30</td>\n",
       "      <td>6.00</td>\n",
       "      <td>92.93</td>\n",
       "      <td>6988.31</td>\n",
       "      <td>3992.13</td>\n",
       "      <td>734297.87</td>\n",
       "    </tr>\n",
       "    <tr>\n",
       "      <th>6251</th>\n",
       "      <td>11024.45</td>\n",
       "      <td>12.80</td>\n",
       "      <td>52.63</td>\n",
       "      <td>1854.77</td>\n",
       "      <td>2055.70</td>\n",
       "      <td>766512.66</td>\n",
       "    </tr>\n",
       "    <tr>\n",
       "      <th>6253</th>\n",
       "      <td>8452.20</td>\n",
       "      <td>92.28</td>\n",
       "      <td>63.24</td>\n",
       "      <td>2376.38</td>\n",
       "      <td>8670.40</td>\n",
       "      <td>723086.20</td>\n",
       "    </tr>\n",
       "    <tr>\n",
       "      <th>6254</th>\n",
       "      <td>4556.61</td>\n",
       "      <td>20.64</td>\n",
       "      <td>1.50</td>\n",
       "      <td>1601.01</td>\n",
       "      <td>3288.25</td>\n",
       "      <td>713173.95</td>\n",
       "    </tr>\n",
       "  </tbody>\n",
       "</table>\n",
       "<p>1368 rows × 6 columns</p>\n",
       "</div>"
      ],
      "text/plain": [
       "      Promotion1  Promotion2  Promotion3  Promotion4  Promotion5  Weekly_Sales\n",
       "92      10382.90     6115.67      215.07     2406.62     6551.42    1594938.89\n",
       "93       6074.12      254.39       51.98      427.39     5988.57    1539483.70\n",
       "94        410.31       98.00    55805.51        8.00      554.92    2033320.66\n",
       "95       5629.51       68.00     1398.11     2084.64    20475.32    1584083.95\n",
       "96       4640.65       19.00      105.02     3639.42    14461.82    1799682.38\n",
       "...          ...         ...         ...         ...         ...           ...\n",
       "6249     7936.20       58.38       22.00     5518.07     2291.97     718232.26\n",
       "6250    23641.30        6.00       92.93     6988.31     3992.13     734297.87\n",
       "6251    11024.45       12.80       52.63     1854.77     2055.70     766512.66\n",
       "6253     8452.20       92.28       63.24     2376.38     8670.40     723086.20\n",
       "6254     4556.61       20.64        1.50     1601.01     3288.25     713173.95\n",
       "\n",
       "[1368 rows x 6 columns]"
      ]
     },
     "execution_count": 47,
     "metadata": {},
     "output_type": "execute_result"
    }
   ],
   "source": [
    "Promotion=Promotion.dropna()\n",
    "Promotion"
   ]
  },
  {
   "cell_type": "code",
   "execution_count": 48,
   "id": "80430cd6",
   "metadata": {},
   "outputs": [
    {
     "data": {
      "text/plain": [
       "Promotion1      0\n",
       "Promotion2      0\n",
       "Promotion3      0\n",
       "Promotion4      0\n",
       "Promotion5      0\n",
       "Weekly_Sales    0\n",
       "dtype: int64"
      ]
     },
     "execution_count": 48,
     "metadata": {},
     "output_type": "execute_result"
    }
   ],
   "source": [
    "Promotion.isnull().sum()"
   ]
  },
  {
   "cell_type": "code",
   "execution_count": 49,
   "id": "0091235f",
   "metadata": {},
   "outputs": [
    {
     "data": {
      "text/html": [
       "<div>\n",
       "<style scoped>\n",
       "    .dataframe tbody tr th:only-of-type {\n",
       "        vertical-align: middle;\n",
       "    }\n",
       "\n",
       "    .dataframe tbody tr th {\n",
       "        vertical-align: top;\n",
       "    }\n",
       "\n",
       "    .dataframe thead th {\n",
       "        text-align: right;\n",
       "    }\n",
       "</style>\n",
       "<table border=\"1\" class=\"dataframe\">\n",
       "  <thead>\n",
       "    <tr style=\"text-align: right;\">\n",
       "      <th></th>\n",
       "      <th>id</th>\n",
       "      <th>Store</th>\n",
       "      <th>Temperature</th>\n",
       "      <th>Fuel_Price</th>\n",
       "      <th>Promotion1</th>\n",
       "      <th>Promotion2</th>\n",
       "      <th>Promotion3</th>\n",
       "      <th>Promotion4</th>\n",
       "      <th>Promotion5</th>\n",
       "      <th>Unemployment</th>\n",
       "      <th>IsHoliday</th>\n",
       "      <th>Weekly_Sales</th>\n",
       "    </tr>\n",
       "  </thead>\n",
       "  <tbody>\n",
       "    <tr>\n",
       "      <th>id</th>\n",
       "      <td>1.000000e+00</td>\n",
       "      <td>9.997531e-01</td>\n",
       "      <td>-0.019554</td>\n",
       "      <td>0.075666</td>\n",
       "      <td>-0.157843</td>\n",
       "      <td>-0.042932</td>\n",
       "      <td>-0.039226</td>\n",
       "      <td>-0.015269</td>\n",
       "      <td>-0.051893</td>\n",
       "      <td>0.218548</td>\n",
       "      <td>1.475431e-16</td>\n",
       "      <td>-0.335276</td>\n",
       "    </tr>\n",
       "    <tr>\n",
       "      <th>Store</th>\n",
       "      <td>9.997531e-01</td>\n",
       "      <td>1.000000e+00</td>\n",
       "      <td>-0.022895</td>\n",
       "      <td>0.058628</td>\n",
       "      <td>-0.158183</td>\n",
       "      <td>-0.040512</td>\n",
       "      <td>-0.037557</td>\n",
       "      <td>-0.015109</td>\n",
       "      <td>-0.051439</td>\n",
       "      <td>0.223808</td>\n",
       "      <td>1.547191e-16</td>\n",
       "      <td>-0.335569</td>\n",
       "    </tr>\n",
       "    <tr>\n",
       "      <th>Temperature</th>\n",
       "      <td>-1.955428e-02</td>\n",
       "      <td>-2.289476e-02</td>\n",
       "      <td>1.000000</td>\n",
       "      <td>0.148054</td>\n",
       "      <td>-0.059489</td>\n",
       "      <td>-0.323549</td>\n",
       "      <td>-0.097627</td>\n",
       "      <td>-0.072568</td>\n",
       "      <td>-0.027799</td>\n",
       "      <td>0.102688</td>\n",
       "      <td>-1.555954e-01</td>\n",
       "      <td>-0.063231</td>\n",
       "    </tr>\n",
       "    <tr>\n",
       "      <th>Fuel_Price</th>\n",
       "      <td>7.566586e-02</td>\n",
       "      <td>5.862843e-02</td>\n",
       "      <td>0.148054</td>\n",
       "      <td>1.000000</td>\n",
       "      <td>0.087613</td>\n",
       "      <td>-0.214387</td>\n",
       "      <td>-0.095478</td>\n",
       "      <td>-0.028819</td>\n",
       "      <td>-0.116167</td>\n",
       "      <td>-0.025728</td>\n",
       "      <td>-7.148479e-02</td>\n",
       "      <td>0.010986</td>\n",
       "    </tr>\n",
       "    <tr>\n",
       "      <th>Promotion1</th>\n",
       "      <td>-1.578430e-01</td>\n",
       "      <td>-1.581835e-01</td>\n",
       "      <td>-0.059489</td>\n",
       "      <td>0.087613</td>\n",
       "      <td>1.000000</td>\n",
       "      <td>0.028262</td>\n",
       "      <td>-0.108023</td>\n",
       "      <td>0.820015</td>\n",
       "      <td>0.173296</td>\n",
       "      <td>0.030090</td>\n",
       "      <td>-4.375904e-02</td>\n",
       "      <td>0.317564</td>\n",
       "    </tr>\n",
       "    <tr>\n",
       "      <th>Promotion2</th>\n",
       "      <td>-4.293211e-02</td>\n",
       "      <td>-4.051200e-02</td>\n",
       "      <td>-0.323549</td>\n",
       "      <td>-0.214387</td>\n",
       "      <td>0.028262</td>\n",
       "      <td>1.000000</td>\n",
       "      <td>-0.049666</td>\n",
       "      <td>-0.009585</td>\n",
       "      <td>-0.006747</td>\n",
       "      <td>0.017877</td>\n",
       "      <td>3.264987e-01</td>\n",
       "      <td>0.094407</td>\n",
       "    </tr>\n",
       "    <tr>\n",
       "      <th>Promotion3</th>\n",
       "      <td>-3.922622e-02</td>\n",
       "      <td>-3.755728e-02</td>\n",
       "      <td>-0.097627</td>\n",
       "      <td>-0.095478</td>\n",
       "      <td>-0.108023</td>\n",
       "      <td>-0.049666</td>\n",
       "      <td>1.000000</td>\n",
       "      <td>-0.073920</td>\n",
       "      <td>-0.024157</td>\n",
       "      <td>0.008663</td>\n",
       "      <td>4.162788e-01</td>\n",
       "      <td>0.199661</td>\n",
       "    </tr>\n",
       "    <tr>\n",
       "      <th>Promotion4</th>\n",
       "      <td>-1.526918e-02</td>\n",
       "      <td>-1.510892e-02</td>\n",
       "      <td>-0.072568</td>\n",
       "      <td>-0.028819</td>\n",
       "      <td>0.820015</td>\n",
       "      <td>-0.009585</td>\n",
       "      <td>-0.073920</td>\n",
       "      <td>1.000000</td>\n",
       "      <td>0.107567</td>\n",
       "      <td>0.017714</td>\n",
       "      <td>-9.818811e-03</td>\n",
       "      <td>0.162143</td>\n",
       "    </tr>\n",
       "    <tr>\n",
       "      <th>Promotion5</th>\n",
       "      <td>-5.189250e-02</td>\n",
       "      <td>-5.143911e-02</td>\n",
       "      <td>-0.027799</td>\n",
       "      <td>-0.116167</td>\n",
       "      <td>0.173296</td>\n",
       "      <td>-0.006747</td>\n",
       "      <td>-0.024157</td>\n",
       "      <td>0.107567</td>\n",
       "      <td>1.000000</td>\n",
       "      <td>-0.007787</td>\n",
       "      <td>-5.648109e-02</td>\n",
       "      <td>0.297707</td>\n",
       "    </tr>\n",
       "    <tr>\n",
       "      <th>Unemployment</th>\n",
       "      <td>2.185480e-01</td>\n",
       "      <td>2.238084e-01</td>\n",
       "      <td>0.102688</td>\n",
       "      <td>-0.025728</td>\n",
       "      <td>0.030090</td>\n",
       "      <td>0.017877</td>\n",
       "      <td>0.008663</td>\n",
       "      <td>0.017714</td>\n",
       "      <td>-0.007787</td>\n",
       "      <td>1.000000</td>\n",
       "      <td>6.666948e-03</td>\n",
       "      <td>-0.107331</td>\n",
       "    </tr>\n",
       "    <tr>\n",
       "      <th>IsHoliday</th>\n",
       "      <td>1.475431e-16</td>\n",
       "      <td>1.547191e-16</td>\n",
       "      <td>-0.155595</td>\n",
       "      <td>-0.071485</td>\n",
       "      <td>-0.043759</td>\n",
       "      <td>0.326499</td>\n",
       "      <td>0.416279</td>\n",
       "      <td>-0.009819</td>\n",
       "      <td>-0.056481</td>\n",
       "      <td>0.006667</td>\n",
       "      <td>1.000000e+00</td>\n",
       "      <td>0.037066</td>\n",
       "    </tr>\n",
       "    <tr>\n",
       "      <th>Weekly_Sales</th>\n",
       "      <td>-3.352762e-01</td>\n",
       "      <td>-3.355685e-01</td>\n",
       "      <td>-0.063231</td>\n",
       "      <td>0.010986</td>\n",
       "      <td>0.317564</td>\n",
       "      <td>0.094407</td>\n",
       "      <td>0.199661</td>\n",
       "      <td>0.162143</td>\n",
       "      <td>0.297707</td>\n",
       "      <td>-0.107331</td>\n",
       "      <td>3.706563e-02</td>\n",
       "      <td>1.000000</td>\n",
       "    </tr>\n",
       "  </tbody>\n",
       "</table>\n",
       "</div>"
      ],
      "text/plain": [
       "                        id         Store  Temperature  Fuel_Price  Promotion1  \\\n",
       "id            1.000000e+00  9.997531e-01    -0.019554    0.075666   -0.157843   \n",
       "Store         9.997531e-01  1.000000e+00    -0.022895    0.058628   -0.158183   \n",
       "Temperature  -1.955428e-02 -2.289476e-02     1.000000    0.148054   -0.059489   \n",
       "Fuel_Price    7.566586e-02  5.862843e-02     0.148054    1.000000    0.087613   \n",
       "Promotion1   -1.578430e-01 -1.581835e-01    -0.059489    0.087613    1.000000   \n",
       "Promotion2   -4.293211e-02 -4.051200e-02    -0.323549   -0.214387    0.028262   \n",
       "Promotion3   -3.922622e-02 -3.755728e-02    -0.097627   -0.095478   -0.108023   \n",
       "Promotion4   -1.526918e-02 -1.510892e-02    -0.072568   -0.028819    0.820015   \n",
       "Promotion5   -5.189250e-02 -5.143911e-02    -0.027799   -0.116167    0.173296   \n",
       "Unemployment  2.185480e-01  2.238084e-01     0.102688   -0.025728    0.030090   \n",
       "IsHoliday     1.475431e-16  1.547191e-16    -0.155595   -0.071485   -0.043759   \n",
       "Weekly_Sales -3.352762e-01 -3.355685e-01    -0.063231    0.010986    0.317564   \n",
       "\n",
       "              Promotion2  Promotion3  Promotion4  Promotion5  Unemployment  \\\n",
       "id             -0.042932   -0.039226   -0.015269   -0.051893      0.218548   \n",
       "Store          -0.040512   -0.037557   -0.015109   -0.051439      0.223808   \n",
       "Temperature    -0.323549   -0.097627   -0.072568   -0.027799      0.102688   \n",
       "Fuel_Price     -0.214387   -0.095478   -0.028819   -0.116167     -0.025728   \n",
       "Promotion1      0.028262   -0.108023    0.820015    0.173296      0.030090   \n",
       "Promotion2      1.000000   -0.049666   -0.009585   -0.006747      0.017877   \n",
       "Promotion3     -0.049666    1.000000   -0.073920   -0.024157      0.008663   \n",
       "Promotion4     -0.009585   -0.073920    1.000000    0.107567      0.017714   \n",
       "Promotion5     -0.006747   -0.024157    0.107567    1.000000     -0.007787   \n",
       "Unemployment    0.017877    0.008663    0.017714   -0.007787      1.000000   \n",
       "IsHoliday       0.326499    0.416279   -0.009819   -0.056481      0.006667   \n",
       "Weekly_Sales    0.094407    0.199661    0.162143    0.297707     -0.107331   \n",
       "\n",
       "                 IsHoliday  Weekly_Sales  \n",
       "id            1.475431e-16     -0.335276  \n",
       "Store         1.547191e-16     -0.335569  \n",
       "Temperature  -1.555954e-01     -0.063231  \n",
       "Fuel_Price   -7.148479e-02      0.010986  \n",
       "Promotion1   -4.375904e-02      0.317564  \n",
       "Promotion2    3.264987e-01      0.094407  \n",
       "Promotion3    4.162788e-01      0.199661  \n",
       "Promotion4   -9.818811e-03      0.162143  \n",
       "Promotion5   -5.648109e-02      0.297707  \n",
       "Unemployment  6.666948e-03     -0.107331  \n",
       "IsHoliday     1.000000e+00      0.037066  \n",
       "Weekly_Sales  3.706563e-02      1.000000  "
      ]
     },
     "execution_count": 49,
     "metadata": {},
     "output_type": "execute_result"
    }
   ],
   "source": [
    "df1.corr()"
   ]
  },
  {
   "cell_type": "code",
   "execution_count": 50,
   "id": "b2162c50",
   "metadata": {},
   "outputs": [
    {
     "data": {
      "text/plain": [
       "<AxesSubplot:>"
      ]
     },
     "execution_count": 50,
     "metadata": {},
     "output_type": "execute_result"
    },
    {
     "data": {
      "image/png": "[encoded data removed]",
      "text/plain": [
       "<Figure size 1080x1080 with 2 Axes>"
      ]
     },
     "metadata": {
      "needs_background": "light"
     },
     "output_type": "display_data"
    }
   ],
   "source": [
    "plt.figure(figsize=(15,15))\n",
    "sns.heatmap(data = df1.corr(), annot=True, \n",
    "fmt = '.2f', linewidths=.5, cmap='Blues')"
   ]
  },
  {
   "cell_type": "markdown",
   "id": "a83ff505",
   "metadata": {},
   "source": [
    "## 결측치 처리"
   ]
  },
  {
   "cell_type": "markdown",
   "id": "646badd1",
   "metadata": {},
   "source": [
    "- 0으로 결측치 채우기"
   ]
  },
  {
   "cell_type": "code",
   "execution_count": 51,
   "id": "291f6c12",
   "metadata": {},
   "outputs": [
    {
     "data": {
      "text/html": [
       "<div>\n",
       "<style scoped>\n",
       "    .dataframe tbody tr th:only-of-type {\n",
       "        vertical-align: middle;\n",
       "    }\n",
       "\n",
       "    .dataframe tbody tr th {\n",
       "        vertical-align: top;\n",
       "    }\n",
       "\n",
       "    .dataframe thead th {\n",
       "        text-align: right;\n",
       "    }\n",
       "</style>\n",
       "<table border=\"1\" class=\"dataframe\">\n",
       "  <thead>\n",
       "    <tr style=\"text-align: right;\">\n",
       "      <th></th>\n",
       "      <th>Promotion1</th>\n",
       "      <th>Promotion2</th>\n",
       "      <th>Promotion3</th>\n",
       "      <th>Promotion4</th>\n",
       "      <th>Promotion5</th>\n",
       "    </tr>\n",
       "  </thead>\n",
       "  <tbody>\n",
       "    <tr>\n",
       "      <th>count</th>\n",
       "      <td>2102.000000</td>\n",
       "      <td>1592.000000</td>\n",
       "      <td>1885.000000</td>\n",
       "      <td>1819.000000</td>\n",
       "      <td>2115.000000</td>\n",
       "    </tr>\n",
       "    <tr>\n",
       "      <th>mean</th>\n",
       "      <td>7155.930661</td>\n",
       "      <td>3308.125810</td>\n",
       "      <td>1462.535523</td>\n",
       "      <td>3465.952501</td>\n",
       "      <td>4518.993173</td>\n",
       "    </tr>\n",
       "    <tr>\n",
       "      <th>std</th>\n",
       "      <td>8408.206085</td>\n",
       "      <td>9382.823804</td>\n",
       "      <td>9667.580258</td>\n",
       "      <td>6413.116294</td>\n",
       "      <td>6048.661908</td>\n",
       "    </tr>\n",
       "    <tr>\n",
       "      <th>min</th>\n",
       "      <td>0.270000</td>\n",
       "      <td>-265.760000</td>\n",
       "      <td>-29.100000</td>\n",
       "      <td>0.410000</td>\n",
       "      <td>135.160000</td>\n",
       "    </tr>\n",
       "    <tr>\n",
       "      <th>25%</th>\n",
       "      <td>1844.295000</td>\n",
       "      <td>39.755000</td>\n",
       "      <td>4.700000</td>\n",
       "      <td>499.895000</td>\n",
       "      <td>1742.305000</td>\n",
       "    </tr>\n",
       "    <tr>\n",
       "      <th>50%</th>\n",
       "      <td>5221.140000</td>\n",
       "      <td>205.410000</td>\n",
       "      <td>24.600000</td>\n",
       "      <td>1532.630000</td>\n",
       "      <td>3226.410000</td>\n",
       "    </tr>\n",
       "    <tr>\n",
       "      <th>75%</th>\n",
       "      <td>9199.242500</td>\n",
       "      <td>1931.005000</td>\n",
       "      <td>104.010000</td>\n",
       "      <td>3640.905000</td>\n",
       "      <td>5444.030000</td>\n",
       "    </tr>\n",
       "    <tr>\n",
       "      <th>max</th>\n",
       "      <td>88646.760000</td>\n",
       "      <td>104519.540000</td>\n",
       "      <td>141630.610000</td>\n",
       "      <td>67474.850000</td>\n",
       "      <td>108519.280000</td>\n",
       "    </tr>\n",
       "  </tbody>\n",
       "</table>\n",
       "</div>"
      ],
      "text/plain": [
       "         Promotion1     Promotion2     Promotion3    Promotion4     Promotion5\n",
       "count   2102.000000    1592.000000    1885.000000   1819.000000    2115.000000\n",
       "mean    7155.930661    3308.125810    1462.535523   3465.952501    4518.993173\n",
       "std     8408.206085    9382.823804    9667.580258   6413.116294    6048.661908\n",
       "min        0.270000    -265.760000     -29.100000      0.410000     135.160000\n",
       "25%     1844.295000      39.755000       4.700000    499.895000    1742.305000\n",
       "50%     5221.140000     205.410000      24.600000   1532.630000    3226.410000\n",
       "75%     9199.242500    1931.005000     104.010000   3640.905000    5444.030000\n",
       "max    88646.760000  104519.540000  141630.610000  67474.850000  108519.280000"
      ]
     },
     "execution_count": 51,
     "metadata": {},
     "output_type": "execute_result"
    }
   ],
   "source": [
    "df1[['Promotion1', 'Promotion2', 'Promotion3', 'Promotion4', 'Promotion5']].describe()"
   ]
  },
  {
   "cell_type": "code",
   "execution_count": 52,
   "id": "236cdf5f",
   "metadata": {},
   "outputs": [],
   "source": [
    "df1['Promotion1']=df1['Promotion1'].fillna(0)"
   ]
  },
  {
   "cell_type": "code",
   "execution_count": 53,
   "id": "62f9493a",
   "metadata": {},
   "outputs": [],
   "source": [
    "df1['Promotion2']=df1['Promotion2'].fillna(0)"
   ]
  },
  {
   "cell_type": "code",
   "execution_count": 54,
   "id": "1f850044",
   "metadata": {},
   "outputs": [],
   "source": [
    "df1['Promotion3']=df1['Promotion3'].fillna(0)"
   ]
  },
  {
   "cell_type": "code",
   "execution_count": 55,
   "id": "93212221",
   "metadata": {},
   "outputs": [],
   "source": [
    "df1['Promotion4']=df1['Promotion4'].fillna(0)"
   ]
  },
  {
   "cell_type": "code",
   "execution_count": 56,
   "id": "fcdbf00c",
   "metadata": {},
   "outputs": [],
   "source": [
    "df1['Promotion5']=df1['Promotion5'].fillna(0)"
   ]
  },
  {
   "cell_type": "markdown",
   "id": "181458f5",
   "metadata": {},
   "source": [
    "## 날짜 분리하기"
   ]
  },
  {
   "cell_type": "code",
   "execution_count": 66,
   "id": "f7964001",
   "metadata": {},
   "outputs": [],
   "source": [
    "def yy(df1):\n",
    "    return df1.split('/')[2]\n",
    "df1['year']=df1['Date'].apply(yy)"
   ]
  },
  {
   "cell_type": "code",
   "execution_count": 67,
   "id": "6a1be201",
   "metadata": {},
   "outputs": [],
   "source": [
    "def mm(df1):\n",
    "    return df1.split('/')[1]\n",
    "df1['month']=df1['Date'].apply(mm)"
   ]
  },
  {
   "cell_type": "code",
   "execution_count": 68,
   "id": "b887ab6c",
   "metadata": {},
   "outputs": [],
   "source": [
    "def dd(df1):\n",
    "    return df1.split('/')[0]\n",
    "df1['day']=df1['Date'].apply(dd)"
   ]
  },
  {
   "cell_type": "code",
   "execution_count": 69,
   "id": "ddae9571",
   "metadata": {},
   "outputs": [],
   "source": [
    "df1=df1.drop('Date', axis=1)"
   ]
  },
  {
   "cell_type": "code",
   "execution_count": 70,
   "id": "22db117e",
   "metadata": {},
   "outputs": [],
   "source": [
    "df1['year']=pd.to_numeric(df1['year'])\n",
    "df1['month']=pd.to_numeric(df1['month'])\n",
    "df1['day']=pd.to_numeric(df1['day'])"
   ]
  },
  {
   "cell_type": "markdown",
   "id": "423b0f81",
   "metadata": {},
   "source": [
    "## 랜덤포레스트"
   ]
  },
  {
   "cell_type": "code",
   "execution_count": 72,
   "id": "eb566409",
   "metadata": {},
   "outputs": [],
   "source": [
    "from sklearn.model_selection import train_test_split\n",
    "from sklearn.ensemble import RandomForestRegressor\n",
    "from sklearn import metrics"
   ]
  },
  {
   "cell_type": "code",
   "execution_count": 73,
   "id": "7e772226",
   "metadata": {},
   "outputs": [],
   "source": [
    "df1=df1.drop(['id'],axis=1)"
   ]
  },
  {
   "cell_type": "code",
   "execution_count": 74,
   "id": "79b4b259",
   "metadata": {},
   "outputs": [],
   "source": [
    "x=df1.drop(['Weekly_Sales'], axis=1)\n",
    "y=df1['Weekly_Sales']\n",
    "x_train, x_test, y_train, y_test=train_test_split(x, y, test_size=0.3)"
   ]
  },
  {
   "cell_type": "code",
   "execution_count": 75,
   "id": "40d55643",
   "metadata": {},
   "outputs": [
    {
     "data": {
      "text/plain": [
       "((4378, 13), (1877, 13))"
      ]
     },
     "execution_count": 75,
     "metadata": {},
     "output_type": "execute_result"
    }
   ],
   "source": [
    "x_train.shape, x_test.shape"
   ]
  },
  {
   "cell_type": "markdown",
   "id": "322e9bd2",
   "metadata": {},
   "source": [
    "- RobustScaler 사용"
   ]
  },
  {
   "cell_type": "code",
   "execution_count": 76,
   "id": "7d766cb1",
   "metadata": {},
   "outputs": [],
   "source": [
    "from sklearn.preprocessing import RobustScaler\n",
    "\n",
    "scaler=RobustScaler()\n",
    "x_train=scaler.fit_transform(x_train)\n",
    "x_test=scaler.transform(x_test)"
   ]
  },
  {
   "cell_type": "code",
   "execution_count": 77,
   "id": "a8ea98cc",
   "metadata": {},
   "outputs": [
    {
     "data": {
      "text/plain": [
       "RandomForestRegressor()"
      ]
     },
     "execution_count": 77,
     "metadata": {},
     "output_type": "execute_result"
    }
   ],
   "source": [
    "forest=RandomForestRegressor(n_estimators=100)\n",
    "forest.fit(x_train, y_train)"
   ]
  },
  {
   "cell_type": "code",
   "execution_count": 78,
   "id": "48017916",
   "metadata": {},
   "outputs": [
    {
     "name": "stdout",
     "output_type": "stream",
     "text": [
      "----------------------예측된 데이터의 상위 10개의 값 확인--------------------\n",
      "\n",
      "[ 672995.7189 1751618.3561 1203932.5073  439455.2799 1142647.8654\n",
      " 1984600.8406 1328185.2576  530035.0295 2132468.0434 1305551.219 ]\n"
     ]
    }
   ],
   "source": [
    "prediction = forest.predict(x_test)\n",
    "print('----------------------예측된 데이터의 상위 10개의 값 확인--------------------\\n')\n",
    "print(prediction[:10])"
   ]
  },
  {
   "cell_type": "markdown",
   "id": "73f21c24",
   "metadata": {},
   "source": [
    "## test set"
   ]
  },
  {
   "cell_type": "code",
   "execution_count": 57,
   "id": "b5cd4df8",
   "metadata": {},
   "outputs": [],
   "source": [
    "test=pd.read_csv('test.csv')"
   ]
  },
  {
   "cell_type": "code",
   "execution_count": 58,
   "id": "951316a5",
   "metadata": {},
   "outputs": [
    {
     "data": {
      "text/html": [
       "<div>\n",
       "<style scoped>\n",
       "    .dataframe tbody tr th:only-of-type {\n",
       "        vertical-align: middle;\n",
       "    }\n",
       "\n",
       "    .dataframe tbody tr th {\n",
       "        vertical-align: top;\n",
       "    }\n",
       "\n",
       "    .dataframe thead th {\n",
       "        text-align: right;\n",
       "    }\n",
       "</style>\n",
       "<table border=\"1\" class=\"dataframe\">\n",
       "  <thead>\n",
       "    <tr style=\"text-align: right;\">\n",
       "      <th></th>\n",
       "      <th>id</th>\n",
       "      <th>Store</th>\n",
       "      <th>Date</th>\n",
       "      <th>Temperature</th>\n",
       "      <th>Fuel_Price</th>\n",
       "      <th>Promotion1</th>\n",
       "      <th>Promotion2</th>\n",
       "      <th>Promotion3</th>\n",
       "      <th>Promotion4</th>\n",
       "      <th>Promotion5</th>\n",
       "      <th>Unemployment</th>\n",
       "      <th>IsHoliday</th>\n",
       "    </tr>\n",
       "  </thead>\n",
       "  <tbody>\n",
       "    <tr>\n",
       "      <th>0</th>\n",
       "      <td>1</td>\n",
       "      <td>1</td>\n",
       "      <td>05/10/2012</td>\n",
       "      <td>68.55</td>\n",
       "      <td>3.617</td>\n",
       "      <td>8077.89</td>\n",
       "      <td>NaN</td>\n",
       "      <td>18.22</td>\n",
       "      <td>3617.43</td>\n",
       "      <td>3626.14</td>\n",
       "      <td>6.573</td>\n",
       "      <td>False</td>\n",
       "    </tr>\n",
       "    <tr>\n",
       "      <th>1</th>\n",
       "      <td>2</td>\n",
       "      <td>1</td>\n",
       "      <td>12/10/2012</td>\n",
       "      <td>62.99</td>\n",
       "      <td>3.601</td>\n",
       "      <td>2086.18</td>\n",
       "      <td>NaN</td>\n",
       "      <td>8.11</td>\n",
       "      <td>602.36</td>\n",
       "      <td>5926.45</td>\n",
       "      <td>6.573</td>\n",
       "      <td>False</td>\n",
       "    </tr>\n",
       "    <tr>\n",
       "      <th>2</th>\n",
       "      <td>3</td>\n",
       "      <td>1</td>\n",
       "      <td>19/10/2012</td>\n",
       "      <td>67.97</td>\n",
       "      <td>3.594</td>\n",
       "      <td>950.33</td>\n",
       "      <td>NaN</td>\n",
       "      <td>4.93</td>\n",
       "      <td>80.25</td>\n",
       "      <td>2312.85</td>\n",
       "      <td>6.573</td>\n",
       "      <td>False</td>\n",
       "    </tr>\n",
       "    <tr>\n",
       "      <th>3</th>\n",
       "      <td>4</td>\n",
       "      <td>1</td>\n",
       "      <td>26/10/2012</td>\n",
       "      <td>69.16</td>\n",
       "      <td>3.506</td>\n",
       "      <td>2585.85</td>\n",
       "      <td>31.75</td>\n",
       "      <td>6.00</td>\n",
       "      <td>1057.16</td>\n",
       "      <td>1305.01</td>\n",
       "      <td>6.573</td>\n",
       "      <td>False</td>\n",
       "    </tr>\n",
       "    <tr>\n",
       "      <th>4</th>\n",
       "      <td>5</td>\n",
       "      <td>2</td>\n",
       "      <td>05/10/2012</td>\n",
       "      <td>70.27</td>\n",
       "      <td>3.617</td>\n",
       "      <td>6037.76</td>\n",
       "      <td>NaN</td>\n",
       "      <td>10.04</td>\n",
       "      <td>3027.37</td>\n",
       "      <td>3853.40</td>\n",
       "      <td>6.170</td>\n",
       "      <td>False</td>\n",
       "    </tr>\n",
       "    <tr>\n",
       "      <th>...</th>\n",
       "      <td>...</td>\n",
       "      <td>...</td>\n",
       "      <td>...</td>\n",
       "      <td>...</td>\n",
       "      <td>...</td>\n",
       "      <td>...</td>\n",
       "      <td>...</td>\n",
       "      <td>...</td>\n",
       "      <td>...</td>\n",
       "      <td>...</td>\n",
       "      <td>...</td>\n",
       "      <td>...</td>\n",
       "    </tr>\n",
       "    <tr>\n",
       "      <th>175</th>\n",
       "      <td>176</td>\n",
       "      <td>44</td>\n",
       "      <td>26/10/2012</td>\n",
       "      <td>46.97</td>\n",
       "      <td>3.755</td>\n",
       "      <td>38.65</td>\n",
       "      <td>2.61</td>\n",
       "      <td>0.98</td>\n",
       "      <td>NaN</td>\n",
       "      <td>457.74</td>\n",
       "      <td>5.217</td>\n",
       "      <td>False</td>\n",
       "    </tr>\n",
       "    <tr>\n",
       "      <th>176</th>\n",
       "      <td>177</td>\n",
       "      <td>45</td>\n",
       "      <td>05/10/2012</td>\n",
       "      <td>64.89</td>\n",
       "      <td>3.985</td>\n",
       "      <td>5046.74</td>\n",
       "      <td>NaN</td>\n",
       "      <td>18.82</td>\n",
       "      <td>2253.43</td>\n",
       "      <td>2340.01</td>\n",
       "      <td>8.667</td>\n",
       "      <td>False</td>\n",
       "    </tr>\n",
       "    <tr>\n",
       "      <th>177</th>\n",
       "      <td>178</td>\n",
       "      <td>45</td>\n",
       "      <td>12/10/2012</td>\n",
       "      <td>54.47</td>\n",
       "      <td>4.000</td>\n",
       "      <td>1956.28</td>\n",
       "      <td>NaN</td>\n",
       "      <td>7.89</td>\n",
       "      <td>599.32</td>\n",
       "      <td>3990.54</td>\n",
       "      <td>8.667</td>\n",
       "      <td>False</td>\n",
       "    </tr>\n",
       "    <tr>\n",
       "      <th>178</th>\n",
       "      <td>179</td>\n",
       "      <td>45</td>\n",
       "      <td>19/10/2012</td>\n",
       "      <td>56.47</td>\n",
       "      <td>3.969</td>\n",
       "      <td>2004.02</td>\n",
       "      <td>NaN</td>\n",
       "      <td>3.18</td>\n",
       "      <td>437.73</td>\n",
       "      <td>1537.49</td>\n",
       "      <td>8.667</td>\n",
       "      <td>False</td>\n",
       "    </tr>\n",
       "    <tr>\n",
       "      <th>179</th>\n",
       "      <td>180</td>\n",
       "      <td>45</td>\n",
       "      <td>26/10/2012</td>\n",
       "      <td>58.85</td>\n",
       "      <td>3.882</td>\n",
       "      <td>4018.91</td>\n",
       "      <td>58.08</td>\n",
       "      <td>100.00</td>\n",
       "      <td>211.94</td>\n",
       "      <td>858.33</td>\n",
       "      <td>8.667</td>\n",
       "      <td>False</td>\n",
       "    </tr>\n",
       "  </tbody>\n",
       "</table>\n",
       "<p>180 rows × 12 columns</p>\n",
       "</div>"
      ],
      "text/plain": [
       "      id  Store        Date  Temperature  Fuel_Price  Promotion1  Promotion2  \\\n",
       "0      1      1  05/10/2012        68.55       3.617     8077.89         NaN   \n",
       "1      2      1  12/10/2012        62.99       3.601     2086.18         NaN   \n",
       "2      3      1  19/10/2012        67.97       3.594      950.33         NaN   \n",
       "3      4      1  26/10/2012        69.16       3.506     2585.85       31.75   \n",
       "4      5      2  05/10/2012        70.27       3.617     6037.76         NaN   \n",
       "..   ...    ...         ...          ...         ...         ...         ...   \n",
       "175  176     44  26/10/2012        46.97       3.755       38.65        2.61   \n",
       "176  177     45  05/10/2012        64.89       3.985     5046.74         NaN   \n",
       "177  178     45  12/10/2012        54.47       4.000     1956.28         NaN   \n",
       "178  179     45  19/10/2012        56.47       3.969     2004.02         NaN   \n",
       "179  180     45  26/10/2012        58.85       3.882     4018.91       58.08   \n",
       "\n",
       "     Promotion3  Promotion4  Promotion5  Unemployment  IsHoliday  \n",
       "0         18.22     3617.43     3626.14         6.573      False  \n",
       "1          8.11      602.36     5926.45         6.573      False  \n",
       "2          4.93       80.25     2312.85         6.573      False  \n",
       "3          6.00     1057.16     1305.01         6.573      False  \n",
       "4         10.04     3027.37     3853.40         6.170      False  \n",
       "..          ...         ...         ...           ...        ...  \n",
       "175        0.98         NaN      457.74         5.217      False  \n",
       "176       18.82     2253.43     2340.01         8.667      False  \n",
       "177        7.89      599.32     3990.54         8.667      False  \n",
       "178        3.18      437.73     1537.49         8.667      False  \n",
       "179      100.00      211.94      858.33         8.667      False  \n",
       "\n",
       "[180 rows x 12 columns]"
      ]
     },
     "execution_count": 58,
     "metadata": {},
     "output_type": "execute_result"
    }
   ],
   "source": [
    "test"
   ]
  },
  {
   "cell_type": "code",
   "execution_count": 60,
   "id": "60dba7bc",
   "metadata": {},
   "outputs": [
    {
     "name": "stdout",
     "output_type": "stream",
     "text": [
      "<class 'pandas.core.frame.DataFrame'>\n",
      "RangeIndex: 180 entries, 0 to 179\n",
      "Data columns (total 12 columns):\n",
      " #   Column        Non-Null Count  Dtype  \n",
      "---  ------        --------------  -----  \n",
      " 0   id            180 non-null    int64  \n",
      " 1   Store         180 non-null    int64  \n",
      " 2   Date          180 non-null    object \n",
      " 3   Temperature   180 non-null    float64\n",
      " 4   Fuel_Price    180 non-null    float64\n",
      " 5   Promotion1    178 non-null    float64\n",
      " 6   Promotion2    45 non-null     float64\n",
      " 7   Promotion3    161 non-null    float64\n",
      " 8   Promotion4    146 non-null    float64\n",
      " 9   Promotion5    180 non-null    float64\n",
      " 10  Unemployment  180 non-null    float64\n",
      " 11  IsHoliday     180 non-null    bool   \n",
      "dtypes: bool(1), float64(8), int64(2), object(1)\n",
      "memory usage: 15.8+ KB\n"
     ]
    }
   ],
   "source": [
    "test.info()"
   ]
  },
  {
   "cell_type": "code",
   "execution_count": 61,
   "id": "9144915e",
   "metadata": {},
   "outputs": [
    {
     "data": {
      "text/plain": [
       "id                0\n",
       "Store             0\n",
       "Date              0\n",
       "Temperature       0\n",
       "Fuel_Price        0\n",
       "Promotion1        2\n",
       "Promotion2      135\n",
       "Promotion3       19\n",
       "Promotion4       34\n",
       "Promotion5        0\n",
       "Unemployment      0\n",
       "IsHoliday         0\n",
       "dtype: int64"
      ]
     },
     "execution_count": 61,
     "metadata": {},
     "output_type": "execute_result"
    }
   ],
   "source": [
    "test.isnull().sum()"
   ]
  },
  {
   "cell_type": "code",
   "execution_count": 94,
   "id": "04b36089",
   "metadata": {},
   "outputs": [],
   "source": [
    "def yy(test):\n",
    "    return test.split('/')[2]\n",
    "test['year']=test['Date'].apply(yy)"
   ]
  },
  {
   "cell_type": "code",
   "execution_count": 95,
   "id": "b6acc730",
   "metadata": {},
   "outputs": [],
   "source": [
    "def mm(test):\n",
    "    return test.split('/')[1]\n",
    "test['month']=test['Date'].apply(mm)"
   ]
  },
  {
   "cell_type": "code",
   "execution_count": 96,
   "id": "ba20b03c",
   "metadata": {},
   "outputs": [],
   "source": [
    "def dd(test):\n",
    "    return test.split('/')[0]\n",
    "test['day']=test['Date'].apply(dd)"
   ]
  },
  {
   "cell_type": "code",
   "execution_count": 97,
   "id": "0f191b26",
   "metadata": {},
   "outputs": [],
   "source": [
    "test=test.drop('Date', axis=1)"
   ]
  },
  {
   "cell_type": "code",
   "execution_count": 98,
   "id": "4fc8f121",
   "metadata": {},
   "outputs": [],
   "source": [
    "test['year']=pd.to_numeric(test['year'])\n",
    "test['month']=pd.to_numeric(test['month'])\n",
    "test['day']=pd.to_numeric(test['day'])"
   ]
  },
  {
   "cell_type": "code",
   "execution_count": 99,
   "id": "723e0035",
   "metadata": {},
   "outputs": [],
   "source": [
    "test['Promotion1']=test['Promotion1'].fillna(0)\n",
    "test['Promotion2']=test['Promotion2'].fillna(0)\n",
    "test['Promotion3']=test['Promotion3'].fillna(0)\n",
    "test['Promotion4']=test['Promotion4'].fillna(0)\n",
    "test['Promotion5']=test['Promotion5'].fillna(0)"
   ]
  },
  {
   "cell_type": "code",
   "execution_count": 100,
   "id": "c743d2d1",
   "metadata": {},
   "outputs": [],
   "source": [
    "test['IsHoliday']=test['IsHoliday'].astype(int)"
   ]
  },
  {
   "cell_type": "code",
   "execution_count": 101,
   "id": "b9683986",
   "metadata": {},
   "outputs": [
    {
     "name": "stdout",
     "output_type": "stream",
     "text": [
      "<class 'pandas.core.frame.DataFrame'>\n",
      "RangeIndex: 180 entries, 0 to 179\n",
      "Data columns (total 14 columns):\n",
      " #   Column        Non-Null Count  Dtype  \n",
      "---  ------        --------------  -----  \n",
      " 0   id            180 non-null    int64  \n",
      " 1   Store         180 non-null    int64  \n",
      " 2   Temperature   180 non-null    float64\n",
      " 3   Fuel_Price    180 non-null    float64\n",
      " 4   Promotion1    180 non-null    float64\n",
      " 5   Promotion2    180 non-null    float64\n",
      " 6   Promotion3    180 non-null    float64\n",
      " 7   Promotion4    180 non-null    float64\n",
      " 8   Promotion5    180 non-null    float64\n",
      " 9   Unemployment  180 non-null    float64\n",
      " 10  IsHoliday     180 non-null    int32  \n",
      " 11  year          180 non-null    int64  \n",
      " 12  month         180 non-null    int64  \n",
      " 13  day           180 non-null    int64  \n",
      "dtypes: float64(8), int32(1), int64(5)\n",
      "memory usage: 19.1 KB\n"
     ]
    }
   ],
   "source": [
    "test.info()"
   ]
  },
  {
   "cell_type": "code",
   "execution_count": 102,
   "id": "bce3c13e",
   "metadata": {},
   "outputs": [],
   "source": [
    "test=test.drop('id', axis=1)"
   ]
  },
  {
   "cell_type": "code",
   "execution_count": 103,
   "id": "e963859c",
   "metadata": {},
   "outputs": [
    {
     "name": "stdout",
     "output_type": "stream",
     "text": [
      "----------------------예측된 데이터의 상위 10개의 값 확인--------------------\n",
      "\n",
      "[863811.1799 856467.0296 855914.2317 856277.5294 861721.4652 863700.88\n",
      " 857640.2437 885695.5374 856353.4196 856199.8384]\n"
     ]
    }
   ],
   "source": [
    "prediction=forest.predict(test)\n",
    "print('----------------------예측된 데이터의 상위 10개의 값 확인--------------------\\n')\n",
    "print(prediction[:10])"
   ]
  },
  {
   "cell_type": "code",
   "execution_count": 105,
   "id": "15886044",
   "metadata": {},
   "outputs": [],
   "source": [
    "sample_submission=pd.read_csv('sample_submission.csv')"
   ]
  },
  {
   "cell_type": "code",
   "execution_count": 106,
   "id": "ebdfe5e9",
   "metadata": {},
   "outputs": [
    {
     "data": {
      "text/html": [
       "<div>\n",
       "<style scoped>\n",
       "    .dataframe tbody tr th:only-of-type {\n",
       "        vertical-align: middle;\n",
       "    }\n",
       "\n",
       "    .dataframe tbody tr th {\n",
       "        vertical-align: top;\n",
       "    }\n",
       "\n",
       "    .dataframe thead th {\n",
       "        text-align: right;\n",
       "    }\n",
       "</style>\n",
       "<table border=\"1\" class=\"dataframe\">\n",
       "  <thead>\n",
       "    <tr style=\"text-align: right;\">\n",
       "      <th></th>\n",
       "      <th>id</th>\n",
       "      <th>Weekly_Sales</th>\n",
       "    </tr>\n",
       "  </thead>\n",
       "  <tbody>\n",
       "    <tr>\n",
       "      <th>0</th>\n",
       "      <td>1</td>\n",
       "      <td>863811.1799</td>\n",
       "    </tr>\n",
       "    <tr>\n",
       "      <th>1</th>\n",
       "      <td>2</td>\n",
       "      <td>856467.0296</td>\n",
       "    </tr>\n",
       "    <tr>\n",
       "      <th>2</th>\n",
       "      <td>3</td>\n",
       "      <td>855914.2317</td>\n",
       "    </tr>\n",
       "    <tr>\n",
       "      <th>3</th>\n",
       "      <td>4</td>\n",
       "      <td>856277.5294</td>\n",
       "    </tr>\n",
       "    <tr>\n",
       "      <th>4</th>\n",
       "      <td>5</td>\n",
       "      <td>861721.4652</td>\n",
       "    </tr>\n",
       "  </tbody>\n",
       "</table>\n",
       "</div>"
      ],
      "text/plain": [
       "   id  Weekly_Sales\n",
       "0   1   863811.1799\n",
       "1   2   856467.0296\n",
       "2   3   855914.2317\n",
       "3   4   856277.5294\n",
       "4   5   861721.4652"
      ]
     },
     "execution_count": 106,
     "metadata": {},
     "output_type": "execute_result"
    }
   ],
   "source": [
    "sample_submission['Weekly_Sales']=prediction\n",
    "sample_submission.head()"
   ]
  },
  {
   "cell_type": "code",
   "execution_count": 109,
   "id": "28440449",
   "metadata": {},
   "outputs": [],
   "source": [
    "sample_submission.to_csv('submission1.csv', index=False)"
   ]
  },
  {
   "cell_type": "code",
   "execution_count": null,
   "id": "000b4ebd",
   "metadata": {},
   "outputs": [],
   "source": []
  }
 ],
 "metadata": {
  "kernelspec": {
   "display_name": "Python 3 (ipykernel)",
   "language": "python",
   "name": "python3"
  },
  "language_info": {
   "codemirror_mode": {
    "name": "ipython",
    "version": 3
   },
   "file_extension": ".py",
   "mimetype": "text/x-python",
   "name": "python",
   "nbconvert_exporter": "python",
   "pygments_lexer": "ipython3",
   "version": "3.9.7"
  }
 },
 "nbformat": 4,
 "nbformat_minor": 5
}
