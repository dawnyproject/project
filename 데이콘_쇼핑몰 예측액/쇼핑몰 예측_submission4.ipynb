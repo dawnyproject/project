{
 "cells": [
  {
   "cell_type": "markdown",
   "id": "d9a346b9",
   "metadata": {},
   "source": [
    "# 쇼핑몰 지점별 매출액 예측 경진대회"
   ]
  },
  {
   "cell_type": "markdown",
   "id": "827dd789",
   "metadata": {},
   "source": [
    "## 라이브러리"
   ]
  },
  {
   "cell_type": "code",
   "execution_count": 1,
   "id": "15a0dfe4",
   "metadata": {},
   "outputs": [],
   "source": [
    "import pandas as pd\n",
    "import numpy as np\n",
    "import seaborn as sns\n",
    "import matplotlib.pyplot as plt\n",
    "import warnings\n",
    "warnings.filterwarnings(\"ignore\", category=DeprecationWarning)"
   ]
  },
  {
   "cell_type": "markdown",
   "id": "6931d782",
   "metadata": {},
   "source": [
    "## 경로 설정"
   ]
  },
  {
   "cell_type": "code",
   "execution_count": 2,
   "id": "a403641d",
   "metadata": {},
   "outputs": [
    {
     "data": {
      "text/plain": [
       "'C:\\\\Users\\\\82107\\\\OneDrive\\\\바탕 화면\\\\동아리\\\\쇼핑몰 매출액 예측 경진대회\\\\dataset'"
      ]
     },
     "execution_count": 2,
     "metadata": {},
     "output_type": "execute_result"
    }
   ],
   "source": [
    "import os\n",
    "os.chdir('C:\\\\Users\\\\82107\\\\OneDrive\\\\바탕 화면\\\\동아리\\\\쇼핑몰 매출액 예측 경진대회\\\\dataset')\n",
    "os.getcwd()"
   ]
  },
  {
   "cell_type": "markdown",
   "id": "976bfa55",
   "metadata": {},
   "source": [
    "## 데이터 불러오기"
   ]
  },
  {
   "cell_type": "markdown",
   "id": "f3c19c12",
   "metadata": {},
   "source": [
    "- 데이터 특징 살펴보기"
   ]
  },
  {
   "cell_type": "code",
   "execution_count": 3,
   "id": "22eb010d",
   "metadata": {},
   "outputs": [
    {
     "data": {
      "text/html": [
       "<div>\n",
       "<style scoped>\n",
       "    .dataframe tbody tr th:only-of-type {\n",
       "        vertical-align: middle;\n",
       "    }\n",
       "\n",
       "    .dataframe tbody tr th {\n",
       "        vertical-align: top;\n",
       "    }\n",
       "\n",
       "    .dataframe thead th {\n",
       "        text-align: right;\n",
       "    }\n",
       "</style>\n",
       "<table border=\"1\" class=\"dataframe\">\n",
       "  <thead>\n",
       "    <tr style=\"text-align: right;\">\n",
       "      <th></th>\n",
       "      <th>id</th>\n",
       "      <th>Store</th>\n",
       "      <th>Date</th>\n",
       "      <th>Temperature</th>\n",
       "      <th>Fuel_Price</th>\n",
       "      <th>Promotion1</th>\n",
       "      <th>Promotion2</th>\n",
       "      <th>Promotion3</th>\n",
       "      <th>Promotion4</th>\n",
       "      <th>Promotion5</th>\n",
       "      <th>Unemployment</th>\n",
       "      <th>IsHoliday</th>\n",
       "      <th>Weekly_Sales</th>\n",
       "    </tr>\n",
       "  </thead>\n",
       "  <tbody>\n",
       "    <tr>\n",
       "      <th>0</th>\n",
       "      <td>1</td>\n",
       "      <td>1</td>\n",
       "      <td>05/02/2010</td>\n",
       "      <td>42.31</td>\n",
       "      <td>2.572</td>\n",
       "      <td>NaN</td>\n",
       "      <td>NaN</td>\n",
       "      <td>NaN</td>\n",
       "      <td>NaN</td>\n",
       "      <td>NaN</td>\n",
       "      <td>8.106</td>\n",
       "      <td>False</td>\n",
       "      <td>1643690.90</td>\n",
       "    </tr>\n",
       "    <tr>\n",
       "      <th>1</th>\n",
       "      <td>2</td>\n",
       "      <td>1</td>\n",
       "      <td>12/02/2010</td>\n",
       "      <td>38.51</td>\n",
       "      <td>2.548</td>\n",
       "      <td>NaN</td>\n",
       "      <td>NaN</td>\n",
       "      <td>NaN</td>\n",
       "      <td>NaN</td>\n",
       "      <td>NaN</td>\n",
       "      <td>8.106</td>\n",
       "      <td>True</td>\n",
       "      <td>1641957.44</td>\n",
       "    </tr>\n",
       "    <tr>\n",
       "      <th>2</th>\n",
       "      <td>3</td>\n",
       "      <td>1</td>\n",
       "      <td>19/02/2010</td>\n",
       "      <td>39.93</td>\n",
       "      <td>2.514</td>\n",
       "      <td>NaN</td>\n",
       "      <td>NaN</td>\n",
       "      <td>NaN</td>\n",
       "      <td>NaN</td>\n",
       "      <td>NaN</td>\n",
       "      <td>8.106</td>\n",
       "      <td>False</td>\n",
       "      <td>1611968.17</td>\n",
       "    </tr>\n",
       "    <tr>\n",
       "      <th>3</th>\n",
       "      <td>4</td>\n",
       "      <td>1</td>\n",
       "      <td>26/02/2010</td>\n",
       "      <td>46.63</td>\n",
       "      <td>2.561</td>\n",
       "      <td>NaN</td>\n",
       "      <td>NaN</td>\n",
       "      <td>NaN</td>\n",
       "      <td>NaN</td>\n",
       "      <td>NaN</td>\n",
       "      <td>8.106</td>\n",
       "      <td>False</td>\n",
       "      <td>1409727.59</td>\n",
       "    </tr>\n",
       "    <tr>\n",
       "      <th>4</th>\n",
       "      <td>5</td>\n",
       "      <td>1</td>\n",
       "      <td>05/03/2010</td>\n",
       "      <td>46.50</td>\n",
       "      <td>2.625</td>\n",
       "      <td>NaN</td>\n",
       "      <td>NaN</td>\n",
       "      <td>NaN</td>\n",
       "      <td>NaN</td>\n",
       "      <td>NaN</td>\n",
       "      <td>8.106</td>\n",
       "      <td>False</td>\n",
       "      <td>1554806.68</td>\n",
       "    </tr>\n",
       "  </tbody>\n",
       "</table>\n",
       "</div>"
      ],
      "text/plain": [
       "   id  Store        Date  Temperature  Fuel_Price  Promotion1  Promotion2  \\\n",
       "0   1      1  05/02/2010        42.31       2.572         NaN         NaN   \n",
       "1   2      1  12/02/2010        38.51       2.548         NaN         NaN   \n",
       "2   3      1  19/02/2010        39.93       2.514         NaN         NaN   \n",
       "3   4      1  26/02/2010        46.63       2.561         NaN         NaN   \n",
       "4   5      1  05/03/2010        46.50       2.625         NaN         NaN   \n",
       "\n",
       "   Promotion3  Promotion4  Promotion5  Unemployment  IsHoliday  Weekly_Sales  \n",
       "0         NaN         NaN         NaN         8.106      False    1643690.90  \n",
       "1         NaN         NaN         NaN         8.106       True    1641957.44  \n",
       "2         NaN         NaN         NaN         8.106      False    1611968.17  \n",
       "3         NaN         NaN         NaN         8.106      False    1409727.59  \n",
       "4         NaN         NaN         NaN         8.106      False    1554806.68  "
      ]
     },
     "execution_count": 3,
     "metadata": {},
     "output_type": "execute_result"
    }
   ],
   "source": [
    "df=pd.read_csv('train.csv')\n",
    "df.head()"
   ]
  },
  {
   "cell_type": "code",
   "execution_count": 4,
   "id": "ca6c2d33",
   "metadata": {},
   "outputs": [
    {
     "data": {
      "text/html": [
       "<div>\n",
       "<style scoped>\n",
       "    .dataframe tbody tr th:only-of-type {\n",
       "        vertical-align: middle;\n",
       "    }\n",
       "\n",
       "    .dataframe tbody tr th {\n",
       "        vertical-align: top;\n",
       "    }\n",
       "\n",
       "    .dataframe thead th {\n",
       "        text-align: right;\n",
       "    }\n",
       "</style>\n",
       "<table border=\"1\" class=\"dataframe\">\n",
       "  <thead>\n",
       "    <tr style=\"text-align: right;\">\n",
       "      <th></th>\n",
       "      <th>id</th>\n",
       "      <th>Store</th>\n",
       "      <th>Date</th>\n",
       "      <th>Temperature</th>\n",
       "      <th>Fuel_Price</th>\n",
       "      <th>Promotion1</th>\n",
       "      <th>Promotion2</th>\n",
       "      <th>Promotion3</th>\n",
       "      <th>Promotion4</th>\n",
       "      <th>Promotion5</th>\n",
       "      <th>Unemployment</th>\n",
       "      <th>IsHoliday</th>\n",
       "      <th>Weekly_Sales</th>\n",
       "    </tr>\n",
       "  </thead>\n",
       "  <tbody>\n",
       "    <tr>\n",
       "      <th>6250</th>\n",
       "      <td>6251</td>\n",
       "      <td>45</td>\n",
       "      <td>31/08/2012</td>\n",
       "      <td>75.09</td>\n",
       "      <td>3.867</td>\n",
       "      <td>23641.30</td>\n",
       "      <td>6.00</td>\n",
       "      <td>92.93</td>\n",
       "      <td>6988.31</td>\n",
       "      <td>3992.13</td>\n",
       "      <td>8.684</td>\n",
       "      <td>False</td>\n",
       "      <td>734297.87</td>\n",
       "    </tr>\n",
       "    <tr>\n",
       "      <th>6251</th>\n",
       "      <td>6252</td>\n",
       "      <td>45</td>\n",
       "      <td>07/09/2012</td>\n",
       "      <td>75.70</td>\n",
       "      <td>3.911</td>\n",
       "      <td>11024.45</td>\n",
       "      <td>12.80</td>\n",
       "      <td>52.63</td>\n",
       "      <td>1854.77</td>\n",
       "      <td>2055.70</td>\n",
       "      <td>8.684</td>\n",
       "      <td>True</td>\n",
       "      <td>766512.66</td>\n",
       "    </tr>\n",
       "    <tr>\n",
       "      <th>6252</th>\n",
       "      <td>6253</td>\n",
       "      <td>45</td>\n",
       "      <td>14/09/2012</td>\n",
       "      <td>67.87</td>\n",
       "      <td>3.948</td>\n",
       "      <td>11407.95</td>\n",
       "      <td>NaN</td>\n",
       "      <td>4.30</td>\n",
       "      <td>3421.72</td>\n",
       "      <td>5268.92</td>\n",
       "      <td>8.684</td>\n",
       "      <td>False</td>\n",
       "      <td>702238.27</td>\n",
       "    </tr>\n",
       "    <tr>\n",
       "      <th>6253</th>\n",
       "      <td>6254</td>\n",
       "      <td>45</td>\n",
       "      <td>21/09/2012</td>\n",
       "      <td>65.32</td>\n",
       "      <td>4.038</td>\n",
       "      <td>8452.20</td>\n",
       "      <td>92.28</td>\n",
       "      <td>63.24</td>\n",
       "      <td>2376.38</td>\n",
       "      <td>8670.40</td>\n",
       "      <td>8.684</td>\n",
       "      <td>False</td>\n",
       "      <td>723086.20</td>\n",
       "    </tr>\n",
       "    <tr>\n",
       "      <th>6254</th>\n",
       "      <td>6255</td>\n",
       "      <td>45</td>\n",
       "      <td>28/09/2012</td>\n",
       "      <td>64.88</td>\n",
       "      <td>3.997</td>\n",
       "      <td>4556.61</td>\n",
       "      <td>20.64</td>\n",
       "      <td>1.50</td>\n",
       "      <td>1601.01</td>\n",
       "      <td>3288.25</td>\n",
       "      <td>8.684</td>\n",
       "      <td>False</td>\n",
       "      <td>713173.95</td>\n",
       "    </tr>\n",
       "  </tbody>\n",
       "</table>\n",
       "</div>"
      ],
      "text/plain": [
       "        id  Store        Date  Temperature  Fuel_Price  Promotion1  \\\n",
       "6250  6251     45  31/08/2012        75.09       3.867    23641.30   \n",
       "6251  6252     45  07/09/2012        75.70       3.911    11024.45   \n",
       "6252  6253     45  14/09/2012        67.87       3.948    11407.95   \n",
       "6253  6254     45  21/09/2012        65.32       4.038     8452.20   \n",
       "6254  6255     45  28/09/2012        64.88       3.997     4556.61   \n",
       "\n",
       "      Promotion2  Promotion3  Promotion4  Promotion5  Unemployment  IsHoliday  \\\n",
       "6250        6.00       92.93     6988.31     3992.13         8.684      False   \n",
       "6251       12.80       52.63     1854.77     2055.70         8.684       True   \n",
       "6252         NaN        4.30     3421.72     5268.92         8.684      False   \n",
       "6253       92.28       63.24     2376.38     8670.40         8.684      False   \n",
       "6254       20.64        1.50     1601.01     3288.25         8.684      False   \n",
       "\n",
       "      Weekly_Sales  \n",
       "6250     734297.87  \n",
       "6251     766512.66  \n",
       "6252     702238.27  \n",
       "6253     723086.20  \n",
       "6254     713173.95  "
      ]
     },
     "execution_count": 4,
     "metadata": {},
     "output_type": "execute_result"
    }
   ],
   "source": [
    "df.tail()"
   ]
  },
  {
   "cell_type": "code",
   "execution_count": 5,
   "id": "d812fd1f",
   "metadata": {},
   "outputs": [
    {
     "data": {
      "text/plain": [
       "(6255, 13)"
      ]
     },
     "execution_count": 5,
     "metadata": {},
     "output_type": "execute_result"
    }
   ],
   "source": [
    "df.shape"
   ]
  },
  {
   "cell_type": "code",
   "execution_count": 6,
   "id": "3db683fb",
   "metadata": {},
   "outputs": [
    {
     "name": "stdout",
     "output_type": "stream",
     "text": [
      "<class 'pandas.core.frame.DataFrame'>\n",
      "RangeIndex: 6255 entries, 0 to 6254\n",
      "Data columns (total 13 columns):\n",
      " #   Column        Non-Null Count  Dtype  \n",
      "---  ------        --------------  -----  \n",
      " 0   id            6255 non-null   int64  \n",
      " 1   Store         6255 non-null   int64  \n",
      " 2   Date          6255 non-null   object \n",
      " 3   Temperature   6255 non-null   float64\n",
      " 4   Fuel_Price    6255 non-null   float64\n",
      " 5   Promotion1    2102 non-null   float64\n",
      " 6   Promotion2    1592 non-null   float64\n",
      " 7   Promotion3    1885 non-null   float64\n",
      " 8   Promotion4    1819 non-null   float64\n",
      " 9   Promotion5    2115 non-null   float64\n",
      " 10  Unemployment  6255 non-null   float64\n",
      " 11  IsHoliday     6255 non-null   bool   \n",
      " 12  Weekly_Sales  6255 non-null   float64\n",
      "dtypes: bool(1), float64(9), int64(2), object(1)\n",
      "memory usage: 592.6+ KB\n"
     ]
    }
   ],
   "source": [
    "df.info()"
   ]
  },
  {
   "cell_type": "code",
   "execution_count": 7,
   "id": "fb08f5b1",
   "metadata": {},
   "outputs": [
    {
     "data": {
      "text/plain": [
       "id                 0\n",
       "Store              0\n",
       "Date               0\n",
       "Temperature        0\n",
       "Fuel_Price         0\n",
       "Promotion1      4153\n",
       "Promotion2      4663\n",
       "Promotion3      4370\n",
       "Promotion4      4436\n",
       "Promotion5      4140\n",
       "Unemployment       0\n",
       "IsHoliday          0\n",
       "Weekly_Sales       0\n",
       "dtype: int64"
      ]
     },
     "execution_count": 7,
     "metadata": {},
     "output_type": "execute_result"
    }
   ],
   "source": [
    "df.isnull().sum()"
   ]
  },
  {
   "cell_type": "code",
   "execution_count": 8,
   "id": "17dca0b7",
   "metadata": {},
   "outputs": [
    {
     "data": {
      "text/plain": [
       "1     139\n",
       "24    139\n",
       "26    139\n",
       "27    139\n",
       "28    139\n",
       "29    139\n",
       "30    139\n",
       "31    139\n",
       "32    139\n",
       "33    139\n",
       "34    139\n",
       "35    139\n",
       "36    139\n",
       "37    139\n",
       "38    139\n",
       "39    139\n",
       "40    139\n",
       "41    139\n",
       "42    139\n",
       "43    139\n",
       "44    139\n",
       "25    139\n",
       "23    139\n",
       "2     139\n",
       "22    139\n",
       "3     139\n",
       "4     139\n",
       "5     139\n",
       "6     139\n",
       "7     139\n",
       "8     139\n",
       "9     139\n",
       "10    139\n",
       "11    139\n",
       "12    139\n",
       "13    139\n",
       "14    139\n",
       "15    139\n",
       "16    139\n",
       "17    139\n",
       "18    139\n",
       "19    139\n",
       "20    139\n",
       "21    139\n",
       "45    139\n",
       "Name: Store, dtype: int64"
      ]
     },
     "execution_count": 8,
     "metadata": {},
     "output_type": "execute_result"
    }
   ],
   "source": [
    "df['Store'].value_counts() ## store 45개 있음 (한 스토어 당 139개의 데이터 존재)"
   ]
  },
  {
   "cell_type": "code",
   "execution_count": 9,
   "id": "3b6b1ab0",
   "metadata": {},
   "outputs": [],
   "source": [
    "df1=df.copy()"
   ]
  },
  {
   "cell_type": "code",
   "execution_count": 10,
   "id": "55e59633",
   "metadata": {},
   "outputs": [
    {
     "data": {
      "text/html": [
       "<div>\n",
       "<style scoped>\n",
       "    .dataframe tbody tr th:only-of-type {\n",
       "        vertical-align: middle;\n",
       "    }\n",
       "\n",
       "    .dataframe tbody tr th {\n",
       "        vertical-align: top;\n",
       "    }\n",
       "\n",
       "    .dataframe thead th {\n",
       "        text-align: right;\n",
       "    }\n",
       "</style>\n",
       "<table border=\"1\" class=\"dataframe\">\n",
       "  <thead>\n",
       "    <tr style=\"text-align: right;\">\n",
       "      <th></th>\n",
       "      <th>id</th>\n",
       "      <th>Store</th>\n",
       "      <th>Date</th>\n",
       "      <th>Temperature</th>\n",
       "      <th>Fuel_Price</th>\n",
       "      <th>Promotion1</th>\n",
       "      <th>Promotion2</th>\n",
       "      <th>Promotion3</th>\n",
       "      <th>Promotion4</th>\n",
       "      <th>Promotion5</th>\n",
       "      <th>Unemployment</th>\n",
       "      <th>IsHoliday</th>\n",
       "      <th>Weekly_Sales</th>\n",
       "    </tr>\n",
       "  </thead>\n",
       "  <tbody>\n",
       "    <tr>\n",
       "      <th>0</th>\n",
       "      <td>1</td>\n",
       "      <td>1</td>\n",
       "      <td>05/02/2010</td>\n",
       "      <td>42.31</td>\n",
       "      <td>2.572</td>\n",
       "      <td>NaN</td>\n",
       "      <td>NaN</td>\n",
       "      <td>NaN</td>\n",
       "      <td>NaN</td>\n",
       "      <td>NaN</td>\n",
       "      <td>8.106</td>\n",
       "      <td>False</td>\n",
       "      <td>1643690.90</td>\n",
       "    </tr>\n",
       "    <tr>\n",
       "      <th>1</th>\n",
       "      <td>2</td>\n",
       "      <td>1</td>\n",
       "      <td>12/02/2010</td>\n",
       "      <td>38.51</td>\n",
       "      <td>2.548</td>\n",
       "      <td>NaN</td>\n",
       "      <td>NaN</td>\n",
       "      <td>NaN</td>\n",
       "      <td>NaN</td>\n",
       "      <td>NaN</td>\n",
       "      <td>8.106</td>\n",
       "      <td>True</td>\n",
       "      <td>1641957.44</td>\n",
       "    </tr>\n",
       "    <tr>\n",
       "      <th>2</th>\n",
       "      <td>3</td>\n",
       "      <td>1</td>\n",
       "      <td>19/02/2010</td>\n",
       "      <td>39.93</td>\n",
       "      <td>2.514</td>\n",
       "      <td>NaN</td>\n",
       "      <td>NaN</td>\n",
       "      <td>NaN</td>\n",
       "      <td>NaN</td>\n",
       "      <td>NaN</td>\n",
       "      <td>8.106</td>\n",
       "      <td>False</td>\n",
       "      <td>1611968.17</td>\n",
       "    </tr>\n",
       "    <tr>\n",
       "      <th>3</th>\n",
       "      <td>4</td>\n",
       "      <td>1</td>\n",
       "      <td>26/02/2010</td>\n",
       "      <td>46.63</td>\n",
       "      <td>2.561</td>\n",
       "      <td>NaN</td>\n",
       "      <td>NaN</td>\n",
       "      <td>NaN</td>\n",
       "      <td>NaN</td>\n",
       "      <td>NaN</td>\n",
       "      <td>8.106</td>\n",
       "      <td>False</td>\n",
       "      <td>1409727.59</td>\n",
       "    </tr>\n",
       "    <tr>\n",
       "      <th>4</th>\n",
       "      <td>5</td>\n",
       "      <td>1</td>\n",
       "      <td>05/03/2010</td>\n",
       "      <td>46.50</td>\n",
       "      <td>2.625</td>\n",
       "      <td>NaN</td>\n",
       "      <td>NaN</td>\n",
       "      <td>NaN</td>\n",
       "      <td>NaN</td>\n",
       "      <td>NaN</td>\n",
       "      <td>8.106</td>\n",
       "      <td>False</td>\n",
       "      <td>1554806.68</td>\n",
       "    </tr>\n",
       "    <tr>\n",
       "      <th>...</th>\n",
       "      <td>...</td>\n",
       "      <td>...</td>\n",
       "      <td>...</td>\n",
       "      <td>...</td>\n",
       "      <td>...</td>\n",
       "      <td>...</td>\n",
       "      <td>...</td>\n",
       "      <td>...</td>\n",
       "      <td>...</td>\n",
       "      <td>...</td>\n",
       "      <td>...</td>\n",
       "      <td>...</td>\n",
       "      <td>...</td>\n",
       "    </tr>\n",
       "    <tr>\n",
       "      <th>6250</th>\n",
       "      <td>6251</td>\n",
       "      <td>45</td>\n",
       "      <td>31/08/2012</td>\n",
       "      <td>75.09</td>\n",
       "      <td>3.867</td>\n",
       "      <td>23641.30</td>\n",
       "      <td>6.00</td>\n",
       "      <td>92.93</td>\n",
       "      <td>6988.31</td>\n",
       "      <td>3992.13</td>\n",
       "      <td>8.684</td>\n",
       "      <td>False</td>\n",
       "      <td>734297.87</td>\n",
       "    </tr>\n",
       "    <tr>\n",
       "      <th>6251</th>\n",
       "      <td>6252</td>\n",
       "      <td>45</td>\n",
       "      <td>07/09/2012</td>\n",
       "      <td>75.70</td>\n",
       "      <td>3.911</td>\n",
       "      <td>11024.45</td>\n",
       "      <td>12.80</td>\n",
       "      <td>52.63</td>\n",
       "      <td>1854.77</td>\n",
       "      <td>2055.70</td>\n",
       "      <td>8.684</td>\n",
       "      <td>True</td>\n",
       "      <td>766512.66</td>\n",
       "    </tr>\n",
       "    <tr>\n",
       "      <th>6252</th>\n",
       "      <td>6253</td>\n",
       "      <td>45</td>\n",
       "      <td>14/09/2012</td>\n",
       "      <td>67.87</td>\n",
       "      <td>3.948</td>\n",
       "      <td>11407.95</td>\n",
       "      <td>NaN</td>\n",
       "      <td>4.30</td>\n",
       "      <td>3421.72</td>\n",
       "      <td>5268.92</td>\n",
       "      <td>8.684</td>\n",
       "      <td>False</td>\n",
       "      <td>702238.27</td>\n",
       "    </tr>\n",
       "    <tr>\n",
       "      <th>6253</th>\n",
       "      <td>6254</td>\n",
       "      <td>45</td>\n",
       "      <td>21/09/2012</td>\n",
       "      <td>65.32</td>\n",
       "      <td>4.038</td>\n",
       "      <td>8452.20</td>\n",
       "      <td>92.28</td>\n",
       "      <td>63.24</td>\n",
       "      <td>2376.38</td>\n",
       "      <td>8670.40</td>\n",
       "      <td>8.684</td>\n",
       "      <td>False</td>\n",
       "      <td>723086.20</td>\n",
       "    </tr>\n",
       "    <tr>\n",
       "      <th>6254</th>\n",
       "      <td>6255</td>\n",
       "      <td>45</td>\n",
       "      <td>28/09/2012</td>\n",
       "      <td>64.88</td>\n",
       "      <td>3.997</td>\n",
       "      <td>4556.61</td>\n",
       "      <td>20.64</td>\n",
       "      <td>1.50</td>\n",
       "      <td>1601.01</td>\n",
       "      <td>3288.25</td>\n",
       "      <td>8.684</td>\n",
       "      <td>False</td>\n",
       "      <td>713173.95</td>\n",
       "    </tr>\n",
       "  </tbody>\n",
       "</table>\n",
       "<p>6255 rows × 13 columns</p>\n",
       "</div>"
      ],
      "text/plain": [
       "        id  Store        Date  Temperature  Fuel_Price  Promotion1  \\\n",
       "0        1      1  05/02/2010        42.31       2.572         NaN   \n",
       "1        2      1  12/02/2010        38.51       2.548         NaN   \n",
       "2        3      1  19/02/2010        39.93       2.514         NaN   \n",
       "3        4      1  26/02/2010        46.63       2.561         NaN   \n",
       "4        5      1  05/03/2010        46.50       2.625         NaN   \n",
       "...    ...    ...         ...          ...         ...         ...   \n",
       "6250  6251     45  31/08/2012        75.09       3.867    23641.30   \n",
       "6251  6252     45  07/09/2012        75.70       3.911    11024.45   \n",
       "6252  6253     45  14/09/2012        67.87       3.948    11407.95   \n",
       "6253  6254     45  21/09/2012        65.32       4.038     8452.20   \n",
       "6254  6255     45  28/09/2012        64.88       3.997     4556.61   \n",
       "\n",
       "      Promotion2  Promotion3  Promotion4  Promotion5  Unemployment  IsHoliday  \\\n",
       "0            NaN         NaN         NaN         NaN         8.106      False   \n",
       "1            NaN         NaN         NaN         NaN         8.106       True   \n",
       "2            NaN         NaN         NaN         NaN         8.106      False   \n",
       "3            NaN         NaN         NaN         NaN         8.106      False   \n",
       "4            NaN         NaN         NaN         NaN         8.106      False   \n",
       "...          ...         ...         ...         ...           ...        ...   \n",
       "6250        6.00       92.93     6988.31     3992.13         8.684      False   \n",
       "6251       12.80       52.63     1854.77     2055.70         8.684       True   \n",
       "6252         NaN        4.30     3421.72     5268.92         8.684      False   \n",
       "6253       92.28       63.24     2376.38     8670.40         8.684      False   \n",
       "6254       20.64        1.50     1601.01     3288.25         8.684      False   \n",
       "\n",
       "      Weekly_Sales  \n",
       "0       1643690.90  \n",
       "1       1641957.44  \n",
       "2       1611968.17  \n",
       "3       1409727.59  \n",
       "4       1554806.68  \n",
       "...            ...  \n",
       "6250     734297.87  \n",
       "6251     766512.66  \n",
       "6252     702238.27  \n",
       "6253     723086.20  \n",
       "6254     713173.95  \n",
       "\n",
       "[6255 rows x 13 columns]"
      ]
     },
     "execution_count": 10,
     "metadata": {},
     "output_type": "execute_result"
    }
   ],
   "source": [
    "df1"
   ]
  },
  {
   "cell_type": "code",
   "execution_count": 11,
   "id": "bce858ed",
   "metadata": {
    "scrolled": true
   },
   "outputs": [
    {
     "name": "stdout",
     "output_type": "stream",
     "text": [
      "<class 'pandas.core.frame.DataFrame'>\n",
      "RangeIndex: 6255 entries, 0 to 6254\n",
      "Data columns (total 13 columns):\n",
      " #   Column        Non-Null Count  Dtype  \n",
      "---  ------        --------------  -----  \n",
      " 0   id            6255 non-null   int64  \n",
      " 1   Store         6255 non-null   int64  \n",
      " 2   Date          6255 non-null   object \n",
      " 3   Temperature   6255 non-null   float64\n",
      " 4   Fuel_Price    6255 non-null   float64\n",
      " 5   Promotion1    2102 non-null   float64\n",
      " 6   Promotion2    1592 non-null   float64\n",
      " 7   Promotion3    1885 non-null   float64\n",
      " 8   Promotion4    1819 non-null   float64\n",
      " 9   Promotion5    2115 non-null   float64\n",
      " 10  Unemployment  6255 non-null   float64\n",
      " 11  IsHoliday     6255 non-null   bool   \n",
      " 12  Weekly_Sales  6255 non-null   float64\n",
      "dtypes: bool(1), float64(9), int64(2), object(1)\n",
      "memory usage: 592.6+ KB\n"
     ]
    }
   ],
   "source": [
    "df1.info()"
   ]
  },
  {
   "cell_type": "code",
   "execution_count": 12,
   "id": "52843693",
   "metadata": {},
   "outputs": [
    {
     "data": {
      "text/html": [
       "<div>\n",
       "<style scoped>\n",
       "    .dataframe tbody tr th:only-of-type {\n",
       "        vertical-align: middle;\n",
       "    }\n",
       "\n",
       "    .dataframe tbody tr th {\n",
       "        vertical-align: top;\n",
       "    }\n",
       "\n",
       "    .dataframe thead th {\n",
       "        text-align: right;\n",
       "    }\n",
       "</style>\n",
       "<table border=\"1\" class=\"dataframe\">\n",
       "  <thead>\n",
       "    <tr style=\"text-align: right;\">\n",
       "      <th></th>\n",
       "      <th>id</th>\n",
       "      <th>Store</th>\n",
       "      <th>Date</th>\n",
       "      <th>Temperature</th>\n",
       "      <th>Fuel_Price</th>\n",
       "      <th>Promotion1</th>\n",
       "      <th>Promotion2</th>\n",
       "      <th>Promotion3</th>\n",
       "      <th>Promotion4</th>\n",
       "      <th>Promotion5</th>\n",
       "      <th>Unemployment</th>\n",
       "      <th>IsHoliday</th>\n",
       "      <th>Weekly_Sales</th>\n",
       "    </tr>\n",
       "  </thead>\n",
       "  <tbody>\n",
       "    <tr>\n",
       "      <th>0</th>\n",
       "      <td>1</td>\n",
       "      <td>1</td>\n",
       "      <td>05/02/2010</td>\n",
       "      <td>42.31</td>\n",
       "      <td>2.572</td>\n",
       "      <td>NaN</td>\n",
       "      <td>NaN</td>\n",
       "      <td>NaN</td>\n",
       "      <td>NaN</td>\n",
       "      <td>NaN</td>\n",
       "      <td>8.106</td>\n",
       "      <td>False</td>\n",
       "      <td>1643690.90</td>\n",
       "    </tr>\n",
       "    <tr>\n",
       "      <th>1</th>\n",
       "      <td>2</td>\n",
       "      <td>1</td>\n",
       "      <td>12/02/2010</td>\n",
       "      <td>38.51</td>\n",
       "      <td>2.548</td>\n",
       "      <td>NaN</td>\n",
       "      <td>NaN</td>\n",
       "      <td>NaN</td>\n",
       "      <td>NaN</td>\n",
       "      <td>NaN</td>\n",
       "      <td>8.106</td>\n",
       "      <td>True</td>\n",
       "      <td>1641957.44</td>\n",
       "    </tr>\n",
       "    <tr>\n",
       "      <th>2</th>\n",
       "      <td>3</td>\n",
       "      <td>1</td>\n",
       "      <td>19/02/2010</td>\n",
       "      <td>39.93</td>\n",
       "      <td>2.514</td>\n",
       "      <td>NaN</td>\n",
       "      <td>NaN</td>\n",
       "      <td>NaN</td>\n",
       "      <td>NaN</td>\n",
       "      <td>NaN</td>\n",
       "      <td>8.106</td>\n",
       "      <td>False</td>\n",
       "      <td>1611968.17</td>\n",
       "    </tr>\n",
       "    <tr>\n",
       "      <th>3</th>\n",
       "      <td>4</td>\n",
       "      <td>1</td>\n",
       "      <td>26/02/2010</td>\n",
       "      <td>46.63</td>\n",
       "      <td>2.561</td>\n",
       "      <td>NaN</td>\n",
       "      <td>NaN</td>\n",
       "      <td>NaN</td>\n",
       "      <td>NaN</td>\n",
       "      <td>NaN</td>\n",
       "      <td>8.106</td>\n",
       "      <td>False</td>\n",
       "      <td>1409727.59</td>\n",
       "    </tr>\n",
       "    <tr>\n",
       "      <th>4</th>\n",
       "      <td>5</td>\n",
       "      <td>1</td>\n",
       "      <td>05/03/2010</td>\n",
       "      <td>46.50</td>\n",
       "      <td>2.625</td>\n",
       "      <td>NaN</td>\n",
       "      <td>NaN</td>\n",
       "      <td>NaN</td>\n",
       "      <td>NaN</td>\n",
       "      <td>NaN</td>\n",
       "      <td>8.106</td>\n",
       "      <td>False</td>\n",
       "      <td>1554806.68</td>\n",
       "    </tr>\n",
       "    <tr>\n",
       "      <th>...</th>\n",
       "      <td>...</td>\n",
       "      <td>...</td>\n",
       "      <td>...</td>\n",
       "      <td>...</td>\n",
       "      <td>...</td>\n",
       "      <td>...</td>\n",
       "      <td>...</td>\n",
       "      <td>...</td>\n",
       "      <td>...</td>\n",
       "      <td>...</td>\n",
       "      <td>...</td>\n",
       "      <td>...</td>\n",
       "      <td>...</td>\n",
       "    </tr>\n",
       "    <tr>\n",
       "      <th>134</th>\n",
       "      <td>135</td>\n",
       "      <td>1</td>\n",
       "      <td>31/08/2012</td>\n",
       "      <td>80.49</td>\n",
       "      <td>3.638</td>\n",
       "      <td>21442.73</td>\n",
       "      <td>102.32</td>\n",
       "      <td>21.70</td>\n",
       "      <td>13209.64</td>\n",
       "      <td>3032.96</td>\n",
       "      <td>6.908</td>\n",
       "      <td>False</td>\n",
       "      <td>1582083.40</td>\n",
       "    </tr>\n",
       "    <tr>\n",
       "      <th>135</th>\n",
       "      <td>136</td>\n",
       "      <td>1</td>\n",
       "      <td>07/09/2012</td>\n",
       "      <td>83.96</td>\n",
       "      <td>3.730</td>\n",
       "      <td>5204.68</td>\n",
       "      <td>35.74</td>\n",
       "      <td>50.94</td>\n",
       "      <td>4120.32</td>\n",
       "      <td>2737.17</td>\n",
       "      <td>6.908</td>\n",
       "      <td>True</td>\n",
       "      <td>1661767.33</td>\n",
       "    </tr>\n",
       "    <tr>\n",
       "      <th>136</th>\n",
       "      <td>137</td>\n",
       "      <td>1</td>\n",
       "      <td>14/09/2012</td>\n",
       "      <td>74.97</td>\n",
       "      <td>3.717</td>\n",
       "      <td>17212.52</td>\n",
       "      <td>7.00</td>\n",
       "      <td>18.79</td>\n",
       "      <td>1523.11</td>\n",
       "      <td>7992.72</td>\n",
       "      <td>6.908</td>\n",
       "      <td>False</td>\n",
       "      <td>1517428.87</td>\n",
       "    </tr>\n",
       "    <tr>\n",
       "      <th>137</th>\n",
       "      <td>138</td>\n",
       "      <td>1</td>\n",
       "      <td>21/09/2012</td>\n",
       "      <td>69.87</td>\n",
       "      <td>3.721</td>\n",
       "      <td>6352.30</td>\n",
       "      <td>7.64</td>\n",
       "      <td>4.69</td>\n",
       "      <td>1010.06</td>\n",
       "      <td>6456.71</td>\n",
       "      <td>6.908</td>\n",
       "      <td>False</td>\n",
       "      <td>1506126.06</td>\n",
       "    </tr>\n",
       "    <tr>\n",
       "      <th>138</th>\n",
       "      <td>139</td>\n",
       "      <td>1</td>\n",
       "      <td>28/09/2012</td>\n",
       "      <td>76.08</td>\n",
       "      <td>3.666</td>\n",
       "      <td>3666.27</td>\n",
       "      <td>7.64</td>\n",
       "      <td>1.65</td>\n",
       "      <td>1417.96</td>\n",
       "      <td>4744.28</td>\n",
       "      <td>6.908</td>\n",
       "      <td>False</td>\n",
       "      <td>1437059.26</td>\n",
       "    </tr>\n",
       "  </tbody>\n",
       "</table>\n",
       "<p>139 rows × 13 columns</p>\n",
       "</div>"
      ],
      "text/plain": [
       "      id  Store        Date  Temperature  Fuel_Price  Promotion1  Promotion2  \\\n",
       "0      1      1  05/02/2010        42.31       2.572         NaN         NaN   \n",
       "1      2      1  12/02/2010        38.51       2.548         NaN         NaN   \n",
       "2      3      1  19/02/2010        39.93       2.514         NaN         NaN   \n",
       "3      4      1  26/02/2010        46.63       2.561         NaN         NaN   \n",
       "4      5      1  05/03/2010        46.50       2.625         NaN         NaN   \n",
       "..   ...    ...         ...          ...         ...         ...         ...   \n",
       "134  135      1  31/08/2012        80.49       3.638    21442.73      102.32   \n",
       "135  136      1  07/09/2012        83.96       3.730     5204.68       35.74   \n",
       "136  137      1  14/09/2012        74.97       3.717    17212.52        7.00   \n",
       "137  138      1  21/09/2012        69.87       3.721     6352.30        7.64   \n",
       "138  139      1  28/09/2012        76.08       3.666     3666.27        7.64   \n",
       "\n",
       "     Promotion3  Promotion4  Promotion5  Unemployment  IsHoliday  Weekly_Sales  \n",
       "0           NaN         NaN         NaN         8.106      False    1643690.90  \n",
       "1           NaN         NaN         NaN         8.106       True    1641957.44  \n",
       "2           NaN         NaN         NaN         8.106      False    1611968.17  \n",
       "3           NaN         NaN         NaN         8.106      False    1409727.59  \n",
       "4           NaN         NaN         NaN         8.106      False    1554806.68  \n",
       "..          ...         ...         ...           ...        ...           ...  \n",
       "134       21.70    13209.64     3032.96         6.908      False    1582083.40  \n",
       "135       50.94     4120.32     2737.17         6.908       True    1661767.33  \n",
       "136       18.79     1523.11     7992.72         6.908      False    1517428.87  \n",
       "137        4.69     1010.06     6456.71         6.908      False    1506126.06  \n",
       "138        1.65     1417.96     4744.28         6.908      False    1437059.26  \n",
       "\n",
       "[139 rows x 13 columns]"
      ]
     },
     "execution_count": 12,
     "metadata": {},
     "output_type": "execute_result"
    }
   ],
   "source": [
    "df1[(df1['Store']==1)] ## 날짜는 2010/02/05 ~ 2012/09/28 까지 모든 스토어가 동일함"
   ]
  },
  {
   "cell_type": "code",
   "execution_count": 13,
   "id": "af753b88",
   "metadata": {},
   "outputs": [
    {
     "data": {
      "text/plain": [
       "Date    10\n",
       "dtype: int64"
      ]
     },
     "execution_count": 13,
     "metadata": {},
     "output_type": "execute_result"
    }
   ],
   "source": [
    "df1[(df1['Store']==1)&(df1['IsHoliday']==1)][['Date']].count() ## 모두 다 공휴일 포함-> 공휴일은 총 10번 "
   ]
  },
  {
   "cell_type": "code",
   "execution_count": 14,
   "id": "7fd31d7b",
   "metadata": {},
   "outputs": [
    {
     "data": {
      "text/html": [
       "<div>\n",
       "<style scoped>\n",
       "    .dataframe tbody tr th:only-of-type {\n",
       "        vertical-align: middle;\n",
       "    }\n",
       "\n",
       "    .dataframe tbody tr th {\n",
       "        vertical-align: top;\n",
       "    }\n",
       "\n",
       "    .dataframe thead th {\n",
       "        text-align: right;\n",
       "    }\n",
       "</style>\n",
       "<table border=\"1\" class=\"dataframe\">\n",
       "  <thead>\n",
       "    <tr style=\"text-align: right;\">\n",
       "      <th></th>\n",
       "      <th>id</th>\n",
       "      <th>Store</th>\n",
       "      <th>Date</th>\n",
       "      <th>Temperature</th>\n",
       "      <th>Fuel_Price</th>\n",
       "      <th>Promotion1</th>\n",
       "      <th>Promotion2</th>\n",
       "      <th>Promotion3</th>\n",
       "      <th>Promotion4</th>\n",
       "      <th>Promotion5</th>\n",
       "      <th>Unemployment</th>\n",
       "      <th>IsHoliday</th>\n",
       "      <th>Weekly_Sales</th>\n",
       "    </tr>\n",
       "  </thead>\n",
       "  <tbody>\n",
       "    <tr>\n",
       "      <th>0</th>\n",
       "      <td>1</td>\n",
       "      <td>1</td>\n",
       "      <td>05/02/2010</td>\n",
       "      <td>42.31</td>\n",
       "      <td>2.572</td>\n",
       "      <td>NaN</td>\n",
       "      <td>NaN</td>\n",
       "      <td>NaN</td>\n",
       "      <td>NaN</td>\n",
       "      <td>NaN</td>\n",
       "      <td>8.106</td>\n",
       "      <td>False</td>\n",
       "      <td>1643690.90</td>\n",
       "    </tr>\n",
       "    <tr>\n",
       "      <th>1</th>\n",
       "      <td>2</td>\n",
       "      <td>1</td>\n",
       "      <td>12/02/2010</td>\n",
       "      <td>38.51</td>\n",
       "      <td>2.548</td>\n",
       "      <td>NaN</td>\n",
       "      <td>NaN</td>\n",
       "      <td>NaN</td>\n",
       "      <td>NaN</td>\n",
       "      <td>NaN</td>\n",
       "      <td>8.106</td>\n",
       "      <td>True</td>\n",
       "      <td>1641957.44</td>\n",
       "    </tr>\n",
       "    <tr>\n",
       "      <th>2</th>\n",
       "      <td>3</td>\n",
       "      <td>1</td>\n",
       "      <td>19/02/2010</td>\n",
       "      <td>39.93</td>\n",
       "      <td>2.514</td>\n",
       "      <td>NaN</td>\n",
       "      <td>NaN</td>\n",
       "      <td>NaN</td>\n",
       "      <td>NaN</td>\n",
       "      <td>NaN</td>\n",
       "      <td>8.106</td>\n",
       "      <td>False</td>\n",
       "      <td>1611968.17</td>\n",
       "    </tr>\n",
       "    <tr>\n",
       "      <th>3</th>\n",
       "      <td>4</td>\n",
       "      <td>1</td>\n",
       "      <td>26/02/2010</td>\n",
       "      <td>46.63</td>\n",
       "      <td>2.561</td>\n",
       "      <td>NaN</td>\n",
       "      <td>NaN</td>\n",
       "      <td>NaN</td>\n",
       "      <td>NaN</td>\n",
       "      <td>NaN</td>\n",
       "      <td>8.106</td>\n",
       "      <td>False</td>\n",
       "      <td>1409727.59</td>\n",
       "    </tr>\n",
       "    <tr>\n",
       "      <th>4</th>\n",
       "      <td>5</td>\n",
       "      <td>1</td>\n",
       "      <td>05/03/2010</td>\n",
       "      <td>46.50</td>\n",
       "      <td>2.625</td>\n",
       "      <td>NaN</td>\n",
       "      <td>NaN</td>\n",
       "      <td>NaN</td>\n",
       "      <td>NaN</td>\n",
       "      <td>NaN</td>\n",
       "      <td>8.106</td>\n",
       "      <td>False</td>\n",
       "      <td>1554806.68</td>\n",
       "    </tr>\n",
       "    <tr>\n",
       "      <th>...</th>\n",
       "      <td>...</td>\n",
       "      <td>...</td>\n",
       "      <td>...</td>\n",
       "      <td>...</td>\n",
       "      <td>...</td>\n",
       "      <td>...</td>\n",
       "      <td>...</td>\n",
       "      <td>...</td>\n",
       "      <td>...</td>\n",
       "      <td>...</td>\n",
       "      <td>...</td>\n",
       "      <td>...</td>\n",
       "      <td>...</td>\n",
       "    </tr>\n",
       "    <tr>\n",
       "      <th>87</th>\n",
       "      <td>88</td>\n",
       "      <td>1</td>\n",
       "      <td>07/10/2011</td>\n",
       "      <td>69.31</td>\n",
       "      <td>3.285</td>\n",
       "      <td>NaN</td>\n",
       "      <td>NaN</td>\n",
       "      <td>NaN</td>\n",
       "      <td>NaN</td>\n",
       "      <td>NaN</td>\n",
       "      <td>7.866</td>\n",
       "      <td>False</td>\n",
       "      <td>1630989.95</td>\n",
       "    </tr>\n",
       "    <tr>\n",
       "      <th>88</th>\n",
       "      <td>89</td>\n",
       "      <td>1</td>\n",
       "      <td>14/10/2011</td>\n",
       "      <td>71.74</td>\n",
       "      <td>3.274</td>\n",
       "      <td>NaN</td>\n",
       "      <td>NaN</td>\n",
       "      <td>NaN</td>\n",
       "      <td>NaN</td>\n",
       "      <td>NaN</td>\n",
       "      <td>7.866</td>\n",
       "      <td>False</td>\n",
       "      <td>1493525.93</td>\n",
       "    </tr>\n",
       "    <tr>\n",
       "      <th>89</th>\n",
       "      <td>90</td>\n",
       "      <td>1</td>\n",
       "      <td>21/10/2011</td>\n",
       "      <td>63.71</td>\n",
       "      <td>3.353</td>\n",
       "      <td>NaN</td>\n",
       "      <td>NaN</td>\n",
       "      <td>NaN</td>\n",
       "      <td>NaN</td>\n",
       "      <td>NaN</td>\n",
       "      <td>7.866</td>\n",
       "      <td>False</td>\n",
       "      <td>1502562.78</td>\n",
       "    </tr>\n",
       "    <tr>\n",
       "      <th>90</th>\n",
       "      <td>91</td>\n",
       "      <td>1</td>\n",
       "      <td>28/10/2011</td>\n",
       "      <td>66.57</td>\n",
       "      <td>3.372</td>\n",
       "      <td>NaN</td>\n",
       "      <td>NaN</td>\n",
       "      <td>NaN</td>\n",
       "      <td>NaN</td>\n",
       "      <td>NaN</td>\n",
       "      <td>7.866</td>\n",
       "      <td>False</td>\n",
       "      <td>1445249.09</td>\n",
       "    </tr>\n",
       "    <tr>\n",
       "      <th>91</th>\n",
       "      <td>92</td>\n",
       "      <td>1</td>\n",
       "      <td>04/11/2011</td>\n",
       "      <td>54.98</td>\n",
       "      <td>3.332</td>\n",
       "      <td>NaN</td>\n",
       "      <td>NaN</td>\n",
       "      <td>NaN</td>\n",
       "      <td>NaN</td>\n",
       "      <td>NaN</td>\n",
       "      <td>7.866</td>\n",
       "      <td>False</td>\n",
       "      <td>1697229.58</td>\n",
       "    </tr>\n",
       "  </tbody>\n",
       "</table>\n",
       "<p>92 rows × 13 columns</p>\n",
       "</div>"
      ],
      "text/plain": [
       "    id  Store        Date  Temperature  Fuel_Price  Promotion1  Promotion2  \\\n",
       "0    1      1  05/02/2010        42.31       2.572         NaN         NaN   \n",
       "1    2      1  12/02/2010        38.51       2.548         NaN         NaN   \n",
       "2    3      1  19/02/2010        39.93       2.514         NaN         NaN   \n",
       "3    4      1  26/02/2010        46.63       2.561         NaN         NaN   \n",
       "4    5      1  05/03/2010        46.50       2.625         NaN         NaN   \n",
       "..  ..    ...         ...          ...         ...         ...         ...   \n",
       "87  88      1  07/10/2011        69.31       3.285         NaN         NaN   \n",
       "88  89      1  14/10/2011        71.74       3.274         NaN         NaN   \n",
       "89  90      1  21/10/2011        63.71       3.353         NaN         NaN   \n",
       "90  91      1  28/10/2011        66.57       3.372         NaN         NaN   \n",
       "91  92      1  04/11/2011        54.98       3.332         NaN         NaN   \n",
       "\n",
       "    Promotion3  Promotion4  Promotion5  Unemployment  IsHoliday  Weekly_Sales  \n",
       "0          NaN         NaN         NaN         8.106      False    1643690.90  \n",
       "1          NaN         NaN         NaN         8.106       True    1641957.44  \n",
       "2          NaN         NaN         NaN         8.106      False    1611968.17  \n",
       "3          NaN         NaN         NaN         8.106      False    1409727.59  \n",
       "4          NaN         NaN         NaN         8.106      False    1554806.68  \n",
       "..         ...         ...         ...           ...        ...           ...  \n",
       "87         NaN         NaN         NaN         7.866      False    1630989.95  \n",
       "88         NaN         NaN         NaN         7.866      False    1493525.93  \n",
       "89         NaN         NaN         NaN         7.866      False    1502562.78  \n",
       "90         NaN         NaN         NaN         7.866      False    1445249.09  \n",
       "91         NaN         NaN         NaN         7.866      False    1697229.58  \n",
       "\n",
       "[92 rows x 13 columns]"
      ]
     },
     "execution_count": 14,
     "metadata": {},
     "output_type": "execute_result"
    }
   ],
   "source": [
    "## Promotion1~5 까지 모두 NaN인 값 찾기\n",
    "df1[(df1['Store']==1)&(df1['Promotion1'].isnull())&(df1['Promotion2'].isnull())&(df1['Promotion3'].isnull())&(df1['Promotion4'].isnull())&(df1['Promotion5'].isnull())]\n",
    "## 모든 store가 2011/11/04 까지 Promotion1~5 가 NaN 값\n",
    "## Promotion1~5 가 모두 NaN인 값은 각각 4140개"
   ]
  },
  {
   "cell_type": "code",
   "execution_count": 15,
   "id": "e56ae59c",
   "metadata": {},
   "outputs": [
    {
     "data": {
      "text/plain": [
       "id                 0\n",
       "Store              0\n",
       "Date               0\n",
       "Temperature        0\n",
       "Fuel_Price         0\n",
       "Promotion1      4153\n",
       "Promotion2      4663\n",
       "Promotion3      4370\n",
       "Promotion4      4436\n",
       "Promotion5      4140\n",
       "Unemployment       0\n",
       "IsHoliday          0\n",
       "Weekly_Sales       0\n",
       "dtype: int64"
      ]
     },
     "execution_count": 15,
     "metadata": {},
     "output_type": "execute_result"
    }
   ],
   "source": [
    "df1.isnull().sum()"
   ]
  },
  {
   "cell_type": "markdown",
   "id": "9b8a759a",
   "metadata": {},
   "source": [
    "## 시각화"
   ]
  },
  {
   "cell_type": "markdown",
   "id": "6f9db99d",
   "metadata": {},
   "source": [
    "- Promotion1"
   ]
  },
  {
   "cell_type": "code",
   "execution_count": 16,
   "id": "a39a14db",
   "metadata": {},
   "outputs": [
    {
     "data": {
      "text/plain": [
       "<AxesSubplot:xlabel='Promotion1'>"
      ]
     },
     "execution_count": 16,
     "metadata": {},
     "output_type": "execute_result"
    },
    {
     "data": {
      "image/png": "[encoded data removed]",
      "text/plain": [
       "<Figure size 432x288 with 1 Axes>"
      ]
     },
     "metadata": {
      "needs_background": "light"
     },
     "output_type": "display_data"
    }
   ],
   "source": [
    "sns.boxplot(x='Promotion1', data=df1)"
   ]
  },
  {
   "cell_type": "markdown",
   "id": "0bf03467",
   "metadata": {},
   "source": [
    "- Promotion2"
   ]
  },
  {
   "cell_type": "code",
   "execution_count": 17,
   "id": "a83a7a08",
   "metadata": {},
   "outputs": [
    {
     "data": {
      "text/plain": [
       "<AxesSubplot:xlabel='Promotion2'>"
      ]
     },
     "execution_count": 17,
     "metadata": {},
     "output_type": "execute_result"
    },
    {
     "data": {
      "image/png": "[encoded data removed]",
      "text/plain": [
       "<Figure size 432x288 with 1 Axes>"
      ]
     },
     "metadata": {
      "needs_background": "light"
     },
     "output_type": "display_data"
    }
   ],
   "source": [
    "sns.boxplot(x='Promotion2', data=df1)"
   ]
  },
  {
   "cell_type": "markdown",
   "id": "78190e67",
   "metadata": {},
   "source": [
    "- Promotion3"
   ]
  },
  {
   "cell_type": "code",
   "execution_count": 18,
   "id": "21b21525",
   "metadata": {},
   "outputs": [
    {
     "data": {
      "text/plain": [
       "<AxesSubplot:xlabel='Promotion3'>"
      ]
     },
     "execution_count": 18,
     "metadata": {},
     "output_type": "execute_result"
    },
    {
     "data": {
      "image/png": "[encoded data removed]",
      "text/plain": [
       "<Figure size 432x288 with 1 Axes>"
      ]
     },
     "metadata": {
      "needs_background": "light"
     },
     "output_type": "display_data"
    }
   ],
   "source": [
    "sns.boxplot(x='Promotion3', data=df1)"
   ]
  },
  {
   "cell_type": "markdown",
   "id": "7d3b17d3",
   "metadata": {},
   "source": [
    "- Promotion4"
   ]
  },
  {
   "cell_type": "code",
   "execution_count": 19,
   "id": "eb6d29f1",
   "metadata": {},
   "outputs": [
    {
     "data": {
      "text/plain": [
       "<AxesSubplot:xlabel='Promotion4'>"
      ]
     },
     "execution_count": 19,
     "metadata": {},
     "output_type": "execute_result"
    },
    {
     "data": {
      "image/png": "[encoded data removed]",
      "text/plain": [
       "<Figure size 432x288 with 1 Axes>"
      ]
     },
     "metadata": {
      "needs_background": "light"
     },
     "output_type": "display_data"
    }
   ],
   "source": [
    "sns.boxplot(x='Promotion4', data=df1)"
   ]
  },
  {
   "cell_type": "markdown",
   "id": "84c6365c",
   "metadata": {},
   "source": [
    "- Promotion5"
   ]
  },
  {
   "cell_type": "code",
   "execution_count": 20,
   "id": "7ac5a8ed",
   "metadata": {},
   "outputs": [
    {
     "data": {
      "text/plain": [
       "<AxesSubplot:xlabel='Promotion5'>"
      ]
     },
     "execution_count": 20,
     "metadata": {},
     "output_type": "execute_result"
    },
    {
     "data": {
      "image/png": "[encoded data removed]",
      "text/plain": [
       "<Figure size 432x288 with 1 Axes>"
      ]
     },
     "metadata": {
      "needs_background": "light"
     },
     "output_type": "display_data"
    }
   ],
   "source": [
    "sns.boxplot(x='Promotion5', data=df1)"
   ]
  },
  {
   "cell_type": "markdown",
   "id": "358ce824",
   "metadata": {},
   "source": [
    "- IsHoliday"
   ]
  },
  {
   "cell_type": "code",
   "execution_count": 21,
   "id": "d2726c38",
   "metadata": {},
   "outputs": [
    {
     "data": {
      "text/plain": [
       "<AxesSubplot:xlabel='IsHoliday', ylabel='count'>"
      ]
     },
     "execution_count": 21,
     "metadata": {},
     "output_type": "execute_result"
    },
    {
     "data": {
      "image/png": "[encoded data removed]",
      "text/plain": [
       "<Figure size 432x288 with 1 Axes>"
      ]
     },
     "metadata": {
      "needs_background": "light"
     },
     "output_type": "display_data"
    }
   ],
   "source": [
    "sns.countplot(x='IsHoliday', data=df1)"
   ]
  },
  {
   "cell_type": "markdown",
   "id": "c9c7b615",
   "metadata": {},
   "source": [
    "- Promotion과 Weekly_Sales scatter plot\n",
    "- Weekly_Sales과 Promotion 관계 알아보기"
   ]
  },
  {
   "cell_type": "code",
   "execution_count": 22,
   "id": "aa434734",
   "metadata": {},
   "outputs": [
    {
     "data": {
      "image/png": "[encoded data removed]",
      "text/plain": [
       "<Figure size 432x288 with 1 Axes>"
      ]
     },
     "metadata": {
      "needs_background": "light"
     },
     "output_type": "display_data"
    }
   ],
   "source": [
    "plt.scatter(x='Promotion1', y='Weekly_Sales', data=df1)\n",
    "plt.show()"
   ]
  },
  {
   "cell_type": "code",
   "execution_count": 23,
   "id": "6f918b6b",
   "metadata": {},
   "outputs": [
    {
     "data": {
      "image/png": "[encoded data removed]",
      "text/plain": [
       "<Figure size 432x288 with 1 Axes>"
      ]
     },
     "metadata": {
      "needs_background": "light"
     },
     "output_type": "display_data"
    }
   ],
   "source": [
    "plt.scatter(x='Promotion2', y='Weekly_Sales', data=df1)\n",
    "plt.show()"
   ]
  },
  {
   "cell_type": "code",
   "execution_count": 24,
   "id": "0567a4cc",
   "metadata": {},
   "outputs": [
    {
     "data": {
      "image/png": "[encoded data removed]",
      "text/plain": [
       "<Figure size 432x288 with 1 Axes>"
      ]
     },
     "metadata": {
      "needs_background": "light"
     },
     "output_type": "display_data"
    }
   ],
   "source": [
    "plt.scatter(x='Promotion3', y='Weekly_Sales', data=df1)\n",
    "plt.show()"
   ]
  },
  {
   "cell_type": "code",
   "execution_count": 25,
   "id": "2cc7b87a",
   "metadata": {},
   "outputs": [
    {
     "data": {
      "image/png": "[encoded data removed]",
      "text/plain": [
       "<Figure size 432x288 with 1 Axes>"
      ]
     },
     "metadata": {
      "needs_background": "light"
     },
     "output_type": "display_data"
    }
   ],
   "source": [
    "plt.scatter(x='Promotion4', y='Weekly_Sales', data=df1)\n",
    "plt.show()"
   ]
  },
  {
   "cell_type": "code",
   "execution_count": 26,
   "id": "4e279250",
   "metadata": {},
   "outputs": [
    {
     "data": {
      "image/png": "[encoded data removed]",
      "text/plain": [
       "<Figure size 432x288 with 1 Axes>"
      ]
     },
     "metadata": {
      "needs_background": "light"
     },
     "output_type": "display_data"
    }
   ],
   "source": [
    "plt.scatter(x='Promotion5', y='Weekly_Sales', data=df1)\n",
    "plt.show()"
   ]
  },
  {
   "cell_type": "code",
   "execution_count": 28,
   "id": "abc4ce4d",
   "metadata": {},
   "outputs": [
    {
     "data": {
      "image/png": "[encoded data removed]",
      "text/plain": [
       "<Figure size 432x288 with 1 Axes>"
      ]
     },
     "metadata": {
      "needs_background": "light"
     },
     "output_type": "display_data"
    }
   ],
   "source": [
    "plt.scatter(x='Unemployment', y='Weekly_Sales', data=df1)\n",
    "plt.xlabel('Unemployment', size=12)\n",
    "plt.ylabel('Weekly_Sales', size=12)\n",
    "plt.show()"
   ]
  },
  {
   "cell_type": "code",
   "execution_count": 29,
   "id": "cb5333fd",
   "metadata": {},
   "outputs": [
    {
     "data": {
      "image/png": "[encoded data removed]",
      "text/plain": [
       "<Figure size 432x288 with 1 Axes>"
      ]
     },
     "metadata": {
      "needs_background": "light"
     },
     "output_type": "display_data"
    }
   ],
   "source": [
    "plt.scatter(x='Fuel_Price', y='Weekly_Sales', data=df1)\n",
    "plt.xlabel('Fuel_Price', size=12)\n",
    "plt.ylabel('Weekly_Sales', size=12)\n",
    "plt.show()"
   ]
  },
  {
   "cell_type": "code",
   "execution_count": 30,
   "id": "5aef2a61",
   "metadata": {},
   "outputs": [
    {
     "data": {
      "image/png": "[encoded data removed]",
      "text/plain": [
       "<Figure size 432x288 with 1 Axes>"
      ]
     },
     "metadata": {
      "needs_background": "light"
     },
     "output_type": "display_data"
    }
   ],
   "source": [
    "plt.scatter(x='Temperature', y='Weekly_Sales', data=df1)\n",
    "plt.xlabel('Temperature', size=12)\n",
    "plt.ylabel('Weekly_Sales', size=12)\n",
    "plt.show()"
   ]
  },
  {
   "cell_type": "code",
   "execution_count": 31,
   "id": "0091235f",
   "metadata": {},
   "outputs": [
    {
     "data": {
      "text/html": [
       "<div>\n",
       "<style scoped>\n",
       "    .dataframe tbody tr th:only-of-type {\n",
       "        vertical-align: middle;\n",
       "    }\n",
       "\n",
       "    .dataframe tbody tr th {\n",
       "        vertical-align: top;\n",
       "    }\n",
       "\n",
       "    .dataframe thead th {\n",
       "        text-align: right;\n",
       "    }\n",
       "</style>\n",
       "<table border=\"1\" class=\"dataframe\">\n",
       "  <thead>\n",
       "    <tr style=\"text-align: right;\">\n",
       "      <th></th>\n",
       "      <th>id</th>\n",
       "      <th>Store</th>\n",
       "      <th>Temperature</th>\n",
       "      <th>Fuel_Price</th>\n",
       "      <th>Promotion1</th>\n",
       "      <th>Promotion2</th>\n",
       "      <th>Promotion3</th>\n",
       "      <th>Promotion4</th>\n",
       "      <th>Promotion5</th>\n",
       "      <th>Unemployment</th>\n",
       "      <th>IsHoliday</th>\n",
       "      <th>Weekly_Sales</th>\n",
       "    </tr>\n",
       "  </thead>\n",
       "  <tbody>\n",
       "    <tr>\n",
       "      <th>id</th>\n",
       "      <td>1.000000e+00</td>\n",
       "      <td>9.997531e-01</td>\n",
       "      <td>-0.019554</td>\n",
       "      <td>0.075666</td>\n",
       "      <td>-0.157843</td>\n",
       "      <td>-0.042932</td>\n",
       "      <td>-0.039226</td>\n",
       "      <td>-0.015269</td>\n",
       "      <td>-0.051893</td>\n",
       "      <td>0.218548</td>\n",
       "      <td>1.475431e-16</td>\n",
       "      <td>-0.335276</td>\n",
       "    </tr>\n",
       "    <tr>\n",
       "      <th>Store</th>\n",
       "      <td>9.997531e-01</td>\n",
       "      <td>1.000000e+00</td>\n",
       "      <td>-0.022895</td>\n",
       "      <td>0.058628</td>\n",
       "      <td>-0.158183</td>\n",
       "      <td>-0.040512</td>\n",
       "      <td>-0.037557</td>\n",
       "      <td>-0.015109</td>\n",
       "      <td>-0.051439</td>\n",
       "      <td>0.223808</td>\n",
       "      <td>1.547191e-16</td>\n",
       "      <td>-0.335569</td>\n",
       "    </tr>\n",
       "    <tr>\n",
       "      <th>Temperature</th>\n",
       "      <td>-1.955428e-02</td>\n",
       "      <td>-2.289476e-02</td>\n",
       "      <td>1.000000</td>\n",
       "      <td>0.148054</td>\n",
       "      <td>-0.059489</td>\n",
       "      <td>-0.323549</td>\n",
       "      <td>-0.097627</td>\n",
       "      <td>-0.072568</td>\n",
       "      <td>-0.027799</td>\n",
       "      <td>0.102688</td>\n",
       "      <td>-1.555954e-01</td>\n",
       "      <td>-0.063231</td>\n",
       "    </tr>\n",
       "    <tr>\n",
       "      <th>Fuel_Price</th>\n",
       "      <td>7.566586e-02</td>\n",
       "      <td>5.862843e-02</td>\n",
       "      <td>0.148054</td>\n",
       "      <td>1.000000</td>\n",
       "      <td>0.087613</td>\n",
       "      <td>-0.214387</td>\n",
       "      <td>-0.095478</td>\n",
       "      <td>-0.028819</td>\n",
       "      <td>-0.116167</td>\n",
       "      <td>-0.025728</td>\n",
       "      <td>-7.148479e-02</td>\n",
       "      <td>0.010986</td>\n",
       "    </tr>\n",
       "    <tr>\n",
       "      <th>Promotion1</th>\n",
       "      <td>-1.578430e-01</td>\n",
       "      <td>-1.581835e-01</td>\n",
       "      <td>-0.059489</td>\n",
       "      <td>0.087613</td>\n",
       "      <td>1.000000</td>\n",
       "      <td>0.028262</td>\n",
       "      <td>-0.108023</td>\n",
       "      <td>0.820015</td>\n",
       "      <td>0.173296</td>\n",
       "      <td>0.030090</td>\n",
       "      <td>-4.375904e-02</td>\n",
       "      <td>0.317564</td>\n",
       "    </tr>\n",
       "    <tr>\n",
       "      <th>Promotion2</th>\n",
       "      <td>-4.293211e-02</td>\n",
       "      <td>-4.051200e-02</td>\n",
       "      <td>-0.323549</td>\n",
       "      <td>-0.214387</td>\n",
       "      <td>0.028262</td>\n",
       "      <td>1.000000</td>\n",
       "      <td>-0.049666</td>\n",
       "      <td>-0.009585</td>\n",
       "      <td>-0.006747</td>\n",
       "      <td>0.017877</td>\n",
       "      <td>3.264987e-01</td>\n",
       "      <td>0.094407</td>\n",
       "    </tr>\n",
       "    <tr>\n",
       "      <th>Promotion3</th>\n",
       "      <td>-3.922622e-02</td>\n",
       "      <td>-3.755728e-02</td>\n",
       "      <td>-0.097627</td>\n",
       "      <td>-0.095478</td>\n",
       "      <td>-0.108023</td>\n",
       "      <td>-0.049666</td>\n",
       "      <td>1.000000</td>\n",
       "      <td>-0.073920</td>\n",
       "      <td>-0.024157</td>\n",
       "      <td>0.008663</td>\n",
       "      <td>4.162788e-01</td>\n",
       "      <td>0.199661</td>\n",
       "    </tr>\n",
       "    <tr>\n",
       "      <th>Promotion4</th>\n",
       "      <td>-1.526918e-02</td>\n",
       "      <td>-1.510892e-02</td>\n",
       "      <td>-0.072568</td>\n",
       "      <td>-0.028819</td>\n",
       "      <td>0.820015</td>\n",
       "      <td>-0.009585</td>\n",
       "      <td>-0.073920</td>\n",
       "      <td>1.000000</td>\n",
       "      <td>0.107567</td>\n",
       "      <td>0.017714</td>\n",
       "      <td>-9.818811e-03</td>\n",
       "      <td>0.162143</td>\n",
       "    </tr>\n",
       "    <tr>\n",
       "      <th>Promotion5</th>\n",
       "      <td>-5.189250e-02</td>\n",
       "      <td>-5.143911e-02</td>\n",
       "      <td>-0.027799</td>\n",
       "      <td>-0.116167</td>\n",
       "      <td>0.173296</td>\n",
       "      <td>-0.006747</td>\n",
       "      <td>-0.024157</td>\n",
       "      <td>0.107567</td>\n",
       "      <td>1.000000</td>\n",
       "      <td>-0.007787</td>\n",
       "      <td>-5.648109e-02</td>\n",
       "      <td>0.297707</td>\n",
       "    </tr>\n",
       "    <tr>\n",
       "      <th>Unemployment</th>\n",
       "      <td>2.185480e-01</td>\n",
       "      <td>2.238084e-01</td>\n",
       "      <td>0.102688</td>\n",
       "      <td>-0.025728</td>\n",
       "      <td>0.030090</td>\n",
       "      <td>0.017877</td>\n",
       "      <td>0.008663</td>\n",
       "      <td>0.017714</td>\n",
       "      <td>-0.007787</td>\n",
       "      <td>1.000000</td>\n",
       "      <td>6.666948e-03</td>\n",
       "      <td>-0.107331</td>\n",
       "    </tr>\n",
       "    <tr>\n",
       "      <th>IsHoliday</th>\n",
       "      <td>1.475431e-16</td>\n",
       "      <td>1.547191e-16</td>\n",
       "      <td>-0.155595</td>\n",
       "      <td>-0.071485</td>\n",
       "      <td>-0.043759</td>\n",
       "      <td>0.326499</td>\n",
       "      <td>0.416279</td>\n",
       "      <td>-0.009819</td>\n",
       "      <td>-0.056481</td>\n",
       "      <td>0.006667</td>\n",
       "      <td>1.000000e+00</td>\n",
       "      <td>0.037066</td>\n",
       "    </tr>\n",
       "    <tr>\n",
       "      <th>Weekly_Sales</th>\n",
       "      <td>-3.352762e-01</td>\n",
       "      <td>-3.355685e-01</td>\n",
       "      <td>-0.063231</td>\n",
       "      <td>0.010986</td>\n",
       "      <td>0.317564</td>\n",
       "      <td>0.094407</td>\n",
       "      <td>0.199661</td>\n",
       "      <td>0.162143</td>\n",
       "      <td>0.297707</td>\n",
       "      <td>-0.107331</td>\n",
       "      <td>3.706563e-02</td>\n",
       "      <td>1.000000</td>\n",
       "    </tr>\n",
       "  </tbody>\n",
       "</table>\n",
       "</div>"
      ],
      "text/plain": [
       "                        id         Store  Temperature  Fuel_Price  Promotion1  \\\n",
       "id            1.000000e+00  9.997531e-01    -0.019554    0.075666   -0.157843   \n",
       "Store         9.997531e-01  1.000000e+00    -0.022895    0.058628   -0.158183   \n",
       "Temperature  -1.955428e-02 -2.289476e-02     1.000000    0.148054   -0.059489   \n",
       "Fuel_Price    7.566586e-02  5.862843e-02     0.148054    1.000000    0.087613   \n",
       "Promotion1   -1.578430e-01 -1.581835e-01    -0.059489    0.087613    1.000000   \n",
       "Promotion2   -4.293211e-02 -4.051200e-02    -0.323549   -0.214387    0.028262   \n",
       "Promotion3   -3.922622e-02 -3.755728e-02    -0.097627   -0.095478   -0.108023   \n",
       "Promotion4   -1.526918e-02 -1.510892e-02    -0.072568   -0.028819    0.820015   \n",
       "Promotion5   -5.189250e-02 -5.143911e-02    -0.027799   -0.116167    0.173296   \n",
       "Unemployment  2.185480e-01  2.238084e-01     0.102688   -0.025728    0.030090   \n",
       "IsHoliday     1.475431e-16  1.547191e-16    -0.155595   -0.071485   -0.043759   \n",
       "Weekly_Sales -3.352762e-01 -3.355685e-01    -0.063231    0.010986    0.317564   \n",
       "\n",
       "              Promotion2  Promotion3  Promotion4  Promotion5  Unemployment  \\\n",
       "id             -0.042932   -0.039226   -0.015269   -0.051893      0.218548   \n",
       "Store          -0.040512   -0.037557   -0.015109   -0.051439      0.223808   \n",
       "Temperature    -0.323549   -0.097627   -0.072568   -0.027799      0.102688   \n",
       "Fuel_Price     -0.214387   -0.095478   -0.028819   -0.116167     -0.025728   \n",
       "Promotion1      0.028262   -0.108023    0.820015    0.173296      0.030090   \n",
       "Promotion2      1.000000   -0.049666   -0.009585   -0.006747      0.017877   \n",
       "Promotion3     -0.049666    1.000000   -0.073920   -0.024157      0.008663   \n",
       "Promotion4     -0.009585   -0.073920    1.000000    0.107567      0.017714   \n",
       "Promotion5     -0.006747   -0.024157    0.107567    1.000000     -0.007787   \n",
       "Unemployment    0.017877    0.008663    0.017714   -0.007787      1.000000   \n",
       "IsHoliday       0.326499    0.416279   -0.009819   -0.056481      0.006667   \n",
       "Weekly_Sales    0.094407    0.199661    0.162143    0.297707     -0.107331   \n",
       "\n",
       "                 IsHoliday  Weekly_Sales  \n",
       "id            1.475431e-16     -0.335276  \n",
       "Store         1.547191e-16     -0.335569  \n",
       "Temperature  -1.555954e-01     -0.063231  \n",
       "Fuel_Price   -7.148479e-02      0.010986  \n",
       "Promotion1   -4.375904e-02      0.317564  \n",
       "Promotion2    3.264987e-01      0.094407  \n",
       "Promotion3    4.162788e-01      0.199661  \n",
       "Promotion4   -9.818811e-03      0.162143  \n",
       "Promotion5   -5.648109e-02      0.297707  \n",
       "Unemployment  6.666948e-03     -0.107331  \n",
       "IsHoliday     1.000000e+00      0.037066  \n",
       "Weekly_Sales  3.706563e-02      1.000000  "
      ]
     },
     "execution_count": 31,
     "metadata": {},
     "output_type": "execute_result"
    }
   ],
   "source": [
    "df1.corr()"
   ]
  },
  {
   "cell_type": "code",
   "execution_count": 32,
   "id": "b2162c50",
   "metadata": {},
   "outputs": [
    {
     "data": {
      "text/plain": [
       "<AxesSubplot:>"
      ]
     },
     "execution_count": 32,
     "metadata": {},
     "output_type": "execute_result"
    },
    {
     "data": {
      "image/png": "[encoded data removed]",
      "text/plain": [
       "<Figure size 1080x1080 with 2 Axes>"
      ]
     },
     "metadata": {
      "needs_background": "light"
     },
     "output_type": "display_data"
    }
   ],
   "source": [
    "plt.figure(figsize=(15,15))\n",
    "sns.heatmap(data = df1.corr(), annot=True, \n",
    "fmt = '.2f', linewidths=.5, cmap='Blues')"
   ]
  },
  {
   "cell_type": "markdown",
   "id": "a83ff505",
   "metadata": {},
   "source": [
    "## 결측치 처리"
   ]
  },
  {
   "cell_type": "markdown",
   "id": "ff73c0e7",
   "metadata": {},
   "source": [
    "- 0으로 결측치 대체하기"
   ]
  },
  {
   "cell_type": "code",
   "execution_count": 33,
   "id": "236cdf5f",
   "metadata": {},
   "outputs": [],
   "source": [
    "df1['Promotion1']=df1['Promotion1'].fillna(0)"
   ]
  },
  {
   "cell_type": "code",
   "execution_count": 34,
   "id": "62f9493a",
   "metadata": {},
   "outputs": [],
   "source": [
    "df1['Promotion2']=df1['Promotion2'].fillna(0)"
   ]
  },
  {
   "cell_type": "code",
   "execution_count": 35,
   "id": "1f850044",
   "metadata": {},
   "outputs": [],
   "source": [
    "df1['Promotion3']=df1['Promotion3'].fillna(0)"
   ]
  },
  {
   "cell_type": "code",
   "execution_count": 36,
   "id": "93212221",
   "metadata": {},
   "outputs": [],
   "source": [
    "df1['Promotion4']=df1['Promotion4'].fillna(0)"
   ]
  },
  {
   "cell_type": "code",
   "execution_count": 37,
   "id": "fcdbf00c",
   "metadata": {},
   "outputs": [],
   "source": [
    "df1['Promotion5']=df1['Promotion5'].fillna(0)"
   ]
  },
  {
   "cell_type": "code",
   "execution_count": 38,
   "id": "acc21103",
   "metadata": {},
   "outputs": [],
   "source": [
    "df1['Promotion_sum']=df1['Promotion1']+df1['Promotion2']+df1['Promotion3']+df1['Promotion4']+df1['Promotion5']"
   ]
  },
  {
   "cell_type": "code",
   "execution_count": 39,
   "id": "139e3d52",
   "metadata": {},
   "outputs": [],
   "source": [
    "df1['Promotion_mean']=(df1['Promotion1']+df1['Promotion2']+df1['Promotion3']+df1['Promotion4']+df1['Promotion5'])/5"
   ]
  },
  {
   "cell_type": "code",
   "execution_count": 40,
   "id": "b545aaab",
   "metadata": {},
   "outputs": [],
   "source": [
    "df1=df1.drop(['Promotion1','Promotion2','Promotion3','Promotion4','Promotion4','Promotion5'], axis=1)"
   ]
  },
  {
   "cell_type": "code",
   "execution_count": 41,
   "id": "71ca5e92",
   "metadata": {},
   "outputs": [
    {
     "data": {
      "text/html": [
       "<div>\n",
       "<style scoped>\n",
       "    .dataframe tbody tr th:only-of-type {\n",
       "        vertical-align: middle;\n",
       "    }\n",
       "\n",
       "    .dataframe tbody tr th {\n",
       "        vertical-align: top;\n",
       "    }\n",
       "\n",
       "    .dataframe thead th {\n",
       "        text-align: right;\n",
       "    }\n",
       "</style>\n",
       "<table border=\"1\" class=\"dataframe\">\n",
       "  <thead>\n",
       "    <tr style=\"text-align: right;\">\n",
       "      <th></th>\n",
       "      <th>id</th>\n",
       "      <th>Store</th>\n",
       "      <th>Date</th>\n",
       "      <th>Temperature</th>\n",
       "      <th>Fuel_Price</th>\n",
       "      <th>Unemployment</th>\n",
       "      <th>IsHoliday</th>\n",
       "      <th>Weekly_Sales</th>\n",
       "      <th>Promotion_sum</th>\n",
       "      <th>Promotion_mean</th>\n",
       "    </tr>\n",
       "  </thead>\n",
       "  <tbody>\n",
       "    <tr>\n",
       "      <th>0</th>\n",
       "      <td>1</td>\n",
       "      <td>1</td>\n",
       "      <td>05/02/2010</td>\n",
       "      <td>42.31</td>\n",
       "      <td>2.572</td>\n",
       "      <td>8.106</td>\n",
       "      <td>False</td>\n",
       "      <td>1643690.90</td>\n",
       "      <td>0.00</td>\n",
       "      <td>0.000</td>\n",
       "    </tr>\n",
       "    <tr>\n",
       "      <th>1</th>\n",
       "      <td>2</td>\n",
       "      <td>1</td>\n",
       "      <td>12/02/2010</td>\n",
       "      <td>38.51</td>\n",
       "      <td>2.548</td>\n",
       "      <td>8.106</td>\n",
       "      <td>True</td>\n",
       "      <td>1641957.44</td>\n",
       "      <td>0.00</td>\n",
       "      <td>0.000</td>\n",
       "    </tr>\n",
       "    <tr>\n",
       "      <th>2</th>\n",
       "      <td>3</td>\n",
       "      <td>1</td>\n",
       "      <td>19/02/2010</td>\n",
       "      <td>39.93</td>\n",
       "      <td>2.514</td>\n",
       "      <td>8.106</td>\n",
       "      <td>False</td>\n",
       "      <td>1611968.17</td>\n",
       "      <td>0.00</td>\n",
       "      <td>0.000</td>\n",
       "    </tr>\n",
       "    <tr>\n",
       "      <th>3</th>\n",
       "      <td>4</td>\n",
       "      <td>1</td>\n",
       "      <td>26/02/2010</td>\n",
       "      <td>46.63</td>\n",
       "      <td>2.561</td>\n",
       "      <td>8.106</td>\n",
       "      <td>False</td>\n",
       "      <td>1409727.59</td>\n",
       "      <td>0.00</td>\n",
       "      <td>0.000</td>\n",
       "    </tr>\n",
       "    <tr>\n",
       "      <th>4</th>\n",
       "      <td>5</td>\n",
       "      <td>1</td>\n",
       "      <td>05/03/2010</td>\n",
       "      <td>46.50</td>\n",
       "      <td>2.625</td>\n",
       "      <td>8.106</td>\n",
       "      <td>False</td>\n",
       "      <td>1554806.68</td>\n",
       "      <td>0.00</td>\n",
       "      <td>0.000</td>\n",
       "    </tr>\n",
       "    <tr>\n",
       "      <th>...</th>\n",
       "      <td>...</td>\n",
       "      <td>...</td>\n",
       "      <td>...</td>\n",
       "      <td>...</td>\n",
       "      <td>...</td>\n",
       "      <td>...</td>\n",
       "      <td>...</td>\n",
       "      <td>...</td>\n",
       "      <td>...</td>\n",
       "      <td>...</td>\n",
       "    </tr>\n",
       "    <tr>\n",
       "      <th>6250</th>\n",
       "      <td>6251</td>\n",
       "      <td>45</td>\n",
       "      <td>31/08/2012</td>\n",
       "      <td>75.09</td>\n",
       "      <td>3.867</td>\n",
       "      <td>8.684</td>\n",
       "      <td>False</td>\n",
       "      <td>734297.87</td>\n",
       "      <td>34720.67</td>\n",
       "      <td>6944.134</td>\n",
       "    </tr>\n",
       "    <tr>\n",
       "      <th>6251</th>\n",
       "      <td>6252</td>\n",
       "      <td>45</td>\n",
       "      <td>07/09/2012</td>\n",
       "      <td>75.70</td>\n",
       "      <td>3.911</td>\n",
       "      <td>8.684</td>\n",
       "      <td>True</td>\n",
       "      <td>766512.66</td>\n",
       "      <td>15000.35</td>\n",
       "      <td>3000.070</td>\n",
       "    </tr>\n",
       "    <tr>\n",
       "      <th>6252</th>\n",
       "      <td>6253</td>\n",
       "      <td>45</td>\n",
       "      <td>14/09/2012</td>\n",
       "      <td>67.87</td>\n",
       "      <td>3.948</td>\n",
       "      <td>8.684</td>\n",
       "      <td>False</td>\n",
       "      <td>702238.27</td>\n",
       "      <td>20102.89</td>\n",
       "      <td>4020.578</td>\n",
       "    </tr>\n",
       "    <tr>\n",
       "      <th>6253</th>\n",
       "      <td>6254</td>\n",
       "      <td>45</td>\n",
       "      <td>21/09/2012</td>\n",
       "      <td>65.32</td>\n",
       "      <td>4.038</td>\n",
       "      <td>8.684</td>\n",
       "      <td>False</td>\n",
       "      <td>723086.20</td>\n",
       "      <td>19654.50</td>\n",
       "      <td>3930.900</td>\n",
       "    </tr>\n",
       "    <tr>\n",
       "      <th>6254</th>\n",
       "      <td>6255</td>\n",
       "      <td>45</td>\n",
       "      <td>28/09/2012</td>\n",
       "      <td>64.88</td>\n",
       "      <td>3.997</td>\n",
       "      <td>8.684</td>\n",
       "      <td>False</td>\n",
       "      <td>713173.95</td>\n",
       "      <td>9468.01</td>\n",
       "      <td>1893.602</td>\n",
       "    </tr>\n",
       "  </tbody>\n",
       "</table>\n",
       "<p>6255 rows × 10 columns</p>\n",
       "</div>"
      ],
      "text/plain": [
       "        id  Store        Date  Temperature  Fuel_Price  Unemployment  \\\n",
       "0        1      1  05/02/2010        42.31       2.572         8.106   \n",
       "1        2      1  12/02/2010        38.51       2.548         8.106   \n",
       "2        3      1  19/02/2010        39.93       2.514         8.106   \n",
       "3        4      1  26/02/2010        46.63       2.561         8.106   \n",
       "4        5      1  05/03/2010        46.50       2.625         8.106   \n",
       "...    ...    ...         ...          ...         ...           ...   \n",
       "6250  6251     45  31/08/2012        75.09       3.867         8.684   \n",
       "6251  6252     45  07/09/2012        75.70       3.911         8.684   \n",
       "6252  6253     45  14/09/2012        67.87       3.948         8.684   \n",
       "6253  6254     45  21/09/2012        65.32       4.038         8.684   \n",
       "6254  6255     45  28/09/2012        64.88       3.997         8.684   \n",
       "\n",
       "      IsHoliday  Weekly_Sales  Promotion_sum  Promotion_mean  \n",
       "0         False    1643690.90           0.00           0.000  \n",
       "1          True    1641957.44           0.00           0.000  \n",
       "2         False    1611968.17           0.00           0.000  \n",
       "3         False    1409727.59           0.00           0.000  \n",
       "4         False    1554806.68           0.00           0.000  \n",
       "...         ...           ...            ...             ...  \n",
       "6250      False     734297.87       34720.67        6944.134  \n",
       "6251       True     766512.66       15000.35        3000.070  \n",
       "6252      False     702238.27       20102.89        4020.578  \n",
       "6253      False     723086.20       19654.50        3930.900  \n",
       "6254      False     713173.95        9468.01        1893.602  \n",
       "\n",
       "[6255 rows x 10 columns]"
      ]
     },
     "execution_count": 41,
     "metadata": {},
     "output_type": "execute_result"
    }
   ],
   "source": [
    "df1"
   ]
  },
  {
   "cell_type": "markdown",
   "id": "e1fe20d9",
   "metadata": {},
   "source": [
    "## 이상치 처리"
   ]
  },
  {
   "cell_type": "code",
   "execution_count": 44,
   "id": "c5d1f092",
   "metadata": {},
   "outputs": [
    {
     "data": {
      "image/png": "[encoded data removed]",
      "text/plain": [
       "<Figure size 432x288 with 1 Axes>"
      ]
     },
     "metadata": {
      "needs_background": "light"
     },
     "output_type": "display_data"
    }
   ],
   "source": [
    "plt.scatter(x='Promotion_mean', y='Weekly_Sales', data=df1)\n",
    "plt.xlabel('Promotion_mean', size=12)\n",
    "plt.ylabel('Weekly_Sales', size=12)\n",
    "plt.show()"
   ]
  },
  {
   "cell_type": "code",
   "execution_count": 45,
   "id": "3a1479ab",
   "metadata": {},
   "outputs": [
    {
     "data": {
      "text/html": [
       "<div>\n",
       "<style scoped>\n",
       "    .dataframe tbody tr th:only-of-type {\n",
       "        vertical-align: middle;\n",
       "    }\n",
       "\n",
       "    .dataframe tbody tr th {\n",
       "        vertical-align: top;\n",
       "    }\n",
       "\n",
       "    .dataframe thead th {\n",
       "        text-align: right;\n",
       "    }\n",
       "</style>\n",
       "<table border=\"1\" class=\"dataframe\">\n",
       "  <thead>\n",
       "    <tr style=\"text-align: right;\">\n",
       "      <th></th>\n",
       "      <th>id</th>\n",
       "      <th>Store</th>\n",
       "      <th>Date</th>\n",
       "      <th>Temperature</th>\n",
       "      <th>Fuel_Price</th>\n",
       "      <th>Unemployment</th>\n",
       "      <th>IsHoliday</th>\n",
       "      <th>Weekly_Sales</th>\n",
       "      <th>Promotion_sum</th>\n",
       "      <th>Promotion_mean</th>\n",
       "    </tr>\n",
       "  </thead>\n",
       "  <tbody>\n",
       "    <tr>\n",
       "      <th>0</th>\n",
       "      <td>1</td>\n",
       "      <td>1</td>\n",
       "      <td>05/02/2010</td>\n",
       "      <td>42.31</td>\n",
       "      <td>2.572</td>\n",
       "      <td>8.106</td>\n",
       "      <td>False</td>\n",
       "      <td>1643690.90</td>\n",
       "      <td>0.00</td>\n",
       "      <td>0.000</td>\n",
       "    </tr>\n",
       "    <tr>\n",
       "      <th>1</th>\n",
       "      <td>2</td>\n",
       "      <td>1</td>\n",
       "      <td>12/02/2010</td>\n",
       "      <td>38.51</td>\n",
       "      <td>2.548</td>\n",
       "      <td>8.106</td>\n",
       "      <td>True</td>\n",
       "      <td>1641957.44</td>\n",
       "      <td>0.00</td>\n",
       "      <td>0.000</td>\n",
       "    </tr>\n",
       "    <tr>\n",
       "      <th>2</th>\n",
       "      <td>3</td>\n",
       "      <td>1</td>\n",
       "      <td>19/02/2010</td>\n",
       "      <td>39.93</td>\n",
       "      <td>2.514</td>\n",
       "      <td>8.106</td>\n",
       "      <td>False</td>\n",
       "      <td>1611968.17</td>\n",
       "      <td>0.00</td>\n",
       "      <td>0.000</td>\n",
       "    </tr>\n",
       "    <tr>\n",
       "      <th>3</th>\n",
       "      <td>4</td>\n",
       "      <td>1</td>\n",
       "      <td>26/02/2010</td>\n",
       "      <td>46.63</td>\n",
       "      <td>2.561</td>\n",
       "      <td>8.106</td>\n",
       "      <td>False</td>\n",
       "      <td>1409727.59</td>\n",
       "      <td>0.00</td>\n",
       "      <td>0.000</td>\n",
       "    </tr>\n",
       "    <tr>\n",
       "      <th>4</th>\n",
       "      <td>5</td>\n",
       "      <td>1</td>\n",
       "      <td>05/03/2010</td>\n",
       "      <td>46.50</td>\n",
       "      <td>2.625</td>\n",
       "      <td>8.106</td>\n",
       "      <td>False</td>\n",
       "      <td>1554806.68</td>\n",
       "      <td>0.00</td>\n",
       "      <td>0.000</td>\n",
       "    </tr>\n",
       "    <tr>\n",
       "      <th>...</th>\n",
       "      <td>...</td>\n",
       "      <td>...</td>\n",
       "      <td>...</td>\n",
       "      <td>...</td>\n",
       "      <td>...</td>\n",
       "      <td>...</td>\n",
       "      <td>...</td>\n",
       "      <td>...</td>\n",
       "      <td>...</td>\n",
       "      <td>...</td>\n",
       "    </tr>\n",
       "    <tr>\n",
       "      <th>6250</th>\n",
       "      <td>6251</td>\n",
       "      <td>45</td>\n",
       "      <td>31/08/2012</td>\n",
       "      <td>75.09</td>\n",
       "      <td>3.867</td>\n",
       "      <td>8.684</td>\n",
       "      <td>False</td>\n",
       "      <td>734297.87</td>\n",
       "      <td>34720.67</td>\n",
       "      <td>6944.134</td>\n",
       "    </tr>\n",
       "    <tr>\n",
       "      <th>6251</th>\n",
       "      <td>6252</td>\n",
       "      <td>45</td>\n",
       "      <td>07/09/2012</td>\n",
       "      <td>75.70</td>\n",
       "      <td>3.911</td>\n",
       "      <td>8.684</td>\n",
       "      <td>True</td>\n",
       "      <td>766512.66</td>\n",
       "      <td>15000.35</td>\n",
       "      <td>3000.070</td>\n",
       "    </tr>\n",
       "    <tr>\n",
       "      <th>6252</th>\n",
       "      <td>6253</td>\n",
       "      <td>45</td>\n",
       "      <td>14/09/2012</td>\n",
       "      <td>67.87</td>\n",
       "      <td>3.948</td>\n",
       "      <td>8.684</td>\n",
       "      <td>False</td>\n",
       "      <td>702238.27</td>\n",
       "      <td>20102.89</td>\n",
       "      <td>4020.578</td>\n",
       "    </tr>\n",
       "    <tr>\n",
       "      <th>6253</th>\n",
       "      <td>6254</td>\n",
       "      <td>45</td>\n",
       "      <td>21/09/2012</td>\n",
       "      <td>65.32</td>\n",
       "      <td>4.038</td>\n",
       "      <td>8.684</td>\n",
       "      <td>False</td>\n",
       "      <td>723086.20</td>\n",
       "      <td>19654.50</td>\n",
       "      <td>3930.900</td>\n",
       "    </tr>\n",
       "    <tr>\n",
       "      <th>6254</th>\n",
       "      <td>6255</td>\n",
       "      <td>45</td>\n",
       "      <td>28/09/2012</td>\n",
       "      <td>64.88</td>\n",
       "      <td>3.997</td>\n",
       "      <td>8.684</td>\n",
       "      <td>False</td>\n",
       "      <td>713173.95</td>\n",
       "      <td>9468.01</td>\n",
       "      <td>1893.602</td>\n",
       "    </tr>\n",
       "  </tbody>\n",
       "</table>\n",
       "<p>6254 rows × 10 columns</p>\n",
       "</div>"
      ],
      "text/plain": [
       "        id  Store        Date  Temperature  Fuel_Price  Unemployment  \\\n",
       "0        1      1  05/02/2010        42.31       2.572         8.106   \n",
       "1        2      1  12/02/2010        38.51       2.548         8.106   \n",
       "2        3      1  19/02/2010        39.93       2.514         8.106   \n",
       "3        4      1  26/02/2010        46.63       2.561         8.106   \n",
       "4        5      1  05/03/2010        46.50       2.625         8.106   \n",
       "...    ...    ...         ...          ...         ...           ...   \n",
       "6250  6251     45  31/08/2012        75.09       3.867         8.684   \n",
       "6251  6252     45  07/09/2012        75.70       3.911         8.684   \n",
       "6252  6253     45  14/09/2012        67.87       3.948         8.684   \n",
       "6253  6254     45  21/09/2012        65.32       4.038         8.684   \n",
       "6254  6255     45  28/09/2012        64.88       3.997         8.684   \n",
       "\n",
       "      IsHoliday  Weekly_Sales  Promotion_sum  Promotion_mean  \n",
       "0         False    1643690.90           0.00           0.000  \n",
       "1          True    1641957.44           0.00           0.000  \n",
       "2         False    1611968.17           0.00           0.000  \n",
       "3         False    1409727.59           0.00           0.000  \n",
       "4         False    1554806.68           0.00           0.000  \n",
       "...         ...           ...            ...             ...  \n",
       "6250      False     734297.87       34720.67        6944.134  \n",
       "6251       True     766512.66       15000.35        3000.070  \n",
       "6252      False     702238.27       20102.89        4020.578  \n",
       "6253      False     723086.20       19654.50        3930.900  \n",
       "6254      False     713173.95        9468.01        1893.602  \n",
       "\n",
       "[6254 rows x 10 columns]"
      ]
     },
     "execution_count": 45,
     "metadata": {},
     "output_type": "execute_result"
    }
   ],
   "source": [
    "df1=df1[df1['Promotion_mean']<30000]\n",
    "df1"
   ]
  },
  {
   "cell_type": "code",
   "execution_count": 117,
   "id": "a38d0ca4",
   "metadata": {},
   "outputs": [],
   "source": [
    "## Promotion_mean과 Promotion_sum을 만든 후 모델을 돌리고 변수 중요도 plot을 그림\n",
    "## Promotion_mean이 Promotion_sum 보다 변수 중요도가 높아서 Promotion_mean 사용"
   ]
  },
  {
   "cell_type": "code",
   "execution_count": 46,
   "id": "d3bf3548",
   "metadata": {},
   "outputs": [],
   "source": [
    "df2=df1.copy()"
   ]
  },
  {
   "cell_type": "code",
   "execution_count": 48,
   "id": "ad09f467",
   "metadata": {},
   "outputs": [],
   "source": [
    "df2=df2.drop(['Promotion_sum'], axis=1)"
   ]
  },
  {
   "cell_type": "markdown",
   "id": "ff5a6f63",
   "metadata": {},
   "source": [
    "## 날짜 분리하기"
   ]
  },
  {
   "cell_type": "code",
   "execution_count": 75,
   "id": "f7964001",
   "metadata": {},
   "outputs": [],
   "source": [
    "def yy(df1):\n",
    "    return df1.split('/')[2]\n",
    "df1['year']=df1['Date'].apply(yy)"
   ]
  },
  {
   "cell_type": "code",
   "execution_count": 76,
   "id": "6a1be201",
   "metadata": {},
   "outputs": [],
   "source": [
    "def mm(df1):\n",
    "    return df1.split('/')[1]\n",
    "df1['month']=df1['Date'].apply(mm)"
   ]
  },
  {
   "cell_type": "code",
   "execution_count": 77,
   "id": "b887ab6c",
   "metadata": {},
   "outputs": [],
   "source": [
    "def dd(test):\n",
    "    return test.split('/')[0]\n",
    "test['day']=test['Date'].apply(dd)"
   ]
  },
  {
   "cell_type": "code",
   "execution_count": 78,
   "id": "ddae9571",
   "metadata": {},
   "outputs": [],
   "source": [
    "df1=df1.drop('Date', axis=1)"
   ]
  },
  {
   "cell_type": "code",
   "execution_count": 79,
   "id": "22db117e",
   "metadata": {},
   "outputs": [],
   "source": [
    "df1['year']=pd.to_numeric(df1['year'])\n",
    "df1['month']=pd.to_numeric(df1['month'])\n",
    "df1['day']=pd.to_numeric(df1['day'])"
   ]
  },
  {
   "cell_type": "markdown",
   "id": "423b0f81",
   "metadata": {},
   "source": [
    "## 랜덤포레스트"
   ]
  },
  {
   "cell_type": "code",
   "execution_count": 191,
   "id": "8c016370",
   "metadata": {},
   "outputs": [],
   "source": [
    "#df2 = pd.get_dummies(df2, columns = ['Store'])"
   ]
  },
  {
   "cell_type": "code",
   "execution_count": 80,
   "id": "eb566409",
   "metadata": {},
   "outputs": [],
   "source": [
    "from sklearn.model_selection import train_test_split\n",
    "from sklearn.ensemble import RandomForestRegressor\n",
    "from sklearn import metrics"
   ]
  },
  {
   "cell_type": "code",
   "execution_count": 81,
   "id": "7e772226",
   "metadata": {},
   "outputs": [],
   "source": [
    "df1=df1.drop(['id'],axis=1)"
   ]
  },
  {
   "cell_type": "code",
   "execution_count": 82,
   "id": "79b4b259",
   "metadata": {},
   "outputs": [],
   "source": [
    "x=df1.drop(['Weekly_Sales'], axis=1)\n",
    "y=df1['Weekly_Sales']\n",
    "x_train, x_test, y_train, y_test=train_test_split(x, y, test_size=0.3)"
   ]
  },
  {
   "cell_type": "code",
   "execution_count": 83,
   "id": "a96f7832",
   "metadata": {},
   "outputs": [
    {
     "data": {
      "text/plain": [
       "((4378, 10), (1877, 10))"
      ]
     },
     "execution_count": 83,
     "metadata": {},
     "output_type": "execute_result"
    }
   ],
   "source": [
    "x_train.shape, x_test.shape"
   ]
  },
  {
   "cell_type": "code",
   "execution_count": 85,
   "id": "c9099d0b",
   "metadata": {},
   "outputs": [],
   "source": [
    "from sklearn.preprocessing import RobustScaler\n",
    "\n",
    "scaler=RobustScaler()\n",
    "x_train=scaler.fit_transform(x_train)\n",
    "x_test=scaler.transform(x_test)"
   ]
  },
  {
   "cell_type": "code",
   "execution_count": 86,
   "id": "046e0018",
   "metadata": {},
   "outputs": [],
   "source": [
    "from sklearn.model_selection import GridSearchCV\n",
    "param_grid = [\n",
    "    {'n_estimators': [3,10,30], 'max_features': [2,4,6,8]},\n",
    "    {'bootstrap':[False], 'n_estimators':[3,10], 'max_features':[2,3,4]},\n",
    "]"
   ]
  },
  {
   "cell_type": "code",
   "execution_count": 87,
   "id": "a8ea98cc",
   "metadata": {},
   "outputs": [],
   "source": [
    "forest=RandomForestRegressor()"
   ]
  },
  {
   "cell_type": "markdown",
   "id": "c53f7068",
   "metadata": {},
   "source": [
    "- GridSearch 적용"
   ]
  },
  {
   "cell_type": "code",
   "execution_count": 88,
   "id": "f6c4af14",
   "metadata": {},
   "outputs": [],
   "source": [
    "from sklearn.model_selection import KFold\n",
    "\n",
    "kf = KFold(random_state=30,\n",
    "           n_splits=10,\n",
    "           shuffle=True,\n",
    "          )"
   ]
  },
  {
   "cell_type": "code",
   "execution_count": 89,
   "id": "efb1e851",
   "metadata": {},
   "outputs": [
    {
     "data": {
      "text/plain": [
       "GridSearchCV(cv=5, estimator=RandomForestRegressor(),\n",
       "             param_grid=[{'max_features': [2, 4, 6, 8],\n",
       "                          'n_estimators': [3, 10, 30]},\n",
       "                         {'bootstrap': [False], 'max_features': [2, 3, 4],\n",
       "                          'n_estimators': [3, 10]}],\n",
       "             return_train_score=True, scoring='neg_mean_absolute_error')"
      ]
     },
     "execution_count": 89,
     "metadata": {},
     "output_type": "execute_result"
    }
   ],
   "source": [
    "grid_search = GridSearchCV(forest, param_grid, cv = 5,\n",
    "                          scoring='neg_mean_absolute_error',\n",
    "                          return_train_score = True)\n",
    "grid_search.fit(x_train,y_train)"
   ]
  },
  {
   "cell_type": "code",
   "execution_count": 90,
   "id": "83c9d601",
   "metadata": {},
   "outputs": [
    {
     "data": {
      "text/plain": [
       "{'max_features': 8, 'n_estimators': 30}"
      ]
     },
     "execution_count": 90,
     "metadata": {},
     "output_type": "execute_result"
    }
   ],
   "source": [
    "grid_search.best_params_"
   ]
  },
  {
   "cell_type": "code",
   "execution_count": 92,
   "id": "dafe7977",
   "metadata": {},
   "outputs": [
    {
     "data": {
      "text/plain": [
       "array([ 524329.03666667,  869670.63766667, 1562153.149     , ...,\n",
       "        542242.896     , 1667449.35833333, 1525944.01366667])"
      ]
     },
     "execution_count": 92,
     "metadata": {},
     "output_type": "execute_result"
    }
   ],
   "source": [
    "model=grid_search.best_estimator_  \n",
    "model.predict(x_test)"
   ]
  },
  {
   "cell_type": "code",
   "execution_count": 118,
   "id": "ec917631",
   "metadata": {},
   "outputs": [],
   "source": [
    "#from sklearn.metrics import mean_squared_error\n",
    "#tree_mse=mean_squared_error(y_test, model)\n",
    "#tree_rmse=np.sqrt(tree_mse)\n",
    "#print(f'rmse:{tree_rmse}')"
   ]
  },
  {
   "cell_type": "code",
   "execution_count": 95,
   "id": "9fd519d9",
   "metadata": {},
   "outputs": [],
   "source": [
    "importances = model.feature_importances_"
   ]
  },
  {
   "cell_type": "code",
   "execution_count": 96,
   "id": "a1676d2f",
   "metadata": {},
   "outputs": [],
   "source": [
    "X_train = pd.DataFrame(x_train, columns = x.columns)"
   ]
  },
  {
   "cell_type": "code",
   "execution_count": 97,
   "id": "e28f6b2f",
   "metadata": {},
   "outputs": [
    {
     "data": {
      "image/png": "[encoded data removed]",
      "text/plain": [
       "<Figure size 576x432 with 1 Axes>"
      ]
     },
     "metadata": {
      "needs_background": "light"
     },
     "output_type": "display_data"
    }
   ],
   "source": [
    "import matplotlib.pyplot as plt # 득점모델 변수 중요도\n",
    "import seaborn as sns\n",
    "%matplotlib inline\n",
    " \n",
    "ftr_importances_values = grid_search.best_estimator_.feature_importances_\n",
    "ftr_importances = pd.Series(ftr_importances_values, index=X_train.columns)\n",
    "ftr_top = ftr_importances.sort_values(ascending=False)[:20]\n",
    " \n",
    "plt.figure(figsize=(8, 6))\n",
    "sns.barplot(x=ftr_top, y=ftr_top.index)\n",
    "plt.show()"
   ]
  },
  {
   "cell_type": "code",
   "execution_count": 40,
   "id": "5239e770",
   "metadata": {},
   "outputs": [
    {
     "data": {
      "image/png": "[encoded data removed]",
      "text/plain": [
       "<Figure size 576x432 with 1 Axes>"
      ]
     },
     "metadata": {
      "needs_background": "light"
     },
     "output_type": "display_data"
    }
   ],
   "source": [
    "#import matplotlib.pyplot as plt # 득점모델 변수 중요도\n",
    "#import seaborn as sns\n",
    "#%matplotlib inline\n",
    " \n",
    "#ftr_importances_values = forest.feature_importances_\n",
    "#ftr_importances = pd.Series(ftr_importances_values, index=X_train.columns)\n",
    "#ftr_top = ftr_importances.sort_values(ascending=False)[:20]\n",
    " \n",
    "#plt.figure(figsize=(8, 6))\n",
    "#sns.barplot(x=ftr_top, y=ftr_top.index)\n",
    "#plt.show()"
   ]
  },
  {
   "cell_type": "markdown",
   "id": "d18a1a77",
   "metadata": {},
   "source": [
    "## 랜덤포레스트 Promotion_mean"
   ]
  },
  {
   "cell_type": "code",
   "execution_count": 119,
   "id": "518c4d94",
   "metadata": {},
   "outputs": [],
   "source": [
    "df2=df2.drop(['id'],axis=1)"
   ]
  },
  {
   "cell_type": "code",
   "execution_count": 120,
   "id": "bcf44d8c",
   "metadata": {},
   "outputs": [],
   "source": [
    "df2=df2.drop(['IsHoliday'], axis=1)"
   ]
  },
  {
   "cell_type": "code",
   "execution_count": 123,
   "id": "fc3c4ab2",
   "metadata": {},
   "outputs": [],
   "source": [
    "def yy(df2):\n",
    "    return df2.split('/')[2]\n",
    "df2['year']=df2['Date'].apply(yy)"
   ]
  },
  {
   "cell_type": "code",
   "execution_count": 124,
   "id": "2d0ce9bb",
   "metadata": {},
   "outputs": [],
   "source": [
    "def mm(df2):\n",
    "    return df2.split('/')[1]\n",
    "df2['month']=df2['Date'].apply(mm)"
   ]
  },
  {
   "cell_type": "code",
   "execution_count": 125,
   "id": "9f442c51",
   "metadata": {},
   "outputs": [],
   "source": [
    "def dd(df2):\n",
    "    return df2.split('/')[0]\n",
    "df2['day']=df2['Date'].apply(dd)"
   ]
  },
  {
   "cell_type": "code",
   "execution_count": 126,
   "id": "affdb887",
   "metadata": {},
   "outputs": [],
   "source": [
    "df2=df2.drop(['Date'], axis=1)"
   ]
  },
  {
   "cell_type": "code",
   "execution_count": 132,
   "id": "f3729571",
   "metadata": {},
   "outputs": [
    {
     "name": "stdout",
     "output_type": "stream",
     "text": [
      "최적의 파라미터 : {'max_depth': 6, 'min_samples_split': 4}\n",
      "최적의 파라미터로 모델의 정확도 : 0.73200626239484\n"
     ]
    }
   ],
   "source": [
    "from sklearn.ensemble import RandomForestRegressor\n",
    "from sklearn.model_selection import GridSearchCV, train_test_split\n",
    "from sklearn.metrics import accuracy_score\n",
    "import pandas as pd\n",
    "\n",
    "x=df2.drop(['Weekly_Sales'], axis=1)\n",
    "y=df2['Weekly_Sales']\n",
    "x_train,x_test,y_train,y_test = train_test_split(x, y,test_size = 0.3)\n",
    "model = RandomForestRegressor()\n",
    "params = {'max_depth':[3, 4, 5, 6], 'min_samples_split':[2, 3, 4]}\n",
    "\n",
    "grid_forest = GridSearchCV(model, param_grid = params,\n",
    "                          cv = 5, refit = True, return_train_score = True)\n",
    "grid_forest.fit(x_train, y_train)\n",
    "\n",
    "# 결과표 출력\n",
    "scores_df = pd.DataFrame(grid_forest.cv_results_)\n",
    "scores_df[['params', 'mean_test_score', 'rank_test_score', \n",
    "           'split0_test_score', 'split1_test_score', 'split2_test_score']]\n",
    "\n",
    "# best_params_ 할당\n",
    "print(f\"최적의 파라미터 : {grid_forest.best_params_}\")\n",
    "print(f\"최적의 파라미터로 모델의 정확도 : {grid_forest.best_score_}\")\n",
    "\n",
    "# 최적의 best_params\n",
    "estimator = grid_forest.best_estimator_\n",
    "y_pred = estimator.predict(x_test)"
   ]
  },
  {
   "cell_type": "markdown",
   "id": "d259bb28",
   "metadata": {},
   "source": [
    "## Test set"
   ]
  },
  {
   "cell_type": "code",
   "execution_count": 133,
   "id": "b5cd4df8",
   "metadata": {},
   "outputs": [],
   "source": [
    "test=pd.read_csv('test.csv')"
   ]
  },
  {
   "cell_type": "code",
   "execution_count": 134,
   "id": "951316a5",
   "metadata": {},
   "outputs": [
    {
     "data": {
      "text/html": [
       "<div>\n",
       "<style scoped>\n",
       "    .dataframe tbody tr th:only-of-type {\n",
       "        vertical-align: middle;\n",
       "    }\n",
       "\n",
       "    .dataframe tbody tr th {\n",
       "        vertical-align: top;\n",
       "    }\n",
       "\n",
       "    .dataframe thead th {\n",
       "        text-align: right;\n",
       "    }\n",
       "</style>\n",
       "<table border=\"1\" class=\"dataframe\">\n",
       "  <thead>\n",
       "    <tr style=\"text-align: right;\">\n",
       "      <th></th>\n",
       "      <th>id</th>\n",
       "      <th>Store</th>\n",
       "      <th>Date</th>\n",
       "      <th>Temperature</th>\n",
       "      <th>Fuel_Price</th>\n",
       "      <th>Promotion1</th>\n",
       "      <th>Promotion2</th>\n",
       "      <th>Promotion3</th>\n",
       "      <th>Promotion4</th>\n",
       "      <th>Promotion5</th>\n",
       "      <th>Unemployment</th>\n",
       "      <th>IsHoliday</th>\n",
       "    </tr>\n",
       "  </thead>\n",
       "  <tbody>\n",
       "    <tr>\n",
       "      <th>0</th>\n",
       "      <td>1</td>\n",
       "      <td>1</td>\n",
       "      <td>05/10/2012</td>\n",
       "      <td>68.55</td>\n",
       "      <td>3.617</td>\n",
       "      <td>8077.89</td>\n",
       "      <td>NaN</td>\n",
       "      <td>18.22</td>\n",
       "      <td>3617.43</td>\n",
       "      <td>3626.14</td>\n",
       "      <td>6.573</td>\n",
       "      <td>False</td>\n",
       "    </tr>\n",
       "    <tr>\n",
       "      <th>1</th>\n",
       "      <td>2</td>\n",
       "      <td>1</td>\n",
       "      <td>12/10/2012</td>\n",
       "      <td>62.99</td>\n",
       "      <td>3.601</td>\n",
       "      <td>2086.18</td>\n",
       "      <td>NaN</td>\n",
       "      <td>8.11</td>\n",
       "      <td>602.36</td>\n",
       "      <td>5926.45</td>\n",
       "      <td>6.573</td>\n",
       "      <td>False</td>\n",
       "    </tr>\n",
       "    <tr>\n",
       "      <th>2</th>\n",
       "      <td>3</td>\n",
       "      <td>1</td>\n",
       "      <td>19/10/2012</td>\n",
       "      <td>67.97</td>\n",
       "      <td>3.594</td>\n",
       "      <td>950.33</td>\n",
       "      <td>NaN</td>\n",
       "      <td>4.93</td>\n",
       "      <td>80.25</td>\n",
       "      <td>2312.85</td>\n",
       "      <td>6.573</td>\n",
       "      <td>False</td>\n",
       "    </tr>\n",
       "    <tr>\n",
       "      <th>3</th>\n",
       "      <td>4</td>\n",
       "      <td>1</td>\n",
       "      <td>26/10/2012</td>\n",
       "      <td>69.16</td>\n",
       "      <td>3.506</td>\n",
       "      <td>2585.85</td>\n",
       "      <td>31.75</td>\n",
       "      <td>6.00</td>\n",
       "      <td>1057.16</td>\n",
       "      <td>1305.01</td>\n",
       "      <td>6.573</td>\n",
       "      <td>False</td>\n",
       "    </tr>\n",
       "    <tr>\n",
       "      <th>4</th>\n",
       "      <td>5</td>\n",
       "      <td>2</td>\n",
       "      <td>05/10/2012</td>\n",
       "      <td>70.27</td>\n",
       "      <td>3.617</td>\n",
       "      <td>6037.76</td>\n",
       "      <td>NaN</td>\n",
       "      <td>10.04</td>\n",
       "      <td>3027.37</td>\n",
       "      <td>3853.40</td>\n",
       "      <td>6.170</td>\n",
       "      <td>False</td>\n",
       "    </tr>\n",
       "    <tr>\n",
       "      <th>...</th>\n",
       "      <td>...</td>\n",
       "      <td>...</td>\n",
       "      <td>...</td>\n",
       "      <td>...</td>\n",
       "      <td>...</td>\n",
       "      <td>...</td>\n",
       "      <td>...</td>\n",
       "      <td>...</td>\n",
       "      <td>...</td>\n",
       "      <td>...</td>\n",
       "      <td>...</td>\n",
       "      <td>...</td>\n",
       "    </tr>\n",
       "    <tr>\n",
       "      <th>175</th>\n",
       "      <td>176</td>\n",
       "      <td>44</td>\n",
       "      <td>26/10/2012</td>\n",
       "      <td>46.97</td>\n",
       "      <td>3.755</td>\n",
       "      <td>38.65</td>\n",
       "      <td>2.61</td>\n",
       "      <td>0.98</td>\n",
       "      <td>NaN</td>\n",
       "      <td>457.74</td>\n",
       "      <td>5.217</td>\n",
       "      <td>False</td>\n",
       "    </tr>\n",
       "    <tr>\n",
       "      <th>176</th>\n",
       "      <td>177</td>\n",
       "      <td>45</td>\n",
       "      <td>05/10/2012</td>\n",
       "      <td>64.89</td>\n",
       "      <td>3.985</td>\n",
       "      <td>5046.74</td>\n",
       "      <td>NaN</td>\n",
       "      <td>18.82</td>\n",
       "      <td>2253.43</td>\n",
       "      <td>2340.01</td>\n",
       "      <td>8.667</td>\n",
       "      <td>False</td>\n",
       "    </tr>\n",
       "    <tr>\n",
       "      <th>177</th>\n",
       "      <td>178</td>\n",
       "      <td>45</td>\n",
       "      <td>12/10/2012</td>\n",
       "      <td>54.47</td>\n",
       "      <td>4.000</td>\n",
       "      <td>1956.28</td>\n",
       "      <td>NaN</td>\n",
       "      <td>7.89</td>\n",
       "      <td>599.32</td>\n",
       "      <td>3990.54</td>\n",
       "      <td>8.667</td>\n",
       "      <td>False</td>\n",
       "    </tr>\n",
       "    <tr>\n",
       "      <th>178</th>\n",
       "      <td>179</td>\n",
       "      <td>45</td>\n",
       "      <td>19/10/2012</td>\n",
       "      <td>56.47</td>\n",
       "      <td>3.969</td>\n",
       "      <td>2004.02</td>\n",
       "      <td>NaN</td>\n",
       "      <td>3.18</td>\n",
       "      <td>437.73</td>\n",
       "      <td>1537.49</td>\n",
       "      <td>8.667</td>\n",
       "      <td>False</td>\n",
       "    </tr>\n",
       "    <tr>\n",
       "      <th>179</th>\n",
       "      <td>180</td>\n",
       "      <td>45</td>\n",
       "      <td>26/10/2012</td>\n",
       "      <td>58.85</td>\n",
       "      <td>3.882</td>\n",
       "      <td>4018.91</td>\n",
       "      <td>58.08</td>\n",
       "      <td>100.00</td>\n",
       "      <td>211.94</td>\n",
       "      <td>858.33</td>\n",
       "      <td>8.667</td>\n",
       "      <td>False</td>\n",
       "    </tr>\n",
       "  </tbody>\n",
       "</table>\n",
       "<p>180 rows × 12 columns</p>\n",
       "</div>"
      ],
      "text/plain": [
       "      id  Store        Date  Temperature  Fuel_Price  Promotion1  Promotion2  \\\n",
       "0      1      1  05/10/2012        68.55       3.617     8077.89         NaN   \n",
       "1      2      1  12/10/2012        62.99       3.601     2086.18         NaN   \n",
       "2      3      1  19/10/2012        67.97       3.594      950.33         NaN   \n",
       "3      4      1  26/10/2012        69.16       3.506     2585.85       31.75   \n",
       "4      5      2  05/10/2012        70.27       3.617     6037.76         NaN   \n",
       "..   ...    ...         ...          ...         ...         ...         ...   \n",
       "175  176     44  26/10/2012        46.97       3.755       38.65        2.61   \n",
       "176  177     45  05/10/2012        64.89       3.985     5046.74         NaN   \n",
       "177  178     45  12/10/2012        54.47       4.000     1956.28         NaN   \n",
       "178  179     45  19/10/2012        56.47       3.969     2004.02         NaN   \n",
       "179  180     45  26/10/2012        58.85       3.882     4018.91       58.08   \n",
       "\n",
       "     Promotion3  Promotion4  Promotion5  Unemployment  IsHoliday  \n",
       "0         18.22     3617.43     3626.14         6.573      False  \n",
       "1          8.11      602.36     5926.45         6.573      False  \n",
       "2          4.93       80.25     2312.85         6.573      False  \n",
       "3          6.00     1057.16     1305.01         6.573      False  \n",
       "4         10.04     3027.37     3853.40         6.170      False  \n",
       "..          ...         ...         ...           ...        ...  \n",
       "175        0.98         NaN      457.74         5.217      False  \n",
       "176       18.82     2253.43     2340.01         8.667      False  \n",
       "177        7.89      599.32     3990.54         8.667      False  \n",
       "178        3.18      437.73     1537.49         8.667      False  \n",
       "179      100.00      211.94      858.33         8.667      False  \n",
       "\n",
       "[180 rows x 12 columns]"
      ]
     },
     "execution_count": 134,
     "metadata": {},
     "output_type": "execute_result"
    }
   ],
   "source": [
    "test"
   ]
  },
  {
   "cell_type": "code",
   "execution_count": 135,
   "id": "04b36089",
   "metadata": {},
   "outputs": [],
   "source": [
    "def yy(test):\n",
    "    return test.split('/')[2]\n",
    "test['year']=test['Date'].apply(yy)"
   ]
  },
  {
   "cell_type": "code",
   "execution_count": 136,
   "id": "b6acc730",
   "metadata": {},
   "outputs": [],
   "source": [
    "def mm(test):\n",
    "    return test.split('/')[1]\n",
    "test['month']=test['Date'].apply(mm)"
   ]
  },
  {
   "cell_type": "code",
   "execution_count": 137,
   "id": "ba20b03c",
   "metadata": {},
   "outputs": [],
   "source": [
    "def dd(test):\n",
    "    return test.split('/')[0]\n",
    "test['day']=test['Date'].apply(dd)"
   ]
  },
  {
   "cell_type": "code",
   "execution_count": 138,
   "id": "4fc8f121",
   "metadata": {},
   "outputs": [],
   "source": [
    "test['year']=pd.to_numeric(test['year'])\n",
    "test['month']=pd.to_numeric(test['month'])\n",
    "test['day']=pd.to_numeric(test['day'])"
   ]
  },
  {
   "cell_type": "code",
   "execution_count": 139,
   "id": "723e0035",
   "metadata": {},
   "outputs": [],
   "source": [
    "test['Promotion1']=test['Promotion1'].fillna(0)\n",
    "test['Promotion2']=test['Promotion2'].fillna(0)\n",
    "test['Promotion3']=test['Promotion3'].fillna(0)\n",
    "test['Promotion4']=test['Promotion4'].fillna(0)\n",
    "test['Promotion5']=test['Promotion5'].fillna(0)"
   ]
  },
  {
   "cell_type": "code",
   "execution_count": 140,
   "id": "73e06d09",
   "metadata": {},
   "outputs": [],
   "source": [
    "test['Promotion_mean']=(test['Promotion1']+test['Promotion2']+test['Promotion3']+test['Promotion4']+test['Promotion5'])"
   ]
  },
  {
   "cell_type": "code",
   "execution_count": 141,
   "id": "832dacbe",
   "metadata": {},
   "outputs": [],
   "source": [
    "test=test.drop(['Promotion1','Promotion2','Promotion3','Promotion4','Promotion4','Promotion5'], axis=1)"
   ]
  },
  {
   "cell_type": "code",
   "execution_count": 142,
   "id": "771d7f9a",
   "metadata": {},
   "outputs": [],
   "source": [
    "test=test.drop(['id','IsHoliday'], axis=1)"
   ]
  },
  {
   "cell_type": "code",
   "execution_count": 146,
   "id": "71e7c1b9",
   "metadata": {},
   "outputs": [],
   "source": [
    "test=test.drop(['Date'], axis=1)"
   ]
  },
  {
   "cell_type": "code",
   "execution_count": 147,
   "id": "63a6f4d3",
   "metadata": {},
   "outputs": [
    {
     "data": {
      "text/html": [
       "<div>\n",
       "<style scoped>\n",
       "    .dataframe tbody tr th:only-of-type {\n",
       "        vertical-align: middle;\n",
       "    }\n",
       "\n",
       "    .dataframe tbody tr th {\n",
       "        vertical-align: top;\n",
       "    }\n",
       "\n",
       "    .dataframe thead th {\n",
       "        text-align: right;\n",
       "    }\n",
       "</style>\n",
       "<table border=\"1\" class=\"dataframe\">\n",
       "  <thead>\n",
       "    <tr style=\"text-align: right;\">\n",
       "      <th></th>\n",
       "      <th>Store</th>\n",
       "      <th>Temperature</th>\n",
       "      <th>Fuel_Price</th>\n",
       "      <th>Unemployment</th>\n",
       "      <th>year</th>\n",
       "      <th>month</th>\n",
       "      <th>day</th>\n",
       "      <th>Promotion_mean</th>\n",
       "    </tr>\n",
       "  </thead>\n",
       "  <tbody>\n",
       "    <tr>\n",
       "      <th>0</th>\n",
       "      <td>1</td>\n",
       "      <td>68.55</td>\n",
       "      <td>3.617</td>\n",
       "      <td>6.573</td>\n",
       "      <td>2012</td>\n",
       "      <td>10</td>\n",
       "      <td>5</td>\n",
       "      <td>15339.68</td>\n",
       "    </tr>\n",
       "    <tr>\n",
       "      <th>1</th>\n",
       "      <td>1</td>\n",
       "      <td>62.99</td>\n",
       "      <td>3.601</td>\n",
       "      <td>6.573</td>\n",
       "      <td>2012</td>\n",
       "      <td>10</td>\n",
       "      <td>12</td>\n",
       "      <td>8623.10</td>\n",
       "    </tr>\n",
       "    <tr>\n",
       "      <th>2</th>\n",
       "      <td>1</td>\n",
       "      <td>67.97</td>\n",
       "      <td>3.594</td>\n",
       "      <td>6.573</td>\n",
       "      <td>2012</td>\n",
       "      <td>10</td>\n",
       "      <td>19</td>\n",
       "      <td>3348.36</td>\n",
       "    </tr>\n",
       "    <tr>\n",
       "      <th>3</th>\n",
       "      <td>1</td>\n",
       "      <td>69.16</td>\n",
       "      <td>3.506</td>\n",
       "      <td>6.573</td>\n",
       "      <td>2012</td>\n",
       "      <td>10</td>\n",
       "      <td>26</td>\n",
       "      <td>4985.77</td>\n",
       "    </tr>\n",
       "    <tr>\n",
       "      <th>4</th>\n",
       "      <td>2</td>\n",
       "      <td>70.27</td>\n",
       "      <td>3.617</td>\n",
       "      <td>6.170</td>\n",
       "      <td>2012</td>\n",
       "      <td>10</td>\n",
       "      <td>5</td>\n",
       "      <td>12928.57</td>\n",
       "    </tr>\n",
       "    <tr>\n",
       "      <th>...</th>\n",
       "      <td>...</td>\n",
       "      <td>...</td>\n",
       "      <td>...</td>\n",
       "      <td>...</td>\n",
       "      <td>...</td>\n",
       "      <td>...</td>\n",
       "      <td>...</td>\n",
       "      <td>...</td>\n",
       "    </tr>\n",
       "    <tr>\n",
       "      <th>175</th>\n",
       "      <td>44</td>\n",
       "      <td>46.97</td>\n",
       "      <td>3.755</td>\n",
       "      <td>5.217</td>\n",
       "      <td>2012</td>\n",
       "      <td>10</td>\n",
       "      <td>26</td>\n",
       "      <td>499.98</td>\n",
       "    </tr>\n",
       "    <tr>\n",
       "      <th>176</th>\n",
       "      <td>45</td>\n",
       "      <td>64.89</td>\n",
       "      <td>3.985</td>\n",
       "      <td>8.667</td>\n",
       "      <td>2012</td>\n",
       "      <td>10</td>\n",
       "      <td>5</td>\n",
       "      <td>9659.00</td>\n",
       "    </tr>\n",
       "    <tr>\n",
       "      <th>177</th>\n",
       "      <td>45</td>\n",
       "      <td>54.47</td>\n",
       "      <td>4.000</td>\n",
       "      <td>8.667</td>\n",
       "      <td>2012</td>\n",
       "      <td>10</td>\n",
       "      <td>12</td>\n",
       "      <td>6554.03</td>\n",
       "    </tr>\n",
       "    <tr>\n",
       "      <th>178</th>\n",
       "      <td>45</td>\n",
       "      <td>56.47</td>\n",
       "      <td>3.969</td>\n",
       "      <td>8.667</td>\n",
       "      <td>2012</td>\n",
       "      <td>10</td>\n",
       "      <td>19</td>\n",
       "      <td>3982.42</td>\n",
       "    </tr>\n",
       "    <tr>\n",
       "      <th>179</th>\n",
       "      <td>45</td>\n",
       "      <td>58.85</td>\n",
       "      <td>3.882</td>\n",
       "      <td>8.667</td>\n",
       "      <td>2012</td>\n",
       "      <td>10</td>\n",
       "      <td>26</td>\n",
       "      <td>5247.26</td>\n",
       "    </tr>\n",
       "  </tbody>\n",
       "</table>\n",
       "<p>180 rows × 8 columns</p>\n",
       "</div>"
      ],
      "text/plain": [
       "     Store  Temperature  Fuel_Price  Unemployment  year  month  day  \\\n",
       "0        1        68.55       3.617         6.573  2012     10    5   \n",
       "1        1        62.99       3.601         6.573  2012     10   12   \n",
       "2        1        67.97       3.594         6.573  2012     10   19   \n",
       "3        1        69.16       3.506         6.573  2012     10   26   \n",
       "4        2        70.27       3.617         6.170  2012     10    5   \n",
       "..     ...          ...         ...           ...   ...    ...  ...   \n",
       "175     44        46.97       3.755         5.217  2012     10   26   \n",
       "176     45        64.89       3.985         8.667  2012     10    5   \n",
       "177     45        54.47       4.000         8.667  2012     10   12   \n",
       "178     45        56.47       3.969         8.667  2012     10   19   \n",
       "179     45        58.85       3.882         8.667  2012     10   26   \n",
       "\n",
       "     Promotion_mean  \n",
       "0          15339.68  \n",
       "1           8623.10  \n",
       "2           3348.36  \n",
       "3           4985.77  \n",
       "4          12928.57  \n",
       "..              ...  \n",
       "175          499.98  \n",
       "176         9659.00  \n",
       "177         6554.03  \n",
       "178         3982.42  \n",
       "179         5247.26  \n",
       "\n",
       "[180 rows x 8 columns]"
      ]
     },
     "execution_count": 147,
     "metadata": {},
     "output_type": "execute_result"
    }
   ],
   "source": [
    "test"
   ]
  },
  {
   "cell_type": "code",
   "execution_count": 148,
   "id": "b9683986",
   "metadata": {},
   "outputs": [
    {
     "name": "stdout",
     "output_type": "stream",
     "text": [
      "<class 'pandas.core.frame.DataFrame'>\n",
      "RangeIndex: 180 entries, 0 to 179\n",
      "Data columns (total 8 columns):\n",
      " #   Column          Non-Null Count  Dtype  \n",
      "---  ------          --------------  -----  \n",
      " 0   Store           180 non-null    int64  \n",
      " 1   Temperature     180 non-null    float64\n",
      " 2   Fuel_Price      180 non-null    float64\n",
      " 3   Unemployment    180 non-null    float64\n",
      " 4   year            180 non-null    int64  \n",
      " 5   month           180 non-null    int64  \n",
      " 6   day             180 non-null    int64  \n",
      " 7   Promotion_mean  180 non-null    float64\n",
      "dtypes: float64(4), int64(4)\n",
      "memory usage: 11.4 KB\n"
     ]
    }
   ],
   "source": [
    "test.info()"
   ]
  },
  {
   "cell_type": "code",
   "execution_count": 149,
   "id": "e963859c",
   "metadata": {},
   "outputs": [
    {
     "name": "stdout",
     "output_type": "stream",
     "text": [
      "----------------------예측된 데이터의 상위 10개의 값 확인--------------------\n",
      "\n",
      "[1212380.1533185  1437905.34738475 1437905.34738475 1437093.98470475\n",
      " 1352318.17721436 1588975.61968625 1588975.61968625 1588164.25700625\n",
      "  908050.82288131  970461.70654602]\n"
     ]
    }
   ],
   "source": [
    "prediction=estimator.predict(test)\n",
    "print('----------------------예측된 데이터의 상위 10개의 값 확인--------------------\\n')\n",
    "print(prediction[:10])"
   ]
  },
  {
   "cell_type": "code",
   "execution_count": 150,
   "id": "15886044",
   "metadata": {},
   "outputs": [],
   "source": [
    "sample_submission=pd.read_csv('sample_submission.csv')"
   ]
  },
  {
   "cell_type": "code",
   "execution_count": 151,
   "id": "ebdfe5e9",
   "metadata": {},
   "outputs": [
    {
     "data": {
      "text/html": [
       "<div>\n",
       "<style scoped>\n",
       "    .dataframe tbody tr th:only-of-type {\n",
       "        vertical-align: middle;\n",
       "    }\n",
       "\n",
       "    .dataframe tbody tr th {\n",
       "        vertical-align: top;\n",
       "    }\n",
       "\n",
       "    .dataframe thead th {\n",
       "        text-align: right;\n",
       "    }\n",
       "</style>\n",
       "<table border=\"1\" class=\"dataframe\">\n",
       "  <thead>\n",
       "    <tr style=\"text-align: right;\">\n",
       "      <th></th>\n",
       "      <th>id</th>\n",
       "      <th>Weekly_Sales</th>\n",
       "    </tr>\n",
       "  </thead>\n",
       "  <tbody>\n",
       "    <tr>\n",
       "      <th>0</th>\n",
       "      <td>1</td>\n",
       "      <td>1.212380e+06</td>\n",
       "    </tr>\n",
       "    <tr>\n",
       "      <th>1</th>\n",
       "      <td>2</td>\n",
       "      <td>1.437905e+06</td>\n",
       "    </tr>\n",
       "    <tr>\n",
       "      <th>2</th>\n",
       "      <td>3</td>\n",
       "      <td>1.437905e+06</td>\n",
       "    </tr>\n",
       "    <tr>\n",
       "      <th>3</th>\n",
       "      <td>4</td>\n",
       "      <td>1.437094e+06</td>\n",
       "    </tr>\n",
       "    <tr>\n",
       "      <th>4</th>\n",
       "      <td>5</td>\n",
       "      <td>1.352318e+06</td>\n",
       "    </tr>\n",
       "  </tbody>\n",
       "</table>\n",
       "</div>"
      ],
      "text/plain": [
       "   id  Weekly_Sales\n",
       "0   1  1.212380e+06\n",
       "1   2  1.437905e+06\n",
       "2   3  1.437905e+06\n",
       "3   4  1.437094e+06\n",
       "4   5  1.352318e+06"
      ]
     },
     "execution_count": 151,
     "metadata": {},
     "output_type": "execute_result"
    }
   ],
   "source": [
    "sample_submission['Weekly_Sales']=prediction\n",
    "sample_submission.head()"
   ]
  },
  {
   "cell_type": "code",
   "execution_count": 152,
   "id": "880ba69d",
   "metadata": {},
   "outputs": [
    {
     "data": {
      "text/html": [
       "<div>\n",
       "<style scoped>\n",
       "    .dataframe tbody tr th:only-of-type {\n",
       "        vertical-align: middle;\n",
       "    }\n",
       "\n",
       "    .dataframe tbody tr th {\n",
       "        vertical-align: top;\n",
       "    }\n",
       "\n",
       "    .dataframe thead th {\n",
       "        text-align: right;\n",
       "    }\n",
       "</style>\n",
       "<table border=\"1\" class=\"dataframe\">\n",
       "  <thead>\n",
       "    <tr style=\"text-align: right;\">\n",
       "      <th></th>\n",
       "      <th>id</th>\n",
       "      <th>Weekly_Sales</th>\n",
       "    </tr>\n",
       "  </thead>\n",
       "  <tbody>\n",
       "    <tr>\n",
       "      <th>0</th>\n",
       "      <td>1</td>\n",
       "      <td>1.212380e+06</td>\n",
       "    </tr>\n",
       "    <tr>\n",
       "      <th>1</th>\n",
       "      <td>2</td>\n",
       "      <td>1.437905e+06</td>\n",
       "    </tr>\n",
       "    <tr>\n",
       "      <th>2</th>\n",
       "      <td>3</td>\n",
       "      <td>1.437905e+06</td>\n",
       "    </tr>\n",
       "    <tr>\n",
       "      <th>3</th>\n",
       "      <td>4</td>\n",
       "      <td>1.437094e+06</td>\n",
       "    </tr>\n",
       "    <tr>\n",
       "      <th>4</th>\n",
       "      <td>5</td>\n",
       "      <td>1.352318e+06</td>\n",
       "    </tr>\n",
       "    <tr>\n",
       "      <th>...</th>\n",
       "      <td>...</td>\n",
       "      <td>...</td>\n",
       "    </tr>\n",
       "    <tr>\n",
       "      <th>175</th>\n",
       "      <td>176</td>\n",
       "      <td>9.112672e+05</td>\n",
       "    </tr>\n",
       "    <tr>\n",
       "      <th>176</th>\n",
       "      <td>177</td>\n",
       "      <td>7.973756e+05</td>\n",
       "    </tr>\n",
       "    <tr>\n",
       "      <th>177</th>\n",
       "      <td>178</td>\n",
       "      <td>8.402186e+05</td>\n",
       "    </tr>\n",
       "    <tr>\n",
       "      <th>178</th>\n",
       "      <td>179</td>\n",
       "      <td>8.402186e+05</td>\n",
       "    </tr>\n",
       "    <tr>\n",
       "      <th>179</th>\n",
       "      <td>180</td>\n",
       "      <td>8.402186e+05</td>\n",
       "    </tr>\n",
       "  </tbody>\n",
       "</table>\n",
       "<p>180 rows × 2 columns</p>\n",
       "</div>"
      ],
      "text/plain": [
       "      id  Weekly_Sales\n",
       "0      1  1.212380e+06\n",
       "1      2  1.437905e+06\n",
       "2      3  1.437905e+06\n",
       "3      4  1.437094e+06\n",
       "4      5  1.352318e+06\n",
       "..   ...           ...\n",
       "175  176  9.112672e+05\n",
       "176  177  7.973756e+05\n",
       "177  178  8.402186e+05\n",
       "178  179  8.402186e+05\n",
       "179  180  8.402186e+05\n",
       "\n",
       "[180 rows x 2 columns]"
      ]
     },
     "execution_count": 152,
     "metadata": {},
     "output_type": "execute_result"
    }
   ],
   "source": [
    "sample_submission"
   ]
  },
  {
   "cell_type": "code",
   "execution_count": 153,
   "id": "28440449",
   "metadata": {},
   "outputs": [],
   "source": [
    "sample_submission.to_csv('submission4.csv', index=False)"
   ]
  },
  {
   "cell_type": "code",
   "execution_count": null,
   "id": "000b4ebd",
   "metadata": {},
   "outputs": [],
   "source": []
  }
 ],
 "metadata": {
  "kernelspec": {
   "display_name": "Python 3 (ipykernel)",
   "language": "python",
   "name": "python3"
  },
  "language_info": {
   "codemirror_mode": {
    "name": "ipython",
    "version": 3
   },
   "file_extension": ".py",
   "mimetype": "text/x-python",
   "name": "python",
   "nbconvert_exporter": "python",
   "pygments_lexer": "ipython3",
   "version": "3.9.7"
  }
 },
 "nbformat": 4,
 "nbformat_minor": 5
}
